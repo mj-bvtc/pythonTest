{
 "cells": [
  {
   "cell_type": "code",
   "execution_count": 8,
   "metadata": {},
   "outputs": [
    {
     "data": {
      "text/plain": [
       "\"['10S', '10S_1_RE', '10S_RE', '11S', '11S_1_RE', '12S_1_RE', '12S_D2', '12S_D2RE', '12S_D3', '12S_D3RE', '13S', '13S_1_RE', '13S_RE', '6S_D4', '7S', '7S_1_RE', '8S', '8S_1', '8S_1_RE', '8S_RE', '9S', '9S_1_RE', '9S_RE']\""
      ]
     },
     "execution_count": 8,
     "metadata": {},
     "output_type": "execute_result"
    }
   ],
   "source": [
    "import pandas as pd\n",
    "\n",
    "\n",
    "file = r\"C:\\Users\\mkreidler\\Desktop\\make_list.xlsx\"\n",
    "\n",
    "df = pd.read_excel(file)\n",
    "\n",
    "priorities = df[\"priority\"].tolist()\n",
    "\n",
    "str(priorities)"
   ]
  },
  {
   "cell_type": "code",
   "execution_count": null,
   "metadata": {},
   "outputs": [],
   "source": []
  }
 ],
 "metadata": {
  "kernelspec": {
   "display_name": "Python 3",
   "language": "python",
   "name": "python3"
  },
  "language_info": {
   "codemirror_mode": {
    "name": "ipython",
    "version": 3
   },
   "file_extension": ".py",
   "mimetype": "text/x-python",
   "name": "python",
   "nbconvert_exporter": "python",
   "pygments_lexer": "ipython3",
   "version": "3.6.5"
  }
 },
 "nbformat": 4,
 "nbformat_minor": 2
}
