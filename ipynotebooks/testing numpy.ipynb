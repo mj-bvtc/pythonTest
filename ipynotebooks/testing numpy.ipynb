{
 "cells": [
  {
   "cell_type": "code",
   "execution_count": 21,
   "metadata": {
    "collapsed": true
   },
   "outputs": [],
   "source": [
    "result = 5+2+2+1+2+5+5+15+6+6"
   ]
  },
  {
   "cell_type": "code",
   "execution_count": 22,
   "metadata": {},
   "outputs": [
    {
     "name": "stdout",
     "output_type": "stream",
     "text": [
      "49\n"
     ]
    }
   ],
   "source": [
    "print(result)\n",
    "temp = []"
   ]
  },
  {
   "cell_type": "code",
   "execution_count": 23,
   "metadata": {},
   "outputs": [
    {
     "name": "stdout",
     "output_type": "stream",
     "text": [
      "49.124\n",
      "49.248000000000005\n",
      "49.37200000000001\n",
      "49.49600000000001\n",
      "49.62000000000001\n",
      "49.744000000000014\n",
      "49.868000000000016\n",
      "49.99200000000002\n",
      "50.11600000000002\n",
      "50.24000000000002\n",
      "50.364000000000026\n",
      "50.48800000000003\n",
      "50.61200000000003\n",
      "50.73600000000003\n",
      "50.860000000000035\n",
      "50.98400000000004\n",
      "51.10800000000004\n",
      "51.23200000000004\n",
      "51.356000000000044\n",
      "51.48000000000005\n",
      "51.60400000000005\n",
      "51.72800000000005\n",
      "51.852000000000054\n",
      "51.976000000000056\n",
      "52.10000000000006\n",
      "52.22400000000006\n",
      "52.34800000000006\n",
      "52.472000000000065\n",
      "52.59600000000007\n",
      "52.72000000000007\n",
      "52.84400000000007\n",
      "52.968000000000075\n",
      "53.09200000000008\n"
     ]
    }
   ],
   "source": [
    "while result <= 53:\n",
    "    result += .124\n",
    "    print(result)\n",
    "    temp.append(result)"
   ]
  },
  {
   "cell_type": "code",
   "execution_count": 24,
   "metadata": {},
   "outputs": [
    {
     "name": "stdout",
     "output_type": "stream",
     "text": [
      "[ 49.124  49.248  49.372  49.496  49.62   49.744  49.868  49.992  50.116\n",
      "  50.24   50.364  50.488  50.612  50.736  50.86   50.984  51.108  51.232\n",
      "  51.356  51.48   51.604  51.728  51.852  51.976  52.1    52.224  52.348\n",
      "  52.472  52.596  52.72   52.844  52.968  53.092]\n",
      "[ 196.496  196.992  197.488  197.984  198.48   198.976  199.472  199.968\n",
      "  200.464  200.96   201.456  201.952  202.448  202.944  203.44   203.936\n",
      "  204.432  204.928  205.424  205.92   206.416  206.912  207.408  207.904\n",
      "  208.4    208.896  209.392  209.888  210.384  210.88   211.376  211.872\n",
      "  212.368]\n"
     ]
    },
    {
     "data": {
      "text/plain": [
       "6746.2560000000058"
      ]
     },
     "execution_count": 24,
     "metadata": {},
     "output_type": "execute_result"
    }
   ],
   "source": [
    "import numpy as np\n",
    "\n",
    "temp_arr = np.array(temp)\n",
    "print(temp_arr)\n",
    "\n",
    "temp_arr *= 4\n",
    "print(temp_arr)\n",
    "\n",
    "temp_arr.sum()"
   ]
  },
  {
   "cell_type": "code",
   "execution_count": 25,
   "metadata": {},
   "outputs": [
    {
     "data": {
      "text/plain": [
       "[196.496,\n",
       " 196.99200000000002,\n",
       " 197.48800000000003,\n",
       " 197.98400000000004,\n",
       " 198.48000000000005,\n",
       " 198.97600000000006,\n",
       " 199.47200000000007,\n",
       " 199.96800000000007,\n",
       " 200.46400000000008,\n",
       " 200.9600000000001,\n",
       " 201.4560000000001,\n",
       " 201.9520000000001,\n",
       " 202.44800000000012,\n",
       " 202.94400000000013,\n",
       " 203.44000000000014,\n",
       " 203.93600000000015,\n",
       " 204.43200000000016,\n",
       " 204.92800000000017,\n",
       " 205.42400000000018,\n",
       " 205.9200000000002,\n",
       " 206.4160000000002,\n",
       " 206.9120000000002,\n",
       " 207.40800000000021,\n",
       " 207.90400000000022,\n",
       " 208.40000000000023,\n",
       " 208.89600000000024,\n",
       " 209.39200000000025,\n",
       " 209.88800000000026,\n",
       " 210.38400000000027,\n",
       " 210.88000000000028,\n",
       " 211.3760000000003,\n",
       " 211.8720000000003,\n",
       " 212.3680000000003]"
      ]
     },
     "execution_count": 25,
     "metadata": {},
     "output_type": "execute_result"
    }
   ],
   "source": [
    "\n",
    "temp_arr.tolist()\n"
   ]
  },
  {
   "cell_type": "code",
   "execution_count": 26,
   "metadata": {
    "collapsed": true
   },
   "outputs": [],
   "source": [
    "matt = [1,2,3,4,5]"
   ]
  },
  {
   "cell_type": "code",
   "execution_count": 27,
   "metadata": {
    "collapsed": true
   },
   "outputs": [],
   "source": [
    "cole = [34,25,64,77,86]"
   ]
  },
  {
   "cell_type": "code",
   "execution_count": 29,
   "metadata": {},
   "outputs": [
    {
     "name": "stdout",
     "output_type": "stream",
     "text": [
      "[[ 1  2  3  4  5]\n",
      " [34 25 64 77 86]]\n"
     ]
    }
   ],
   "source": [
    "flop = np.array([matt, cole])\n",
    "print(flop)"
   ]
  },
  {
   "cell_type": "code",
   "execution_count": 31,
   "metadata": {},
   "outputs": [
    {
     "name": "stdout",
     "output_type": "stream",
     "text": [
      "[35 27 67 81 91]\n"
     ]
    }
   ],
   "source": [
    "print(np.sum(flop, axis=0))"
   ]
  },
  {
   "cell_type": "code",
   "execution_count": 32,
   "metadata": {},
   "outputs": [
    {
     "name": "stdout",
     "output_type": "stream",
     "text": [
      "[ 15 286]\n"
     ]
    }
   ],
   "source": [
    "print(np.sum(flop, axis=1))"
   ]
  },
  {
   "cell_type": "code",
   "execution_count": 33,
   "metadata": {
    "collapsed": true
   },
   "outputs": [],
   "source": [
    "matt = np.array(matt)\n",
    "cole = np.array(cole)"
   ]
  },
  {
   "cell_type": "code",
   "execution_count": 34,
   "metadata": {},
   "outputs": [
    {
     "data": {
      "text/plain": [
       "array([ 34,  50, 192, 308, 430])"
      ]
     },
     "execution_count": 34,
     "metadata": {},
     "output_type": "execute_result"
    }
   ],
   "source": [
    "matt * cole"
   ]
  },
  {
   "cell_type": "code",
   "execution_count": null,
   "metadata": {
    "collapsed": true
   },
   "outputs": [],
   "source": []
  },
  {
   "cell_type": "code",
   "execution_count": null,
   "metadata": {
    "collapsed": true
   },
   "outputs": [],
   "source": []
  },
  {
   "cell_type": "code",
   "execution_count": null,
   "metadata": {
    "collapsed": true
   },
   "outputs": [],
   "source": []
  },
  {
   "cell_type": "code",
   "execution_count": null,
   "metadata": {
    "collapsed": true
   },
   "outputs": [],
   "source": []
  },
  {
   "cell_type": "code",
   "execution_count": null,
   "metadata": {
    "collapsed": true
   },
   "outputs": [],
   "source": []
  },
  {
   "cell_type": "code",
   "execution_count": null,
   "metadata": {
    "collapsed": true
   },
   "outputs": [],
   "source": []
  },
  {
   "cell_type": "code",
   "execution_count": null,
   "metadata": {
    "collapsed": true
   },
   "outputs": [],
   "source": []
  },
  {
   "cell_type": "code",
   "execution_count": null,
   "metadata": {
    "collapsed": true
   },
   "outputs": [],
   "source": [
    "\n"
   ]
  }
 ],
 "metadata": {
  "kernelspec": {
   "display_name": "Python 3",
   "language": "python",
   "name": "python3"
  },
  "language_info": {
   "codemirror_mode": {
    "name": "ipython",
    "version": 3
   },
   "file_extension": ".py",
   "mimetype": "text/x-python",
   "name": "python",
   "nbconvert_exporter": "python",
   "pygments_lexer": "ipython3",
   "version": "3.6.1"
  }
 },
 "nbformat": 4,
 "nbformat_minor": 2
}
