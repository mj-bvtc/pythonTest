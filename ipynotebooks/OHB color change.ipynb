{
 "cells": [
  {
   "cell_type": "code",
   "execution_count": 15,
   "metadata": {},
   "outputs": [],
   "source": [
    "import pandas as pd\n",
    "\n",
    "\n",
    "file = r\"C:\\Users\\mkreidler\\Desktop\\oldhome.xlsx\"\n",
    "\n",
    "df = pd.read_excel(file)\n",
    "\n",
    "color = {\"TAN 20\" : \"A\", \"GREY 21\" : \"C\", \"GREY 23\" : \"B\"}\n",
    "\n",
    "def get_color_code(x):\n",
    "    return color[x]\n",
    "\n",
    "df[\"color_code\"] = df.GlazeColor.apply(get_color_code)\n",
    "\n",
    "df[\"NewName\"] = df[\"Block ID\"] + df.color_code\n",
    "\n",
    "result = df[[\"NewName\"]]\n",
    "\n",
    "result.to_excel(r\"C:\\Users\\mkreidler\\Desktop\\oldhomeresult.xlsx\")"
   ]
  },
  {
   "cell_type": "code",
   "execution_count": null,
   "metadata": {},
   "outputs": [],
   "source": []
  }
 ],
 "metadata": {
  "kernelspec": {
   "display_name": "Python 3",
   "language": "python",
   "name": "python3"
  },
  "language_info": {
   "codemirror_mode": {
    "name": "ipython",
    "version": 3
   },
   "file_extension": ".py",
   "mimetype": "text/x-python",
   "name": "python",
   "nbconvert_exporter": "python",
   "pygments_lexer": "ipython3",
   "version": "3.6.5"
  }
 },
 "nbformat": 4,
 "nbformat_minor": 2
}
