{
 "cells": [
  {
   "cell_type": "code",
   "execution_count": 38,
   "metadata": {},
   "outputs": [],
   "source": [
    "import pandas as pd\n",
    "\n",
    "\n",
    "mc = r\"C:\\Users\\mkreidler\\Desktop\\register_mark.xlsx\"\n",
    "ak = r\"C:\\Users\\mkreidler\\Desktop\\register_ak.xlsx\"\n",
    "ct = r\"C:\\Users\\mkreidler\\Desktop\\ctrac_mk.xlsx\"\n",
    "\n",
    "mc = pd.read_excel(mc)\n",
    "ak = pd.read_excel(ak)\n",
    "ct = pd.read_excel(ct)\n",
    "\n",
    "# cleaning data\n",
    "ct = ct[(ct.priority != \"VOID\")&(ct.void != 1)]\n",
    "ak = ak[(ak.qty>0)&(ak.trc.isna() == False)]\n",
    "mc[(mc.include>0)&(mc.trc.isna() == False)]\n",
    "\n",
    "# make sure all have bvtc name\n",
    "mc[\"bvtc\"] = mc.bv.map(str) + '-' + mc.color.map(str)\n",
    "ak[\"bvtc\"] = ak.bv.map(str) + '-' + ak.color.map(str)\n",
    "\n",
    "# cleaning the names\n",
    "def clean(x):\n",
    "    a = str(x).upper()\n",
    "    b = a.strip()\n",
    "    c = b.replace(\"-E\", \"-A\")\n",
    "    return c\n",
    "\n",
    "mc.bvtc = mc.bvtc.apply(clean)\n",
    "ak.bvtc = ak.bvtc.apply(clean)\n",
    "ct.bvtc = ct.bvtc.apply(clean)\n",
    "\n",
    "# adding a column to show what table they originate from \n",
    "mc[\"mc\"] = \"mc\"\n",
    "ak[\"ak\"] = \"ak\"\n",
    "ct[\"ct\"] = \"ct\"\n",
    "\n",
    "# adding instances/enumeration/cumcount\n",
    "mc[\"enum\"] = mc.groupby(\"bvtc\").cumcount() + 1\n",
    "mc[\"instance\"] = mc.bvtc.map(str) + \"[\" + mc.enum.map(str) + \"]\"\n",
    "\n",
    "ak[\"enum\"] = ak.groupby(\"bvtc\").cumcount() + 1\n",
    "ak[\"instance\"] = ak.bvtc.map(str) + \"[\" + ak.enum.map(str) + \"]\"\n",
    "\n",
    "ct[\"enum\"] = ct.groupby(\"bvtc\").cumcount() + 1\n",
    "ct[\"instance\"] = ct.bvtc.map(str) + \"[\" + ct.enum.map(str) + \"]\"\n",
    "\n",
    "### COMPARISONS ###\n",
    "\n",
    "# ak online vs. mark\n",
    "\n",
    "reg = ak.merge(mc, on=\"instance\", how=\"outer\")\n",
    "no_match = reg.loc[(reg.mc.isna())|(reg.ak.isna())]\n",
    "len(no_match)\n",
    "\n",
    "merge = reg.merge(ct, on=\"instance\", how=\"outer\")\n",
    "\n",
    "merge.to_excel(r\"C:\\Users\\mkreidler\\Desktop\\mcakct.xlsx\")"
   ]
  },
  {
   "cell_type": "code",
   "execution_count": 36,
   "metadata": {},
   "outputs": [],
   "source": []
  },
  {
   "cell_type": "code",
   "execution_count": null,
   "metadata": {},
   "outputs": [],
   "source": []
  }
 ],
 "metadata": {
  "kernelspec": {
   "display_name": "Python 3",
   "language": "python",
   "name": "python3"
  },
  "language_info": {
   "codemirror_mode": {
    "name": "ipython",
    "version": 3
   },
   "file_extension": ".py",
   "mimetype": "text/x-python",
   "name": "python",
   "nbconvert_exporter": "python",
   "pygments_lexer": "ipython3",
   "version": "3.6.8"
  }
 },
 "nbformat": 4,
 "nbformat_minor": 2
}
