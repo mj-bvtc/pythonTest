{
 "cells": [
  {
   "cell_type": "code",
   "execution_count": 36,
   "metadata": {},
   "outputs": [
    {
     "name": "stdout",
     "output_type": "stream",
     "text": [
      "project A created\n"
     ]
    },
    {
     "data": {
      "text/plain": [
       "[datetime.date(2019, 5, 25),\n",
       " datetime.date(2019, 6, 13),\n",
       " datetime.date(2019, 7, 2)]"
      ]
     },
     "execution_count": 36,
     "metadata": {},
     "output_type": "execute_result"
    }
   ],
   "source": [
    "import pandas as pd\n",
    "import datetime\n",
    "import math\n",
    "\n",
    "\n",
    "drafters = [\"Andy\", \"Ashwini\", \"Cody\"]\n",
    "num_drafters = len(drafters)\n",
    "\n",
    "projects_dwgs = {\"A\":20, \"B\":342, \"C\":75}\n",
    "\n",
    "project_order = [\"A\", \"B\", \"C\"]\n",
    "\n",
    "project_units = {\"A\":150, \"B\": 360, \"C\":3000 }\n",
    "\n",
    "\n",
    "class Project:\n",
    "    def __init__(self, name, num_dwgs, num_units, activation_date=None, team=[]):\n",
    "        self.name = name\n",
    "        self.num_dwgs = num_dwgs\n",
    "        self.analysis_days = 5\n",
    "        self.num_units = num_units\n",
    "        self.team = team\n",
    "        self.activation_date = activation_date\n",
    "        print(f\"project {self.name} created\")\n",
    "        self.start = None\n",
    "        self.finish = None\n",
    "        self.submittals = []\n",
    "        self.num_teammates = None\n",
    "        self.workdays = None\n",
    "        self.dwg_per_day = 1\n",
    "        self.dwg_max_per_sub = 60\n",
    "        self.QC_days = 5\n",
    "        \n",
    "    def calc_num_teammates(self):\n",
    "        self.num_teammates = len(self.team)\n",
    "        return self.num_teammates\n",
    "        \n",
    "    def calc_workdays(self):\n",
    "        self.calc_num_teammates()\n",
    "        self.workdays =  math.ceil((self.num_dwgs/(self.num_teammates*self.dwg_per_day)+self.QC_days))\n",
    "        #print(self.workdays)\n",
    "        return self.workdays\n",
    "    \n",
    "    def calc_submittals(self):\n",
    "        num_sub = math.ceil(self.num_dwgs/self.dwg_max_per_sub)\n",
    "        dwg_per = self.num_dwgs/num_sub\n",
    "        duration_sub = math.ceil((dwg_per/(self.num_teammates*self.dwg_per_day)+self.QC_days))\n",
    "        first = self.activation_date + datetime.timedelta(days = duration_sub)\n",
    "        date = self.activation_date\n",
    "        for s in range(num_sub):\n",
    "            date = date + datetime.timedelta(days = duration_sub)\n",
    "            self.submittals.append(date.date())\n",
    "        \n",
    "        return self.submittals\n",
    "        \n",
    "        \n",
    "def make_projects():\n",
    "    projects = [\"A\", \"B\", \"C\"]\n",
    "    \n",
    "    a = Project(\"A\", 20, 150, datetime.datetime.now())\n",
    "    b = Project(\"B\", 342, 360, datetime.datetime(2019, 1,1))\n",
    "    c = Project(\"C\", 75, 3000, datetime.datetime(2019, 2,5))\n",
    "        \n",
    "\n",
    "#make_projects()\n",
    "team_a = [\"Andy\", \"Ashwini\", \"Cody\", \"Rick\"]\n",
    "a = Project(\"A\", 157, 973, datetime.datetime(2019,5,6), team_a )\n",
    "a.calc_workdays()\n",
    "a.calc_submittals()"
   ]
  },
  {
   "cell_type": "code",
   "execution_count": null,
   "metadata": {},
   "outputs": [],
   "source": []
  }
 ],
 "metadata": {
  "kernelspec": {
   "display_name": "Python 3",
   "language": "python",
   "name": "python3"
  },
  "language_info": {
   "codemirror_mode": {
    "name": "ipython",
    "version": 3
   },
   "file_extension": ".py",
   "mimetype": "text/x-python",
   "name": "python",
   "nbconvert_exporter": "python",
   "pygments_lexer": "ipython3",
   "version": "3.6.5"
  }
 },
 "nbformat": 4,
 "nbformat_minor": 2
}
