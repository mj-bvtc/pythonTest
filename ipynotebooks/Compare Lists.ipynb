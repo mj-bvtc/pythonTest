{
 "cells": [
  {
   "cell_type": "code",
   "execution_count": 10,
   "metadata": {},
   "outputs": [],
   "source": [
    "\n",
    "\n",
    "unchecked = open(r\"C:\\Users\\mkreidler\\Desktop\\unchecked.txt\", \"r\")\n",
    "checked = open(r\"C:\\Users\\mkreidler\\Desktop\\checked.txt\", \"r\")\n",
    "\n",
    "a = []\n",
    "b = []\n",
    "c = []\n",
    "for line in unchecked:\n",
    "    u = line.strip()\n",
    "    a.append(u)\n",
    "    \n",
    "for line in checked:\n",
    "    u = line.strip()\n",
    "    b.append(u)\n",
    "\n",
    "output = open(r\"C:\\Users\\mkreidler\\Desktop\\output.txt\", \"w\")    \n",
    "    \n",
    "#for item in a:\n",
    "#    if item not in b:\n",
    " #       c.append(item)\n",
    "  #      output.write(item)\n",
    "   #     output.write(\"\\n\")\n",
    "        \n",
    "        \n",
    "output.close()\n",
    "unchecked.close()\n",
    "checked.close()"
   ]
  }
 ],
 "metadata": {
  "kernelspec": {
   "display_name": "Python 3",
   "language": "python",
   "name": "python3"
  },
  "language_info": {
   "codemirror_mode": {
    "name": "ipython",
    "version": 3
   },
   "file_extension": ".py",
   "mimetype": "text/x-python",
   "name": "python",
   "nbconvert_exporter": "python",
   "pygments_lexer": "ipython3",
   "version": "3.6.1"
  }
 },
 "nbformat": 4,
 "nbformat_minor": 2
}
