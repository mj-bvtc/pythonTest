{
 "cells": [
  {
   "cell_type": "code",
   "execution_count": 15,
   "metadata": {},
   "outputs": [
    {
     "data": {
      "text/plain": [
       "44"
      ]
     },
     "execution_count": 15,
     "metadata": {},
     "output_type": "execute_result"
    }
   ],
   "source": [
    "import math as m \n",
    "\n",
    "def calc_draft_hours(num_dwgs, num_resources, avg_dwg_time=4, sections=0, settings=0):\n",
    "    return ((num_dwgs*avg_dwg_time) + (sections + settings))/num_resources\n",
    "\n",
    "def calc_bus_days(num_dwgs, num_resources, avg_dwg_time=4, sections=0, settings=0):\n",
    "    return m.ceil(calc_draft_hours(num_dwgs, num_resources, avg_dwg_time=4, sections=0, settings=0)/8)\n",
    "\n",
    "calc_bus_days(175, 2)\n"
   ]
  },
  {
   "cell_type": "code",
   "execution_count": null,
   "metadata": {},
   "outputs": [],
   "source": []
  }
 ],
 "metadata": {
  "kernelspec": {
   "display_name": "Python 3",
   "language": "python",
   "name": "python3"
  },
  "language_info": {
   "codemirror_mode": {
    "name": "ipython",
    "version": 3
   },
   "file_extension": ".py",
   "mimetype": "text/x-python",
   "name": "python",
   "nbconvert_exporter": "python",
   "pygments_lexer": "ipython3",
   "version": "3.6.5"
  }
 },
 "nbformat": 4,
 "nbformat_minor": 2
}
