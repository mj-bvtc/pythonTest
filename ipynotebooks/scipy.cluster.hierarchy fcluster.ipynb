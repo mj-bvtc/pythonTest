{
 "cells": [
  {
   "cell_type": "code",
   "execution_count": 74,
   "metadata": {},
   "outputs": [
    {
     "data": {
      "text/plain": [
       "136800"
      ]
     },
     "execution_count": 74,
     "metadata": {},
     "output_type": "execute_result"
    }
   ],
   "source": [
    "# zones times dots\n",
    "38*3600"
   ]
  },
  {
   "cell_type": "code",
   "execution_count": 75,
   "metadata": {},
   "outputs": [
    {
     "data": {
      "text/plain": [
       "950"
      ]
     },
     "execution_count": 75,
     "metadata": {},
     "output_type": "execute_result"
    }
   ],
   "source": [
    "from scipy.cluster.hierarchy import fcluster\n",
    "import pandas as pd\n",
    "import numpy as np\n",
    "\n",
    "\n",
    "file = r\"V:\\Projects\\35 East Wacker\\TerraCotta\\_Preliminary Models\\2021\\35 Wacker 2020 N + E_multisheet.xlsx\"\n",
    "\n",
    "df = pd.read_excel(file, sheet_name = \"Main\")\n",
    "from scipy.cluster.hierarchy import dendrogram, linkage\n",
    "\n",
    "# generate the linkage matrix\n",
    "X = df.loc[:,[\"x\",\"y\"]].values\n",
    "Z = linkage(X,\n",
    "            method='complete',  # dissimilarity metric: max distance across all pairs of \n",
    "                                # records between two clusters\n",
    "            metric='euclidean'\n",
    "    )                           # you can peek into the Z matrix to see how clusters are \n",
    "                                # merged at each iteration of the algorithm\n",
    "\n",
    "\n",
    "\n",
    "max_d = 73.6\n",
    "\n",
    "clusters = fcluster(Z, max_d, criterion='distance')\n",
    "\n",
    "clusters\n",
    "\n",
    "num_clusters = len(set(clusters))\n",
    "\n",
    "num_clusters\n"
   ]
  },
  {
   "cell_type": "code",
   "execution_count": 76,
   "metadata": {},
   "outputs": [
    {
     "data": {
      "text/plain": [
       "DBSCAN(algorithm='auto', eps=34, leaf_size=30, metric='euclidean',\n",
       "    metric_params=None, min_samples=1, n_jobs=None, p=None)"
      ]
     },
     "execution_count": 76,
     "metadata": {},
     "output_type": "execute_result"
    }
   ],
   "source": [
    "from sklearn.cluster import DBSCAN\n",
    "\n",
    "\n",
    "db = DBSCAN(eps=34, \n",
    "       min_samples=1, \n",
    "       metric='euclidean', \n",
    "       metric_params=None, \n",
    "       algorithm='auto', \n",
    "       leaf_size=30, \n",
    "       p=None, \n",
    "       n_jobs=None).fit(Z)\n",
    "\n",
    "db"
   ]
  },
  {
   "cell_type": "code",
   "execution_count": 77,
   "metadata": {},
   "outputs": [
    {
     "ename": "TypeError",
     "evalue": "__init__() got an unexpected keyword argument 'distance_threshold'",
     "output_type": "error",
     "traceback": [
      "\u001b[1;31m---------------------------------------------------------------------------\u001b[0m",
      "\u001b[1;31mTypeError\u001b[0m                                 Traceback (most recent call last)",
      "\u001b[1;32m<ipython-input-77-d3f8dfdede0b>\u001b[0m in \u001b[0;36m<module>\u001b[1;34m()\u001b[0m\n\u001b[0;32m      4\u001b[0m \u001b[1;31m#               [4, 2], [4, 4], [4, 0]])\u001b[0m\u001b[1;33m\u001b[0m\u001b[1;33m\u001b[0m\u001b[0m\n\u001b[0;32m      5\u001b[0m clustering = AgglomerativeClustering(n_clusters=None, \n\u001b[1;32m----> 6\u001b[1;33m                                      distance_threshold=None).fit(X)\n\u001b[0m\u001b[0;32m      7\u001b[0m \u001b[1;33m\u001b[0m\u001b[0m\n\u001b[0;32m      8\u001b[0m \u001b[0mAgglomerativeClustering\u001b[0m\u001b[1;33m(\u001b[0m\u001b[1;33m)\u001b[0m\u001b[1;33m\u001b[0m\u001b[0m\n",
      "\u001b[1;31mTypeError\u001b[0m: __init__() got an unexpected keyword argument 'distance_threshold'"
     ]
    }
   ],
   "source": [
    "from sklearn.cluster import AgglomerativeClustering\n",
    "import numpy as np\n",
    "#X = np.array([[1, 2], [1, 4], [1, 0],\n",
    "#               [4, 2], [4, 4], [4, 0]])\n",
    "clustering = AgglomerativeClustering(n_clusters=None, \n",
    "                                     distance_threshold=None).fit(X)\n",
    "\n",
    "AgglomerativeClustering()\n",
    "\n",
    "result = clustering.labels_\n",
    "\n",
    "#for x in result:\n",
    "#    print(x)\n",
    "    \n",
    "len(set(result))"
   ]
  },
  {
   "cell_type": "code",
   "execution_count": null,
   "metadata": {},
   "outputs": [],
   "source": [
    "import numpy as np\n",
    "import scipy.spatial as spatial\n",
    "\n",
    "points = X\n",
    "point_tree = spatial.cKDTree(points)\n",
    "# This finds the index of all points within distance 1 of [1.5,2.5].\n",
    "print(point_tree.query_ball_point([1.5, 2.5], 1))\n",
    "# [0]\n",
    "\n",
    "# This gives the point in the KDTree which is within 1 unit of [1.5, 2.5]\n",
    "print(point_tree.data[point_tree.query_ball_point([1.5, 2.5], 1)])\n",
    "# [[1 2]]\n",
    "\n",
    "# More than one point is within 3 units of [1.5, 1.6].\n",
    "print(point_tree.data[point_tree.query_ball_point([1.5, 1.6], 3)])\n",
    "# [[1 2]\n",
    "#  [3 4]]"
   ]
  },
  {
   "cell_type": "code",
   "execution_count": 79,
   "metadata": {},
   "outputs": [
    {
     "name": "stdout",
     "output_type": "stream",
     "text": [
      "<scipy.spatial.ckdtree.cKDTree object at 0x00000000088505C0>\n"
     ]
    },
    {
     "data": {
      "image/png": "[encoded data removed]",
      "text/plain": [
       "<Figure size 432x288 with 1 Axes>"
      ]
     },
     "metadata": {},
     "output_type": "display_data"
    }
   ],
   "source": [
    "import numpy as np\n",
    "import scipy.spatial as spatial\n",
    "import matplotlib.pyplot as plt\n",
    "np.random.seed(2015)\n",
    "\n",
    "centers = [(1, 2), (3, 4), (4, 5)]\n",
    "points = np.concatenate([pt+np.random.random((10, 2))*0.5 \n",
    "                         for pt in centers])\n",
    "point_tree = spatial.cKDTree(points)\n",
    "#print(point_tree)\n",
    "cmap = plt.get_cmap('copper')\n",
    "colors = cmap(np.linspace(0, 1, len(centers)))\n",
    "for center, group, color  in zip(centers, point_tree.query_ball_tree(centers, 0.5), colors):\n",
    "   cluster = point_tree.data[group]\n",
    "   x, y = cluster[:, 0], cluster[:, 1]\n",
    "   plt.scatter(x, y, c=color, s=200)\n",
    "\n",
    "plt.show()"
   ]
  },
  {
   "cell_type": "code",
   "execution_count": 95,
   "metadata": {},
   "outputs": [
    {
     "data": {
      "text/plain": [
       "3633"
      ]
     },
     "execution_count": 95,
     "metadata": {},
     "output_type": "execute_result"
    }
   ],
   "source": [
    "import numpy as np\n",
    "import scipy.spatial as spatial\n",
    "import matplotlib.pyplot as plt\n",
    "np.random.seed(2015)\n",
    "\n",
    "points = X\n",
    "\n",
    "tree = spatial.cKDTree(points)\n",
    "\n",
    "a = tree.query_ball_point(points, 34)\n",
    "\n",
    "len(a)"
   ]
  },
  {
   "cell_type": "code",
   "execution_count": 96,
   "metadata": {},
   "outputs": [
    {
     "ename": "NameError",
     "evalue": "name 'N' is not defined",
     "output_type": "error",
     "traceback": [
      "\u001b[1;31m---------------------------------------------------------------------------\u001b[0m",
      "\u001b[1;31mNameError\u001b[0m                                 Traceback (most recent call last)",
      "\u001b[1;32m<ipython-input-96-a0334a227757>\u001b[0m in \u001b[0;36m<module>\u001b[1;34m()\u001b[0m\n\u001b[0;32m     12\u001b[0m \u001b[1;33m\u001b[0m\u001b[0m\n\u001b[0;32m     13\u001b[0m \u001b[0mcenters\u001b[0m \u001b[1;33m=\u001b[0m \u001b[1;33m[\u001b[0m\u001b[1;33m[\u001b[0m\u001b[1;36m1\u001b[0m\u001b[1;33m,\u001b[0m \u001b[1;36m1\u001b[0m\u001b[1;33m,\u001b[0m\u001b[1;36m1\u001b[0m\u001b[1;33m]\u001b[0m\u001b[1;33m,\u001b[0m \u001b[1;33m[\u001b[0m\u001b[1;33m-\u001b[0m\u001b[1;36m1\u001b[0m\u001b[1;33m,\u001b[0m \u001b[1;33m-\u001b[0m\u001b[1;36m1\u001b[0m\u001b[1;33m,\u001b[0m\u001b[1;36m1\u001b[0m\u001b[1;33m]\u001b[0m\u001b[1;33m,\u001b[0m \u001b[1;33m[\u001b[0m\u001b[1;36m1\u001b[0m\u001b[1;33m,\u001b[0m \u001b[1;33m-\u001b[0m\u001b[1;36m1\u001b[0m\u001b[1;33m,\u001b[0m\u001b[1;36m1\u001b[0m\u001b[1;33m]\u001b[0m\u001b[1;33m]\u001b[0m\u001b[1;33m\u001b[0m\u001b[0m\n\u001b[1;32m---> 14\u001b[1;33m X,_ = make_blobs(n_samples=N, centers=centers, cluster_std=0.4,\n\u001b[0m\u001b[0;32m     15\u001b[0m                             random_state=0)\n\u001b[0;32m     16\u001b[0m \u001b[0mcluster\u001b[0m\u001b[1;33m(\u001b[0m\u001b[0mX\u001b[0m\u001b[1;33m,\u001b[0m\u001b[0mepsilon\u001b[0m\u001b[1;33m,\u001b[0m\u001b[0mN\u001b[0m\u001b[1;33m)\u001b[0m\u001b[1;33m\u001b[0m\u001b[0m\n",
      "\u001b[1;31mNameError\u001b[0m: name 'N' is not defined"
     ]
    }
   ],
   "source": [
    "from sklearn.cluster import DBSCAN\n",
    "from sklearn.datasets.samples_generator import make_blobs\n",
    "import networkx as nx\n",
    "import scipy.spatial as sp\n",
    "\n",
    "def cluster(data, epsilon,N): #DBSCAN, euclidean distance\n",
    "    db     = DBSCAN(eps=epsilon, min_samples=N).fit(data)\n",
    "    labels = db.labels_ #labels of the found clusters\n",
    "    n_clusters = len(set(labels)) - (1 if -1 in labels else 0) #number of clusters\n",
    "    clusters   = [data[labels == i] for i in range(n_clusters)] #list of clusters\n",
    "    return clusters, n_clusters\n",
    "\n",
    "centers = [[1, 1,1], [-1, -1,1], [1, -1,1]]\n",
    "X,_ = make_blobs(n_samples=N, centers=centers, cluster_std=0.4,\n",
    "                            random_state=0)\n",
    "cluster(X,epsilon,N)"
   ]
  },
  {
   "cell_type": "code",
   "execution_count": null,
   "metadata": {},
   "outputs": [],
   "source": []
  }
 ],
 "metadata": {
  "kernelspec": {
   "display_name": "Python 3",
   "language": "python",
   "name": "python3"
  },
  "language_info": {
   "codemirror_mode": {
    "name": "ipython",
    "version": 3
   },
   "file_extension": ".py",
   "mimetype": "text/x-python",
   "name": "python",
   "nbconvert_exporter": "python",
   "pygments_lexer": "ipython3",
   "version": "3.6.5"
  }
 },
 "nbformat": 4,
 "nbformat_minor": 2
}
