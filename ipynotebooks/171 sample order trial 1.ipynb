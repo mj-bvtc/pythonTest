{
 "cells": [
  {
   "cell_type": "code",
   "execution_count": 4,
   "metadata": {},
   "outputs": [],
   "source": [
    "import pandas as pd\n",
    "\n",
    "file = r\"C:\\Users\\mkreidler\\Desktop\\PS171_expanded_groups2.xlsx\"\n",
    "\n",
    "df = pd.read_excel(file)\n",
    "\n",
    "df = df.sort_values([\"y\", \"x\"], ascending=[False,True])\n",
    "\n",
    "df.to_excel(r\"C:\\Users\\mkreidler\\Desktop\\PS171_sampleorder.xlsx\")"
   ]
  },
  {
   "cell_type": "code",
   "execution_count": 7,
   "metadata": {},
   "outputs": [],
   "source": [
    "import pandas as pd\n",
    "\n",
    "file = r\"C:\\Users\\mkreidler\\Desktop\\sample_order_171_3.xlsx\"\n",
    "\n",
    "df = pd.read_excel(file)\n",
    "\n",
    "df = df.sort_values([\"y\", \"x\"], ascending=[False,True]).reset_index()\n",
    "\n",
    "df.to_excel(r\"C:\\Users\\mkreidler\\Desktop\\PS171_sampleorder_3.xlsx\")\n",
    "\n"
   ]
  },
  {
   "cell_type": "code",
   "execution_count": null,
   "metadata": {},
   "outputs": [],
   "source": []
  }
 ],
 "metadata": {
  "kernelspec": {
   "display_name": "Python 3",
   "language": "python",
   "name": "python3"
  },
  "language_info": {
   "codemirror_mode": {
    "name": "ipython",
    "version": 3
   },
   "file_extension": ".py",
   "mimetype": "text/x-python",
   "name": "python",
   "nbconvert_exporter": "python",
   "pygments_lexer": "ipython3",
   "version": "3.6.5"
  }
 },
 "nbformat": 4,
 "nbformat_minor": 2
}
