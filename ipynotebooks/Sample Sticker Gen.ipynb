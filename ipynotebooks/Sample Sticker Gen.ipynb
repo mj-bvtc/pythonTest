{
 "cells": [
  {
   "cell_type": "code",
   "execution_count": 22,
   "metadata": {},
   "outputs": [
    {
     "data": {
      "text/html": [
       "<div>\n",
       "<style scoped>\n",
       "    .dataframe tbody tr th:only-of-type {\n",
       "        vertical-align: middle;\n",
       "    }\n",
       "\n",
       "    .dataframe tbody tr th {\n",
       "        vertical-align: top;\n",
       "    }\n",
       "\n",
       "    .dataframe thead th {\n",
       "        text-align: right;\n",
       "    }\n",
       "</style>\n",
       "<table border=\"1\" class=\"dataframe\">\n",
       "  <thead>\n",
       "    <tr style=\"text-align: right;\">\n",
       "      <th></th>\n",
       "      <th>Styles</th>\n",
       "      <th>Project Number</th>\n",
       "      <th>Datetime Received</th>\n",
       "    </tr>\n",
       "  </thead>\n",
       "  <tbody>\n",
       "    <tr>\n",
       "      <th>0</th>\n",
       "      <td>BK1</td>\n",
       "      <td>P12-3456</td>\n",
       "      <td>2018-05-20</td>\n",
       "    </tr>\n",
       "    <tr>\n",
       "      <th>1</th>\n",
       "      <td>CS24</td>\n",
       "      <td>P12-3456</td>\n",
       "      <td>2018-05-20</td>\n",
       "    </tr>\n",
       "    <tr>\n",
       "      <th>2</th>\n",
       "      <td>A1</td>\n",
       "      <td>P12-3456</td>\n",
       "      <td>2018-05-20</td>\n",
       "    </tr>\n",
       "    <tr>\n",
       "      <th>3</th>\n",
       "      <td>A2</td>\n",
       "      <td>P12-3456</td>\n",
       "      <td>2018-05-20</td>\n",
       "    </tr>\n",
       "    <tr>\n",
       "      <th>4</th>\n",
       "      <td>A3</td>\n",
       "      <td>P12-3456</td>\n",
       "      <td>2018-05-20</td>\n",
       "    </tr>\n",
       "  </tbody>\n",
       "</table>\n",
       "</div>"
      ],
      "text/plain": [
       "  Styles Project Number Datetime Received\n",
       "0    BK1       P12-3456        2018-05-20\n",
       "1   CS24       P12-3456        2018-05-20\n",
       "2     A1       P12-3456        2018-05-20\n",
       "3     A2       P12-3456        2018-05-20\n",
       "4     A3       P12-3456        2018-05-20"
      ]
     },
     "execution_count": 22,
     "metadata": {},
     "output_type": "execute_result"
    }
   ],
   "source": [
    "# 1 - Start with either packing list or blank blocks (get numbers)\n",
    "# 2 - Start with Project number EVERY TIME\n",
    "# 3 - Date Received EVERY TIME\n",
    "\n",
    "import pandas as pd\n",
    "import datetime\n",
    "\n",
    "pack_list = r\"C:\\Users\\mkreidler\\Desktop\\packing list.csv\"\n",
    "\n",
    "p_num = \"P12-3456\"\n",
    "dt_rec = datetime.datetime(2018, 5, 20)\n",
    "\n",
    "df = pd.read_csv(pack_list)\n",
    "\n",
    "df.sort_values(\"Styles\").reset_index(inplace=True)\n",
    "df[\"Project Number\"] = p_num\n",
    "df[\"Datetime Received\"] = dt_rec\n",
    "\n",
    "df.head()"
   ]
  },
  {
   "cell_type": "code",
   "execution_count": null,
   "metadata": {},
   "outputs": [],
   "source": []
  }
 ],
 "metadata": {
  "kernelspec": {
   "display_name": "Python 3",
   "language": "python",
   "name": "python3"
  },
  "language_info": {
   "codemirror_mode": {
    "name": "ipython",
    "version": 3
   },
   "file_extension": ".py",
   "mimetype": "text/x-python",
   "name": "python",
   "nbconvert_exporter": "python",
   "pygments_lexer": "ipython3",
   "version": "3.6.4"
  }
 },
 "nbformat": 4,
 "nbformat_minor": 2
}
