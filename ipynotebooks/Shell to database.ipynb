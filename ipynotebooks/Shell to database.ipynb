{
 "cells": [
  {
   "cell_type": "code",
   "execution_count": 43,
   "metadata": {},
   "outputs": [],
   "source": [
    "import mysql\n",
    "\n",
    "cnx = mysql.connector.connect(user='root', password='violin7',\n",
    "                              host='localhost',\n",
    "                              database='bvtc')\n",
    "cnx.close()\n",
    "\n",
    "import pandas as pd\n",
    "\n",
    "path = r\"/home/cole/Desktop/trc.xlsx\"\n",
    "df = pd.read_excel(path)\n",
    "\n",
    "#df.to_sql(con=cnx, name='trc', if_exists='replace', flavor='mysql')\n",
    "\n",
    "\n",
    "\n",
    "import sqlalchemy\n",
    "database_username = 'root'\n",
    "database_password = 'violin7'\n",
    "database_ip       = 'localhost'\n",
    "database_name     = 'bvtc'\n",
    "database_connection = sqlalchemy.create_engine('mysql+mysqlconnector://{0}:{1}@{2}/{3}'.\n",
    "                                               format(database_username, database_password, \n",
    "                                                      database_ip, database_name))\n",
    "#df.to_sql(con=database_connection, name='trc', if_exists='replace')"
   ]
  },
  {
   "cell_type": "code",
   "execution_count": 44,
   "metadata": {},
   "outputs": [],
   "source": [
    "path2 = r\"/home/cole/Desktop/rhino.csv\"\n",
    "rhino = pd.read_csv(path2, header=None)\n",
    "rhino.rename( columns = {0:\"trc\", 1:\"guid\"}, inplace=True)\n",
    "\n",
    "#rhino.to_sql(con=database_connection, name=\"rhino\", if_exists=\"replace\")\n"
   ]
  },
  {
   "cell_type": "code",
   "execution_count": 52,
   "metadata": {},
   "outputs": [
    {
     "data": {
      "text/plain": [
       "('8533d719-a2e0-496d-aacc-2d587026328a', 'N-B05', 'A10A', 'F', '1')"
      ]
     },
     "execution_count": 52,
     "metadata": {},
     "output_type": "execute_result"
    }
   ],
   "source": [
    "conn = database_connection\n",
    "\n",
    "result = conn.execute(\"select * from test\")\n",
    "result.fetchall()[0]\n",
    "#2659\n"
   ]
  },
  {
   "cell_type": "code",
   "execution_count": null,
   "metadata": {
    "collapsed": true
   },
   "outputs": [],
   "source": []
  }
 ],
 "metadata": {
  "kernelspec": {
   "display_name": "Python 3",
   "language": "python",
   "name": "python3"
  },
  "language_info": {
   "codemirror_mode": {
    "name": "ipython",
    "version": 3
   },
   "file_extension": ".py",
   "mimetype": "text/x-python",
   "name": "python",
   "nbconvert_exporter": "python",
   "pygments_lexer": "ipython3",
   "version": "3.6.1"
  }
 },
 "nbformat": 4,
 "nbformat_minor": 2
}
