{
 "cells": [
  {
   "cell_type": "code",
   "execution_count": 28,
   "metadata": {},
   "outputs": [
    {
     "name": "stdout",
     "output_type": "stream",
     "text": [
      "MKREIDLER created object 56E6E5D5-E433-4CFC-A1A9-44CBC090D248 on 2019-06-14 16:07:00.274637 from device BVTC-SURVEY04\n"
     ]
    }
   ],
   "source": [
    "\"\"\"\n",
    "activation  \"Project xyz activated\"\n",
    "start/information available/drafting analysis  \"All/Some information available, 20/100 drawings accounted for\"\n",
    "drafting begins  \"Drafting has started\"\n",
    "some number of submittals  \"Submittal 2 out, 50/100 drawings submitted\"\n",
    "everything submitted once/ drafting milestone  \"All drawings submitted, 100/100 drawings submitted\"\n",
    "revisions come back  \"Revisions started 82/100 approved\"\n",
    "all drawings approved  \"All drawings Approved, 100/100 approved\"\n",
    "books in progress  \"Books Begin 50/100 drawings in books\"\n",
    "books complete  \"Books out on the floor, 100/100 drawings on floor\"\n",
    "\"\"\"\n",
    "import uuid\n",
    "import datetime\n",
    "import os\n",
    "import platform\n",
    "\n",
    "class Common():\n",
    "    def __init__(self):\n",
    "        self.user = os.getenv('username')\n",
    "        self.created_dt = datetime.datetime.now()\n",
    "        self.device = platform.node()\n",
    "        self.guid = uuid.uuid4()\n",
    "    \n",
    "    def report(self):\n",
    "        print(f\"{self.user.upper()} created object {str(self.guid).upper()} on {self.created_dt} from device {self.device}\")\n",
    "\n",
    "class Books(Common):\n",
    "    def __init__(self):\n",
    "        super().__init__()\n",
    "        self.id = None\n",
    "        self.drawings = []\n",
    "        self.departments = []\n",
    "        \n",
    "\n",
    "\n",
    "class Drawings(Common):\n",
    "    def __init__(self):\n",
    "        super().__init__()\n",
    "        self.guid = None\n",
    "        self.name = None\n",
    "        self.info_dt_list = []\n",
    "        self.started = None\n",
    "        self.submit_dt_list = []\n",
    "        self.approval_dt = None\n",
    "        self.revisions_dt_list = None\n",
    "        self.date_into_ctrac = None\n",
    "        self.priorities_list = []\n",
    "        self.book_release\n",
    "        \n",
    "\n",
    "\n",
    "class Project(Common):\n",
    "    \n",
    "    def __init__(self):\n",
    "        super().__init__()\n",
    "        self.activation_dt = None\n",
    "        self.info_dt_list = []\n",
    "        self.drawings = []\n",
    "        self.submittals = []\n",
    "        \n",
    "        \n",
    "\n",
    "p = Project()\n",
    "p.report()"
   ]
  },
  {
   "cell_type": "code",
   "execution_count": null,
   "metadata": {
    "collapsed": true
   },
   "outputs": [],
   "source": []
  },
  {
   "cell_type": "code",
   "execution_count": null,
   "metadata": {
    "collapsed": true
   },
   "outputs": [],
   "source": []
  },
  {
   "cell_type": "code",
   "execution_count": null,
   "metadata": {
    "collapsed": true
   },
   "outputs": [],
   "source": []
  }
 ],
 "metadata": {
  "kernelspec": {
   "display_name": "Python 3",
   "language": "python",
   "name": "python3"
  },
  "language_info": {
   "codemirror_mode": {
    "name": "ipython",
    "version": 3
   },
   "file_extension": ".py",
   "mimetype": "text/x-python",
   "name": "python",
   "nbconvert_exporter": "python",
   "pygments_lexer": "ipython3",
   "version": "3.6.1"
  }
 },
 "nbformat": 4,
 "nbformat_minor": 2
}
