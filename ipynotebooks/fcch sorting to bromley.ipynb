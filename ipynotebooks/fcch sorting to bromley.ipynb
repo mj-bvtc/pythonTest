{
 "cells": [
  {
   "cell_type": "code",
   "execution_count": 17,
   "metadata": {},
   "outputs": [],
   "source": [
    "import pandas as pd\n",
    "\n",
    "file = r\"C:\\Users\\mkreidler\\Desktop\\fcch to bromley.xlsx\"\n",
    "df = pd.read_excel(file)\n",
    "\n",
    "\n",
    "\n",
    "dfs = df.sort_values([\"section\", \"elevation\", \"x\", \"y\"], ascending = [1, 1, 1, 0])\n",
    "\n",
    "option_b = dfs.loc[:, [\"name\", \"elevation\", \"swing_drop\", \"floor\"]]\n",
    "\n",
    "option_b.to_excel(r\"C:\\Users\\mkreidler\\Desktop\\option_B.xlsx\")"
   ]
  },
  {
   "cell_type": "code",
   "execution_count": 19,
   "metadata": {},
   "outputs": [],
   "source": [
    "dfs2 = df.sort_values([\"elevation\",\"section\", \"y\", \"x\"], ascending = [1, 1, 0, 1])\n",
    "\n",
    "option_a = dfs2.loc[:, [\"name\", \"elevation\", \"swing_drop\", \"floor\" ]]\n",
    "\n",
    "option_a.to_excel(r\"C:\\Users\\mkreidler\\Desktop\\option_A.xlsx\")"
   ]
  },
  {
   "cell_type": "code",
   "execution_count": null,
   "metadata": {},
   "outputs": [],
   "source": []
  }
 ],
 "metadata": {
  "kernelspec": {
   "display_name": "Python 3",
   "language": "python",
   "name": "python3"
  },
  "language_info": {
   "codemirror_mode": {
    "name": "ipython",
    "version": 3
   },
   "file_extension": ".py",
   "mimetype": "text/x-python",
   "name": "python",
   "nbconvert_exporter": "python",
   "pygments_lexer": "ipython3",
   "version": "3.6.8"
  }
 },
 "nbformat": 4,
 "nbformat_minor": 2
}
