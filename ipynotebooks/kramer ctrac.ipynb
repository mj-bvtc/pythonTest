{
 "cells": [
  {
   "cell_type": "code",
   "execution_count": 16,
   "metadata": {},
   "outputs": [],
   "source": [
    "import pandas as pd\n",
    "\n",
    "file = r\"V:\\Projects\\35 East Wacker\\Field Work\\BVTC Survey #2\\2020 2021 kramer to ctrac\\kramerctrac.xlsx\"\n",
    "\n",
    "def clean(x):\n",
    "    return x.strip().upper().replace(\"_\", \"\")\n",
    "kramer = pd.read_excel(file, sheet_name=\"kramer\")\n",
    "kramer[\"kramer\"] = 1\n",
    "kramer.name = kramer.name.apply(clean)\n",
    "ctrac = pd.read_excel(file, sheet_name=\"ctrac\")\n",
    "ctrac[\"ctrac\"] = 1\n",
    "ctrac.name = ctrac.name.apply(clean)\n",
    "\n",
    "\n",
    "merge = kramer.merge(ctrac, on=\"name\", how=\"outer\").fillna(0)\n",
    "\n",
    "save = r\"V:\\Projects\\35 East Wacker\\Field Work\\BVTC Survey #2\\2020 2021 kramer to ctrac\\comparison.xlsx\"\n",
    "merge.to_excel(save)\n"
   ]
  },
  {
   "cell_type": "code",
   "execution_count": null,
   "metadata": {},
   "outputs": [],
   "source": []
  },
  {
   "cell_type": "code",
   "execution_count": null,
   "metadata": {},
   "outputs": [],
   "source": []
  }
 ],
 "metadata": {
  "kernelspec": {
   "display_name": "Python 3",
   "language": "python",
   "name": "python3"
  },
  "language_info": {
   "codemirror_mode": {
    "name": "ipython",
    "version": 3
   },
   "file_extension": ".py",
   "mimetype": "text/x-python",
   "name": "python",
   "nbconvert_exporter": "python",
   "pygments_lexer": "ipython3",
   "version": "3.6.8"
  }
 },
 "nbformat": 4,
 "nbformat_minor": 2
}
