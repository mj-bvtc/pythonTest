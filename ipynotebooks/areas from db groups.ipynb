{
 "cells": [
  {
   "cell_type": "code",
   "execution_count": 30,
   "metadata": {},
   "outputs": [
    {
     "name": "stdout",
     "output_type": "stream",
     "text": [
      "258\n",
      "269\n",
      "272\n",
      "281\n",
      "289\n",
      "291\n",
      "295\n",
      "297\n",
      "303\n",
      "350\n",
      "357\n",
      "360\n",
      "365\n",
      "366\n",
      "375\n",
      "381\n",
      "384\n"
     ]
    }
   ],
   "source": [
    "import pandas as pd\n",
    "import re\n",
    "\n",
    "def get_areas_by_name(name):\n",
    "    file = r\"C:\\Users\\mkreidler\\Desktop\\Test Setting Folder\\Multisheet_export.xlsx\"\n",
    "\n",
    "    df = pd.read_excel(file, sheet_name=\"Main\")\n",
    "\n",
    "    #df.loc[df[\"name\"] == \"8C6\", [\"name\", \"db\"]]\n",
    "\n",
    "    groups = df.loc[df[\"name\"] == name, [\"db\"]][\"db\"].unique()\n",
    "\n",
    "    full_groups = df.loc[df.db.isin(groups), [\"name\", \"db\"]]\n",
    "\n",
    "    areas = full_groups.loc[full_groups[\"name\"].str.contains(\"Area\"), :][:]\n",
    "\n",
    "    def get_area(x):\n",
    "        pat = r\"Area ([\\d]*)\"\n",
    "        result = re.search(pat, x)\n",
    "        if  result:\n",
    "            return result.group(1)\n",
    "\n",
    "    areas[\"area\"] = areas[\"name\"].apply(get_area)\n",
    "\n",
    "    areas = areas.sort_values(\"area\")\n",
    "    result = list(areas.area.unique())\n",
    "    \n",
    "    for r in result:\n",
    "        print(r)\n",
    "\n",
    "\n",
    "get_areas_by_name(\"B26A\")\n"
   ]
  },
  {
   "cell_type": "code",
   "execution_count": null,
   "metadata": {},
   "outputs": [],
   "source": []
  }
 ],
 "metadata": {
  "kernelspec": {
   "display_name": "Python 3",
   "language": "python",
   "name": "python3"
  },
  "language_info": {
   "codemirror_mode": {
    "name": "ipython",
    "version": 3
   },
   "file_extension": ".py",
   "mimetype": "text/x-python",
   "name": "python",
   "nbconvert_exporter": "python",
   "pygments_lexer": "ipython3",
   "version": "3.6.8"
  }
 },
 "nbformat": 4,
 "nbformat_minor": 2
}
