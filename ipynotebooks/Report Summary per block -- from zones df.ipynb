{
 "cells": [
  {
   "cell_type": "code",
   "execution_count": 34,
   "metadata": {},
   "outputs": [
    {
     "name": "stdout",
     "output_type": "stream",
     "text": [
      "3F-FAM-R\n",
      "[40 54]\n"
     ]
    },
    {
     "data": {
      "text/plain": [
       "array(['FP-C-SW', 'AT-C-SW', 'AB-C-SW'], dtype=object)"
      ]
     },
     "execution_count": 34,
     "metadata": {},
     "output_type": "execute_result"
    }
   ],
   "source": [
    "import pandas as pd\n",
    "\n",
    "file = r\"C:\\Users\\mkreidler\\Desktop\\summary per block.xlsx\"\n",
    "df = pd.read_excel(file)\n",
    "\n",
    "name = df.name[100]\n",
    "\n",
    "print(name)\n",
    "\n",
    "groups = df.loc[df.name == df.name[0], \"group\"].unique()\n",
    "print(groups)\n",
    "neighbors = df.loc[df.group.isin(groups), [\"group\", \"name\"]]\n",
    "\n",
    "neighbors = neighbors[neighbors.name != name].name.unique()\n",
    "neighbors"
   ]
  },
  {
   "cell_type": "code",
   "execution_count": null,
   "metadata": {},
   "outputs": [],
   "source": []
  }
 ],
 "metadata": {
  "kernelspec": {
   "display_name": "Python 3",
   "language": "python",
   "name": "python3"
  },
  "language_info": {
   "codemirror_mode": {
    "name": "ipython",
    "version": 3
   },
   "file_extension": ".py",
   "mimetype": "text/x-python",
   "name": "python",
   "nbconvert_exporter": "python",
   "pygments_lexer": "ipython3",
   "version": "3.6.5"
  }
 },
 "nbformat": 4,
 "nbformat_minor": 2
}
