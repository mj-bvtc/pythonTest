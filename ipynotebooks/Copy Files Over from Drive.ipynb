{
 "cells": [
  {
   "cell_type": "code",
   "execution_count": 3,
   "metadata": {},
   "outputs": [
    {
     "ename": "NameError",
     "evalue": "name 'tkinter' is not defined",
     "output_type": "error",
     "traceback": [
      "\u001b[1;31m---------------------------------------------------------------------------\u001b[0m",
      "\u001b[1;31mNameError\u001b[0m                                 Traceback (most recent call last)",
      "\u001b[1;32m<ipython-input-3-04afb3e7293c>\u001b[0m in \u001b[0;36m<module>\u001b[1;34m()\u001b[0m\n\u001b[0;32m     42\u001b[0m     \u001b[1;32mreturn\u001b[0m \u001b[0mdirs\u001b[0m\u001b[1;33m\u001b[0m\u001b[0m\n\u001b[0;32m     43\u001b[0m \u001b[1;33m\u001b[0m\u001b[0m\n\u001b[1;32m---> 44\u001b[1;33m \u001b[0msrc\u001b[0m \u001b[1;33m=\u001b[0m \u001b[0mget_path\u001b[0m\u001b[1;33m(\u001b[0m\u001b[1;33m)\u001b[0m\u001b[1;33m\u001b[0m\u001b[0m\n\u001b[0m\u001b[0;32m     45\u001b[0m \u001b[1;31m#dst = get_path()\u001b[0m\u001b[1;33m\u001b[0m\u001b[1;33m\u001b[0m\u001b[0m\n\u001b[0;32m     46\u001b[0m \u001b[0mextensions\u001b[0m \u001b[1;33m=\u001b[0m \u001b[1;33m[\u001b[0m\u001b[1;34m\"3dm\"\u001b[0m\u001b[1;33m,\u001b[0m \u001b[1;34m\"pdf\"\u001b[0m\u001b[1;33m]\u001b[0m\u001b[1;33m\u001b[0m\u001b[0m\n",
      "\u001b[1;32m<ipython-input-3-04afb3e7293c>\u001b[0m in \u001b[0;36mget_path\u001b[1;34m()\u001b[0m\n\u001b[0;32m      5\u001b[0m \u001b[1;32mdef\u001b[0m \u001b[0mget_path\u001b[0m\u001b[1;33m(\u001b[0m\u001b[1;33m)\u001b[0m\u001b[1;33m:\u001b[0m\u001b[1;33m\u001b[0m\u001b[0m\n\u001b[0;32m      6\u001b[0m     \u001b[0mTk\u001b[0m\u001b[1;33m(\u001b[0m\u001b[1;33m)\u001b[0m\u001b[1;33m.\u001b[0m\u001b[0mwithdraw\u001b[0m\u001b[1;33m(\u001b[0m\u001b[1;33m)\u001b[0m \u001b[1;31m# we don't want a full GUI, so keep the root window from appearing\u001b[0m\u001b[1;33m\u001b[0m\u001b[0m\n\u001b[1;32m----> 7\u001b[1;33m     \u001b[0mpath\u001b[0m \u001b[1;33m=\u001b[0m \u001b[0mtkinter\u001b[0m\u001b[1;33m.\u001b[0m\u001b[0mfiledialog\u001b[0m\u001b[1;33m.\u001b[0m\u001b[0maskdirectory\u001b[0m\u001b[1;33m(\u001b[0m\u001b[1;33m)\u001b[0m \u001b[1;31m# show an \"Open\" dialog box and return the path to the selected file\u001b[0m\u001b[1;33m\u001b[0m\u001b[0m\n\u001b[0m\u001b[0;32m      8\u001b[0m     \u001b[1;31m#print(path)\u001b[0m\u001b[1;33m\u001b[0m\u001b[1;33m\u001b[0m\u001b[0m\n\u001b[0;32m      9\u001b[0m     \u001b[1;32mreturn\u001b[0m \u001b[0mpath\u001b[0m\u001b[1;33m\u001b[0m\u001b[0m\n",
      "\u001b[1;31mNameError\u001b[0m: name 'tkinter' is not defined"
     ]
    }
   ],
   "source": [
    "from tkinter import Tk\n",
    "from tkinter import filedialog\n",
    "import os\n",
    "\n",
    "def get_path():\n",
    "    Tk().withdraw() # we don't want a full GUI, so keep the root window from appearing\n",
    "    path = tkinter.filedialog.askdirectory() # show an \"Open\" dialog box and return the path to the selected file\n",
    "    #print(path)\n",
    "    return path\n",
    "\n",
    "def find_files(extensions, path):\n",
    "    files = []\n",
    "    dirs = set()\n",
    "    for dirpath, dirnames, filenames in os.walk(path):\n",
    "        for filename in filenames:\n",
    "            #print(filename)\n",
    "            ext = filename.split(\".\")[-1]\n",
    "            if ext in extensions:\n",
    "                full_path = dirpath + \"\\\\\" + filename\n",
    "                #print(full_path)\n",
    "                dirs.add(dirpath)\n",
    "                #print(dirpath)\n",
    "    for d in dirs:\n",
    "        folder = d.split(\"\\\\\")[-1]\n",
    "        new_dst = r\"C:\\Users\\mkreidler\\Desktop\\test_destination\"\n",
    "        new_dir = os.path.join(new_dst,folder)\n",
    "        os.mkdir(new_dir)\n",
    "        print(new_dir)\n",
    "        \n",
    "def find_dir_names(extensions, path):\n",
    "    files = []\n",
    "    dirs = set()\n",
    "    for dirpath, dirnames, filenames in os.walk(path):\n",
    "        for filename in filenames:\n",
    "            #print(filename)\n",
    "            ext = filename.split(\".\")[-1]\n",
    "            if ext in extensions:\n",
    "                full_path = dirpath + \"\\\\\" + filename\n",
    "                #print(full_path)\n",
    "                dirs.add(dirpath)\n",
    "                #print(dirpath)\n",
    "    return dirs\n",
    "\n",
    "src = get_path()\n",
    "#dst = get_path()\n",
    "extensions = [\"3dm\", \"pdf\"]\n",
    "dirs = find_dir_names(extensions,src)\n",
    "for d in dirs:\n",
    "    print(d)\n"
   ]
  },
  {
   "cell_type": "code",
   "execution_count": null,
   "metadata": {
    "collapsed": true
   },
   "outputs": [],
   "source": [
    "from shutil import copyfile\n",
    "\n",
    "src = r\"F:\\222 Central Park South\\2018-02-27\\TCR\\Rhino_TCR.3dm\"\n",
    "folder = r\"C:\\Users\\mkreidler\\Desktop\\test_destination\"\n",
    "\n",
    "file = os.path.basename(src)\n",
    "\n",
    "dst = os.path.join(folder, file)\n",
    "\n",
    "\n",
    "\n",
    "copyfile(src, dst)"
   ]
  },
  {
   "cell_type": "code",
   "execution_count": null,
   "metadata": {
    "collapsed": true
   },
   "outputs": [],
   "source": [
    "def process():\n",
    "    pass\n",
    "    #find finished folders\n",
    "    \n",
    "    #walk through path\n",
    "    \n",
    "    #mark folders that contain 3dm and pdf\n",
    "    \n",
    "    #mark folders that need to be finished \n",
    "    \n",
    "    #copy 3dm and pdf to new destination v:sample data/project/block\n",
    "    \n",
    "    #create a report detailing things copied and files to be finished\n",
    "    \n",
    "    #mark finished folders with .txt report \n",
    "    \n",
    "    #create a shortcut per folder on v: back to rendering machine\n",
    "    \n",
    "class Project:\n",
    "    def __init__(self, name):\n",
    "        self.name = name\n",
    "        self.blocks = []\n",
    "        \n",
    "class Block:\n",
    "    def __init__(self, name):\n",
    "        self.name = name\n",
    "        self.rhino_path = None\n",
    "        self.pdf_path = None\n",
    "        self.folder_path = None\n",
    "        \n",
    "    def check_done(self):\n",
    "        if self.rhino_path and self.pdf_path and self.folder_path:\n",
    "            return True\n",
    "        else:\n",
    "            return False\n",
    "        \n",
    "b = Block(\"b\")\n",
    "b.folder_path = \"here\"\n",
    "b.pdf_path = \"a\"\n",
    "b.rhino_path = \"b\"\n",
    "b.check_done()\n",
    "        \n",
    "        \n",
    "        \n",
    "    "
   ]
  },
  {
   "cell_type": "code",
   "execution_count": 13,
   "metadata": {},
   "outputs": [
    {
     "name": "stdout",
     "output_type": "stream",
     "text": [
      "Number of files found: 201\n",
      "Number of rhinos found: 0\n",
      "Number of pdfs found: 201\n"
     ]
    }
   ],
   "source": [
    "import tkinter\n",
    "from tkinter import Tk\n",
    "from tkinter import filedialog\n",
    "import os\n",
    "\n",
    "\n",
    "#search\n",
    "def search():\n",
    "    pass\n",
    "\n",
    "\n",
    "\n",
    "def get_path(report=True):\n",
    "    Tk().withdraw() # we don't want a full GUI, so keep the root window from appearing\n",
    "    path = tkinter.filedialog.askdirectory() # show an \"Open\" dialog box and return the path to the selected file\n",
    "    if report == True:\n",
    "        message = f\"Selected this path: {path}\"\n",
    "        print(message)\n",
    "    return path\n",
    "\n",
    "def find_files(extensions, path, report=True):\n",
    "    files = set()\n",
    "    bases = set()\n",
    "    dirs = set()\n",
    "    for dirpath, dirnames, filenames in os.walk(path):\n",
    "        for filename in filenames:\n",
    "            ext = filename.split(\".\")[-1]\n",
    "            if ext in extensions:\n",
    "                full_path = os.path.join(dirpath, filename)\n",
    "                base = os.path.basename(filename)\n",
    "                bases.add(base)\n",
    "                files.add(full_path)\n",
    "                dirs.add(dirpath)\n",
    "                if report == True:\n",
    "                    print(f\"Added {full_path} to files\")\n",
    "                    \n",
    "    rhinos = [x for x in bases if x.endswith(\".3dm\")]\n",
    "    pdfs = [x for x in bases if x.endswith(\".pdf\")]\n",
    "    print(f\"Number of files found: {len(bases)}\")\n",
    "    print(f\"Number of rhinos found: {len(rhinos)}\")\n",
    "    print(f\"Number of pdfs found: {len(pdfs)}\")\n",
    "                    \n",
    "                \n",
    "extensions = [\"3dm\", \"pdf\"]\n",
    "#path = get_path()\n",
    "path = r\"C:\\Users\\mkreidler\\Desktop\\pdf exports\"\n",
    "find_files(extensions, path, report=False)\n",
    "\n",
    "#report\n",
    "\n",
    "#copy\n",
    "\n",
    "#report"
   ]
  },
  {
   "cell_type": "code",
   "execution_count": null,
   "metadata": {
    "collapsed": true
   },
   "outputs": [],
   "source": []
  },
  {
   "cell_type": "code",
   "execution_count": null,
   "metadata": {
    "collapsed": true
   },
   "outputs": [],
   "source": []
  }
 ],
 "metadata": {
  "kernelspec": {
   "display_name": "Python 3",
   "language": "python",
   "name": "python3"
  },
  "language_info": {
   "codemirror_mode": {
    "name": "ipython",
    "version": 3
   },
   "file_extension": ".py",
   "mimetype": "text/x-python",
   "name": "python",
   "nbconvert_exporter": "python",
   "pygments_lexer": "ipython3",
   "version": "3.6.1"
  }
 },
 "nbformat": 4,
 "nbformat_minor": 2
}
