{
 "cells": [
  {
   "cell_type": "code",
   "execution_count": null,
   "metadata": {},
   "outputs": [],
   "source": [
    "import os\n",
    "\n",
    "path = r\"V:\\Projects\\35 East Wacker\\Field Work\\35 EAST WACKER DRAWINGS 2020 FIELD WORK PDFS\\_All drawing pdfs\"\n",
    "\n",
    "drawings = []\n",
    "paths = []\n",
    "\n",
    "for root, dirs, files in os.walk(path):\n",
    "    #print( root)\n",
    "    #print( dirs)\n",
    "    for file in files:\n",
    "        drawing = file[9:-4].split(\".3dm\")[0]\n",
    "        full = os.path.join(root, file)\n",
    "        #print(drawing, full)\n",
    "        drawings.append(drawing)\n",
    "        paths.append(full)\n",
    "\n",
    "data = pd.DataFrame(list(zip(drawings, paths)), columns=[\"drawing\", \"path\"])\n",
    "        \n",
    "#data\n",
    "test = str(df.dwg[2])\n",
    "\n",
    "data[\"flag\"] = np.where(data['drawing'].str.contains(test, case=False, na=False), 1, 0)\n",
    "#data[\"flag\"] = np.where(data['drawing'].str.startswith(test), 1, 0)\n",
    "\n",
    "#data.loc[data.flag == 1, :]"
   ]
  }
 ],
 "metadata": {
  "kernelspec": {
   "display_name": "Python 3",
   "language": "python",
   "name": "python3"
  },
  "language_info": {
   "codemirror_mode": {
    "name": "ipython",
    "version": 3
   },
   "file_extension": ".py",
   "mimetype": "text/x-python",
   "name": "python",
   "nbconvert_exporter": "python",
   "pygments_lexer": "ipython3",
   "version": "3.6.9"
  }
 },
 "nbformat": 4,
 "nbformat_minor": 2
}
