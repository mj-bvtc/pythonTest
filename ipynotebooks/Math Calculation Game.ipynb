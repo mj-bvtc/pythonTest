{
 "cells": [
  {
   "cell_type": "code",
   "execution_count": 42,
   "metadata": {},
   "outputs": [
    {
     "name": "stdout",
     "output_type": "stream",
     "text": [
      "\n",
      "\n",
      "Add these:\n",
      "\n",
      "       189\n",
      "       607\n",
      "\n",
      "Your answer:796\n",
      "Correct!\n",
      "\n",
      "Clocked at: 0:00:12.156661\n",
      "Attempts: 1\n",
      "\n",
      "\n",
      "Add these:\n",
      "\n",
      "       770\n",
      "       439\n",
      "\n",
      "Your answer:1209\n",
      "Correct!\n",
      "\n",
      "Clocked at: 0:00:20.948793\n",
      "Attempts: 1\n",
      "\n",
      "\n",
      "Add these:\n",
      "\n",
      "       600\n",
      "       433\n",
      "\n",
      "Your answer:1033\n",
      "Correct!\n",
      "\n",
      "Clocked at: 0:00:04.903130\n",
      "Attempts: 1\n",
      "\n"
     ]
    }
   ],
   "source": [
    "import random\n",
    "import datetime\n",
    "\n",
    "def any_digit():\n",
    "    a = random.randint(1,999)\n",
    "    b = random.randint(1,999)\n",
    "    start = datetime.datetime.now()\n",
    "    print(f\"\\n\\nAdd these:\\n\\n{a:{10}}\\n{b:{10}}\\n\")\n",
    "    \n",
    "    user_answer = int(input(\"Your answer:\"))\n",
    "    \n",
    "    \"\"\"\n",
    "    if user_answer == a+b:\n",
    "        print(\"Correct!\")\n",
    "        \n",
    "    else:\n",
    "        print(\"try again\")\n",
    "        \n",
    "    \"\"\"\n",
    "    attempts = 1\n",
    "    while user_answer != (a + b):\n",
    "        print(\"Try again please...\")\n",
    "        user_answer = int(input(\"Your answer:\"))\n",
    "        attempts += 1\n",
    "    \n",
    "    print(\"Correct!\")\n",
    "    end = datetime.datetime.now()\n",
    "    duration = end - start\n",
    "    print()\n",
    "    print(f\"Clocked at: {duration}\")\n",
    "    print(f\"Attempts: {attempts}\")\n",
    "\n",
    "def num_questions(num):\n",
    "    for i in range(num):\n",
    "        any_digit()\n",
    "    print()\n",
    "\n",
    "num_questions(3)\n",
    "    \n",
    "    \n"
   ]
  },
  {
   "cell_type": "code",
   "execution_count": 37,
   "metadata": {},
   "outputs": [],
   "source": [
    "# width = 10\n",
    "# precision = 4\n",
    "# value = decimal.Decimal('12.34567')\n",
    "# f'result: {value:{width}.{precision}}'\n",
    "# 'result:      12.35'"
   ]
  },
  {
   "cell_type": "code",
   "execution_count": null,
   "metadata": {},
   "outputs": [],
   "source": []
  },
  {
   "cell_type": "code",
   "execution_count": null,
   "metadata": {},
   "outputs": [],
   "source": []
  },
  {
   "cell_type": "code",
   "execution_count": null,
   "metadata": {},
   "outputs": [],
   "source": []
  }
 ],
 "metadata": {
  "kernelspec": {
   "display_name": "Python 3",
   "language": "python",
   "name": "python3"
  },
  "language_info": {
   "codemirror_mode": {
    "name": "ipython",
    "version": 3
   },
   "file_extension": ".py",
   "mimetype": "text/x-python",
   "name": "python",
   "nbconvert_exporter": "python",
   "pygments_lexer": "ipython3",
   "version": "3.6.7"
  }
 },
 "nbformat": 4,
 "nbformat_minor": 2
}
