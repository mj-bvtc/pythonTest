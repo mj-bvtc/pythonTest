{
 "cells": [
  {
   "cell_type": "code",
   "execution_count": 5,
   "metadata": {},
   "outputs": [
    {
     "data": {
      "text/plain": [
       "6.346153846153846"
      ]
     },
     "execution_count": 5,
     "metadata": {},
     "output_type": "execute_result"
    }
   ],
   "source": [
    "fpm = 26\n",
    "\n",
    "ipm = fpm*12\n",
    "\n",
    "(60*33)/312\n"
   ]
  },
  {
   "cell_type": "code",
   "execution_count": 9,
   "metadata": {},
   "outputs": [
    {
     "name": "stdout",
     "output_type": "stream",
     "text": [
      "641.0\n"
     ]
    }
   ],
   "source": [
    "pig = 10\n",
    "cow = 20\n",
    "dog =2\n",
    "\n",
    "print(2*pig + 31*cow + .5*dog)"
   ]
  },
  {
   "cell_type": "code",
   "execution_count": 12,
   "metadata": {},
   "outputs": [
    {
     "data": {
      "text/plain": [
       "<function matplotlib.pyplot.plot>"
      ]
     },
     "execution_count": 12,
     "metadata": {},
     "output_type": "execute_result"
    }
   ],
   "source": [
    "import matplotlib.pyplot as plt\n",
    "\n",
    "plt.plot"
   ]
  },
  {
   "cell_type": "code",
   "execution_count": 18,
   "metadata": {},
   "outputs": [
    {
     "data": {
      "text/plain": [
       "{'color_sample': None,\n",
       " 'crate': None,\n",
       " 'created_dt': datetime.datetime(2018, 5, 25, 6, 46, 21, 649102),\n",
       " 'datetime_received': None,\n",
       " 'guid': UUID('28bfd168-bfc1-4a58-a47d-eec793b5c709'),\n",
       " 'host_name': 'BVTC-Render08',\n",
       " 'instance': None,\n",
       " 'location': None,\n",
       " 'logged_in': None,\n",
       " 'pallet': None,\n",
       " 'project_name': None,\n",
       " 'project_number': None,\n",
       " 'quantity': None,\n",
       " 'scanned': None,\n",
       " 'tbr': None,\n",
       " 'user_name': 'mkreidler'}"
      ]
     },
     "execution_count": 18,
     "metadata": {},
     "output_type": "execute_result"
    }
   ],
   "source": [
    "import uuid\n",
    "import datetime\n",
    "import socket\n",
    "import getpass\n",
    "\n",
    "class Common:\n",
    "    def __init__(self):\n",
    "        self.guid = uuid.uuid4()\n",
    "        self.created_dt = datetime.datetime.now()\n",
    "        self.user_name = getpass.getuser()\n",
    "        self.host_name = socket.gethostname()\n",
    "        \n",
    "\n",
    "\n",
    "class barcode(Common):\n",
    "    def __init__(self):\n",
    "        super().__init__()\n",
    "        \n",
    "        #booleans\n",
    "        self.logged_in = None\n",
    "        self.tbr = None\n",
    "        self.scanned = None\n",
    "        self.color_sample = None\n",
    "        \n",
    "        #strings\n",
    "        self.project_number = None\n",
    "        self.project_name = None\n",
    "        self.location = None\n",
    "        \n",
    "        #integers\n",
    "        self.quantity = None\n",
    "        self.instance = None\n",
    "        self.crate = None\n",
    "        self.pallet = None\n",
    "        \n",
    "        #datetimes\n",
    "        self.datetime_received = None\n",
    "        \n",
    "        #paths\n",
    "        self.pdf = None\n",
    "        \n",
    "        \n",
    "\n",
    "bc = barcode()\n",
    "bc.__dict__\n",
    "\n",
    "    "
   ]
  }
 ],
 "metadata": {
  "kernelspec": {
   "display_name": "Python 3",
   "language": "python",
   "name": "python3"
  },
  "language_info": {
   "codemirror_mode": {
    "name": "ipython",
    "version": 3
   },
   "file_extension": ".py",
   "mimetype": "text/x-python",
   "name": "python",
   "nbconvert_exporter": "python",
   "pygments_lexer": "ipython3",
   "version": "3.6.4"
  }
 },
 "nbformat": 4,
 "nbformat_minor": 2
}
