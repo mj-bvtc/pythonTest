{
 "cells": [
  {
   "cell_type": "code",
   "execution_count": 25,
   "metadata": {},
   "outputs": [],
   "source": [
    "import pandas as pd\n",
    "\n",
    "spread = r\"V:\\Projects\\Shell House Building\\TerraCotta\\_Preliminary_Models\\Color Assignment\\levels 2018-12-19.xlsx\"\n",
    "\n",
    "df = pd.read_excel(spread)\n",
    "\n",
    "#unique = df[[\"bvtc\", \"level\"]].bvtc.unique().tolist()\n",
    "\n",
    "grouped = df[[\"bvtc\", \"level\"]].groupby(\"bvtc\")\n",
    "\n",
    "data = grouped.aggregate(lambda x: set(x))\n",
    "\n",
    "data.to_excel(r\"V:\\Projects\\Shell House Building\\TerraCotta\\_Preliminary_Models\\Color Assignment\\grouped levels.xlsx\")"
   ]
  },
  {
   "cell_type": "code",
   "execution_count": null,
   "metadata": {},
   "outputs": [],
   "source": []
  },
  {
   "cell_type": "code",
   "execution_count": 39,
   "metadata": {},
   "outputs": [
    {
     "data": {
      "text/plain": [
       "0            {'Clock'}\n",
       "1            {'Clock'}\n",
       "2            {'Clock'}\n",
       "3            {'Clock'}\n",
       "4            {'Clock'}\n",
       "5           {'Ground'}\n",
       "6                  {7}\n",
       "7      {2, 3, 4, 5, 7}\n",
       "8               {3, 7}\n",
       "9                  {2}\n",
       "10                 {2}\n",
       "11              {9, 3}\n",
       "12        {9, 'Clock'}\n",
       "13                {11}\n",
       "14           {'Clock'}\n",
       "15           {'Clock'}\n",
       "16           {'Clock'}\n",
       "17           {'Clock'}\n",
       "18           {'Clock'}\n",
       "19       {1, 'Ground'}\n",
       "20                 {9}\n",
       "21           {'Clock'}\n",
       "22           {'Clock'}\n",
       "23           {'Clock'}\n",
       "24           {'Clock'}\n",
       "25           {'Clock'}\n",
       "26           {'Clock'}\n",
       "27           {'Clock'}\n",
       "28           {'Clock'}\n",
       "29           {'Clock'}\n",
       "            ...       \n",
       "244         {'Ground'}\n",
       "245         {'Ground'}\n",
       "246                {7}\n",
       "247                {6}\n",
       "248                {4}\n",
       "249                {3}\n",
       "250                {1}\n",
       "251                {7}\n",
       "252                {6}\n",
       "253                {3}\n",
       "254                {5}\n",
       "255                {2}\n",
       "256                {2}\n",
       "257               {12}\n",
       "258               {12}\n",
       "259               {12}\n",
       "260               {12}\n",
       "261               {12}\n",
       "262               {12}\n",
       "263                {9}\n",
       "264               {12}\n",
       "265               {12}\n",
       "266               {12}\n",
       "267                {9}\n",
       "268               {12}\n",
       "269               {12}\n",
       "270               {10}\n",
       "271               {10}\n",
       "272               {10}\n",
       "273                {2}\n",
       "Name: level, Length: 274, dtype: object"
      ]
     },
     "execution_count": 39,
     "metadata": {},
     "output_type": "execute_result"
    }
   ],
   "source": [
    "levels = pd.read_excel(r\"V:\\Projects\\Shell House Building\\TerraCotta\\_Preliminary_Models\\Color Assignment\\grouped levels.xlsx\")\n",
    "project = pd.read_excel(r\"C:\\Users\\mkreidler\\Desktop\\project.xlsx\")\n",
    "\n",
    "merged = pd.merge(levels, project, on=\"bvtc\",how=\"inner\")\n",
    "merged.level\n"
   ]
  },
  {
   "cell_type": "code",
   "execution_count": null,
   "metadata": {},
   "outputs": [],
   "source": []
  }
 ],
 "metadata": {
  "kernelspec": {
   "display_name": "Python 3",
   "language": "python",
   "name": "python3"
  },
  "language_info": {
   "codemirror_mode": {
    "name": "ipython",
    "version": 3
   },
   "file_extension": ".py",
   "mimetype": "text/x-python",
   "name": "python",
   "nbconvert_exporter": "python",
   "pygments_lexer": "ipython3",
   "version": "3.6.5"
  }
 },
 "nbformat": 4,
 "nbformat_minor": 2
}
