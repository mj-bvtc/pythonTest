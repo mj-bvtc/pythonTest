{
 "cells": [
  {
   "cell_type": "code",
   "execution_count": 16,
   "metadata": {},
   "outputs": [
    {
     "ename": "OperationalError",
     "evalue": "('08S01', '[08S01] [PSQL][ODBC Client Interface][Client LNA]Connection attempt timed out.  The SQL Connection Manager may be inactive or using a different transport protocol from the client. (10065) (SQLDriverConnect); [08S01] [PSQL][ODBC Client Interface]Invalid connection string attribute. (0)')",
     "output_type": "error",
     "traceback": [
      "\u001b[1;31m---------------------------------------------------------------------------\u001b[0m",
      "\u001b[1;31mOperationalError\u001b[0m                          Traceback (most recent call last)",
      "\u001b[1;32m<ipython-input-16-584142c7ec36>\u001b[0m in \u001b[0;36m<module>\u001b[1;34m\u001b[0m\n\u001b[0;32m     13\u001b[0m    \u001b[1;32mreturn\u001b[0m \u001b[1;36m0\u001b[0m\u001b[1;33m\u001b[0m\u001b[1;33m\u001b[0m\u001b[0m\n\u001b[0;32m     14\u001b[0m \u001b[1;32mif\u001b[0m \u001b[0m__name__\u001b[0m \u001b[1;33m==\u001b[0m \u001b[1;34m\"__main__\"\u001b[0m\u001b[1;33m:\u001b[0m\u001b[1;33m\u001b[0m\u001b[1;33m\u001b[0m\u001b[0m\n\u001b[1;32m---> 15\u001b[1;33m    \u001b[0msys\u001b[0m\u001b[1;33m.\u001b[0m\u001b[0mexit\u001b[0m\u001b[1;33m(\u001b[0m\u001b[0mmain\u001b[0m\u001b[1;33m(\u001b[0m\u001b[1;33m)\u001b[0m\u001b[1;33m)\u001b[0m\u001b[1;33m\u001b[0m\u001b[1;33m\u001b[0m\u001b[0m\n\u001b[0m",
      "\u001b[1;32m<ipython-input-16-584142c7ec36>\u001b[0m in \u001b[0;36mmain\u001b[1;34m()\u001b[0m\n\u001b[0;32m      5\u001b[0m \u001b[1;32mdef\u001b[0m \u001b[0mmain\u001b[0m\u001b[1;33m(\u001b[0m\u001b[1;33m)\u001b[0m\u001b[1;33m:\u001b[0m\u001b[1;33m\u001b[0m\u001b[1;33m\u001b[0m\u001b[0m\n\u001b[0;32m      6\u001b[0m    \u001b[0mconn_str\u001b[0m \u001b[1;33m=\u001b[0m \u001b[1;34m'Driver={Pervasive ODBC Interface};server=192.168.245.13;DBQ=CTRAC1'\u001b[0m\u001b[1;33m\u001b[0m\u001b[1;33m\u001b[0m\u001b[0m\n\u001b[1;32m----> 7\u001b[1;33m    \u001b[0mdb\u001b[0m \u001b[1;33m=\u001b[0m \u001b[0mpyodbc\u001b[0m\u001b[1;33m.\u001b[0m\u001b[0mconnect\u001b[0m\u001b[1;33m(\u001b[0m\u001b[0mconn_str\u001b[0m\u001b[1;33m)\u001b[0m\u001b[1;33m\u001b[0m\u001b[1;33m\u001b[0m\u001b[0m\n\u001b[0m\u001b[0;32m      8\u001b[0m    \u001b[0mc\u001b[0m \u001b[1;33m=\u001b[0m \u001b[0mdb\u001b[0m\u001b[1;33m.\u001b[0m\u001b[0mcursor\u001b[0m\u001b[1;33m(\u001b[0m\u001b[1;33m)\u001b[0m\u001b[1;33m\u001b[0m\u001b[1;33m\u001b[0m\u001b[0m\n\u001b[0;32m      9\u001b[0m    \u001b[0mc\u001b[0m\u001b[1;33m.\u001b[0m\u001b[0mexecute\u001b[0m\u001b[1;33m(\u001b[0m\u001b[1;34m'SELECT count(\"Project Number\") FROM \"Mstr Block WS Detl\"'\u001b[0m\u001b[1;33m)\u001b[0m\u001b[1;33m\u001b[0m\u001b[1;33m\u001b[0m\u001b[0m\n",
      "\u001b[1;31mOperationalError\u001b[0m: ('08S01', '[08S01] [PSQL][ODBC Client Interface][Client LNA]Connection attempt timed out.  The SQL Connection Manager may be inactive or using a different transport protocol from the client. (10065) (SQLDriverConnect); [08S01] [PSQL][ODBC Client Interface]Invalid connection string attribute. (0)')"
     ]
    }
   ],
   "source": [
    "import os\n",
    "import sys\n",
    "import pyodbc\n",
    "\n",
    "def main():\n",
    "   conn_str = 'Driver={Pervasive ODBC Interface};server=192.168.245.13;DBQ=CTRAC1'\n",
    "   db = pyodbc.connect(conn_str)\n",
    "   c = db.cursor()\n",
    "   c.execute('SELECT count(\"Project Number\") FROM \"Mstr Block WS Detl\"')\n",
    "   row = c.fetchone()\n",
    "   if row:\n",
    "      print(row)\n",
    "   return 0\n",
    "if __name__ == \"__main__\":\n",
    "   sys.exit(main())"
   ]
  },
  {
   "cell_type": "code",
   "execution_count": null,
   "metadata": {},
   "outputs": [],
   "source": [
    "class Areras(Resource):\n",
    "def get(self):\n",
    "conn = pyodbc.connect('Driver={Pervasive ODBC Client Interface};ServerName=127.0.0.1;dbq=demodata2;TCPPort=1583')\n",
    "cursor = conn.cursor()\n",
    "cursor.execute(\"SELECT * FROM Areas\")\n",
    "respuesta = {'areas': [[i[0], i[1]] for i in cursor.fetchall()]} # Fetches first column that is Employee ID\n",
    "return respuesta\n",
    "\n",
    "api.add_resource(Areras, '/areas')\n",
    "\n",
    "if name == 'main':\n",
    "app.run(port='5002')"
   ]
  }
 ],
 "metadata": {
  "kernelspec": {
   "display_name": "Python 3",
   "language": "python",
   "name": "python3"
  },
  "language_info": {
   "codemirror_mode": {
    "name": "ipython",
    "version": 3
   },
   "file_extension": ".py",
   "mimetype": "text/x-python",
   "name": "python",
   "nbconvert_exporter": "python",
   "pygments_lexer": "ipython3",
   "version": "3.6.8"
  }
 },
 "nbformat": 4,
 "nbformat_minor": 2
}
