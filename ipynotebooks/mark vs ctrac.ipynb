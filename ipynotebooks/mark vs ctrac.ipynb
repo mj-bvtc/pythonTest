{
 "cells": [
  {
   "cell_type": "code",
   "execution_count": 20,
   "metadata": {},
   "outputs": [
    {
     "data": {
      "text/html": [
       "<div>\n",
       "<style scoped>\n",
       "    .dataframe tbody tr th:only-of-type {\n",
       "        vertical-align: middle;\n",
       "    }\n",
       "\n",
       "    .dataframe tbody tr th {\n",
       "        vertical-align: top;\n",
       "    }\n",
       "\n",
       "    .dataframe thead th {\n",
       "        text-align: right;\n",
       "    }\n",
       "</style>\n",
       "<table border=\"1\" class=\"dataframe\">\n",
       "  <thead>\n",
       "    <tr style=\"text-align: right;\">\n",
       "      <th></th>\n",
       "      <th>trc</th>\n",
       "      <th>bv</th>\n",
       "      <th>color</th>\n",
       "      <th>floor</th>\n",
       "      <th>mark</th>\n",
       "      <th>bvtc</th>\n",
       "      <th>instance</th>\n",
       "      <th>compare</th>\n",
       "    </tr>\n",
       "  </thead>\n",
       "  <tbody>\n",
       "    <tr>\n",
       "      <th>0</th>\n",
       "      <td>E-AE07</td>\n",
       "      <td>J2E</td>\n",
       "      <td>B</td>\n",
       "      <td>10</td>\n",
       "      <td>mark</td>\n",
       "      <td>J2E-B</td>\n",
       "      <td>1</td>\n",
       "      <td>J2E-B[1]</td>\n",
       "    </tr>\n",
       "    <tr>\n",
       "      <th>1</th>\n",
       "      <td>E-AG08</td>\n",
       "      <td>CS5</td>\n",
       "      <td>F</td>\n",
       "      <td>10</td>\n",
       "      <td>mark</td>\n",
       "      <td>CS5-F</td>\n",
       "      <td>1</td>\n",
       "      <td>CS5-F[1]</td>\n",
       "    </tr>\n",
       "    <tr>\n",
       "      <th>2</th>\n",
       "      <td>E-AG08b</td>\n",
       "      <td>CS3</td>\n",
       "      <td>A</td>\n",
       "      <td>10</td>\n",
       "      <td>mark</td>\n",
       "      <td>CS3-A</td>\n",
       "      <td>1</td>\n",
       "      <td>CS3-A[1]</td>\n",
       "    </tr>\n",
       "    <tr>\n",
       "      <th>3</th>\n",
       "      <td>E-AG09</td>\n",
       "      <td>J2E</td>\n",
       "      <td>A</td>\n",
       "      <td>10</td>\n",
       "      <td>mark</td>\n",
       "      <td>J2E-A</td>\n",
       "      <td>1</td>\n",
       "      <td>J2E-A[1]</td>\n",
       "    </tr>\n",
       "    <tr>\n",
       "      <th>4</th>\n",
       "      <td>N-B02</td>\n",
       "      <td>A10C</td>\n",
       "      <td>A</td>\n",
       "      <td>12</td>\n",
       "      <td>mark</td>\n",
       "      <td>A10C-A</td>\n",
       "      <td>1</td>\n",
       "      <td>A10C-A[1]</td>\n",
       "    </tr>\n",
       "  </tbody>\n",
       "</table>\n",
       "</div>"
      ],
      "text/plain": [
       "       trc    bv color  floor  mark    bvtc  instance    compare\n",
       "0   E-AE07   J2E     B     10  mark   J2E-B         1   J2E-B[1]\n",
       "1   E-AG08   CS5     F     10  mark   CS5-F         1   CS5-F[1]\n",
       "2  E-AG08b   CS3     A     10  mark   CS3-A         1   CS3-A[1]\n",
       "3   E-AG09   J2E     A     10  mark   J2E-A         1   J2E-A[1]\n",
       "4    N-B02  A10C     A     12  mark  A10C-A         1  A10C-A[1]"
      ]
     },
     "execution_count": 20,
     "metadata": {},
     "output_type": "execute_result"
    }
   ],
   "source": [
    "import pandas as pd\n",
    "\n",
    "\n",
    "mc = r\"C:\\Users\\mkreidler\\Desktop\\mark.xlsx\"\n",
    "ct = r\"C:\\Users\\mkreidler\\Desktop\\ctrac.xlsx\"\n",
    "\n",
    "mark = pd.read_excel(mc)\n",
    "ctrac = pd.read_excel(ct)\n",
    "def clean(x):\n",
    "    x = str(x).replace(\"-E\", \"-A\")\n",
    "    result = str(x).strip()\n",
    "    return result\n",
    "\n",
    "\n",
    "mark[\"bvtc\"] = mark.bv + \"-\" + mark.color\n",
    "mark[\"instance\"] = mark.groupby(\"bvtc\").cumcount()+1\n",
    "ctrac[\"instance\"] = ctrac.groupby(\"bvtc\").cumcount()+1\n",
    "mark[\"compare\"] = mark.bvtc.apply(clean) + \"[\" + mark.instance.map(str) + \"]\"\n",
    "ctrac[\"compare\"] = ctrac.bvtc.map(str).apply(clean) + \"[\" + ctrac.instance.map(str) + \"]\"\n",
    "mark.head()\n"
   ]
  },
  {
   "cell_type": "code",
   "execution_count": 27,
   "metadata": {},
   "outputs": [
    {
     "data": {
      "text/plain": [
       "2774"
      ]
     },
     "execution_count": 27,
     "metadata": {},
     "output_type": "execute_result"
    }
   ],
   "source": [
    "m = mark.merge(ctrac, on=\"compare\", how=\"inner\")\n",
    "\n",
    "len(m)"
   ]
  },
  {
   "cell_type": "code",
   "execution_count": 40,
   "metadata": {},
   "outputs": [
    {
     "data": {
      "text/html": [
       "<div>\n",
       "<style scoped>\n",
       "    .dataframe tbody tr th:only-of-type {\n",
       "        vertical-align: middle;\n",
       "    }\n",
       "\n",
       "    .dataframe tbody tr th {\n",
       "        vertical-align: top;\n",
       "    }\n",
       "\n",
       "    .dataframe thead th {\n",
       "        text-align: right;\n",
       "    }\n",
       "</style>\n",
       "<table border=\"1\" class=\"dataframe\">\n",
       "  <thead>\n",
       "    <tr style=\"text-align: right;\">\n",
       "      <th></th>\n",
       "      <th>trc</th>\n",
       "      <th>bv</th>\n",
       "      <th>color</th>\n",
       "      <th>floor</th>\n",
       "      <th>mark</th>\n",
       "      <th>bvtc_x</th>\n",
       "      <th>instance_x</th>\n",
       "      <th>compare</th>\n",
       "      <th>bvtc_y</th>\n",
       "      <th>location</th>\n",
       "      <th>ctrac</th>\n",
       "      <th>instance_y</th>\n",
       "    </tr>\n",
       "  </thead>\n",
       "  <tbody>\n",
       "    <tr>\n",
       "      <th>0</th>\n",
       "      <td>E-AE07</td>\n",
       "      <td>J2E</td>\n",
       "      <td>B</td>\n",
       "      <td>10</td>\n",
       "      <td>mark</td>\n",
       "      <td>J2E-B</td>\n",
       "      <td>1</td>\n",
       "      <td>J2E-B[1]</td>\n",
       "      <td>J2E-B</td>\n",
       "      <td>SHPD</td>\n",
       "      <td>ctrac</td>\n",
       "      <td>1</td>\n",
       "    </tr>\n",
       "    <tr>\n",
       "      <th>1</th>\n",
       "      <td>E-AG08</td>\n",
       "      <td>CS5</td>\n",
       "      <td>F</td>\n",
       "      <td>10</td>\n",
       "      <td>mark</td>\n",
       "      <td>CS5-F</td>\n",
       "      <td>1</td>\n",
       "      <td>CS5-F[1]</td>\n",
       "      <td>CS5-F</td>\n",
       "      <td>SHPD</td>\n",
       "      <td>ctrac</td>\n",
       "      <td>1</td>\n",
       "    </tr>\n",
       "    <tr>\n",
       "      <th>2</th>\n",
       "      <td>E-AG08b</td>\n",
       "      <td>CS3</td>\n",
       "      <td>A</td>\n",
       "      <td>10</td>\n",
       "      <td>mark</td>\n",
       "      <td>CS3-A</td>\n",
       "      <td>1</td>\n",
       "      <td>CS3-A[1]</td>\n",
       "      <td>CS3-E</td>\n",
       "      <td>SHPD</td>\n",
       "      <td>ctrac</td>\n",
       "      <td>1</td>\n",
       "    </tr>\n",
       "    <tr>\n",
       "      <th>3</th>\n",
       "      <td>E-AG09</td>\n",
       "      <td>J2E</td>\n",
       "      <td>A</td>\n",
       "      <td>10</td>\n",
       "      <td>mark</td>\n",
       "      <td>J2E-A</td>\n",
       "      <td>1</td>\n",
       "      <td>J2E-A[1]</td>\n",
       "      <td>J2E-E</td>\n",
       "      <td>SHPD</td>\n",
       "      <td>ctrac</td>\n",
       "      <td>1</td>\n",
       "    </tr>\n",
       "    <tr>\n",
       "      <th>4</th>\n",
       "      <td>N-B02</td>\n",
       "      <td>A10C</td>\n",
       "      <td>A</td>\n",
       "      <td>12</td>\n",
       "      <td>mark</td>\n",
       "      <td>A10C-A</td>\n",
       "      <td>1</td>\n",
       "      <td>A10C-A[1]</td>\n",
       "      <td>A10C-E</td>\n",
       "      <td>SIZNG</td>\n",
       "      <td>ctrac</td>\n",
       "      <td>1</td>\n",
       "    </tr>\n",
       "  </tbody>\n",
       "</table>\n",
       "</div>"
      ],
      "text/plain": [
       "       trc    bv color  floor  mark  bvtc_x  instance_x    compare  \\\n",
       "0   E-AE07   J2E     B     10  mark   J2E-B           1   J2E-B[1]   \n",
       "1   E-AG08   CS5     F     10  mark   CS5-F           1   CS5-F[1]   \n",
       "2  E-AG08b   CS3     A     10  mark   CS3-A           1   CS3-A[1]   \n",
       "3   E-AG09   J2E     A     10  mark   J2E-A           1   J2E-A[1]   \n",
       "4    N-B02  A10C     A     12  mark  A10C-A           1  A10C-A[1]   \n",
       "\n",
       "       bvtc_y  location  ctrac  instance_y  \n",
       "0   J2E-B       SHPD     ctrac           1  \n",
       "1   CS5-F       SHPD     ctrac           1  \n",
       "2   CS3-E       SHPD     ctrac           1  \n",
       "3   J2E-E       SHPD     ctrac           1  \n",
       "4   A10C-E      SIZNG    ctrac           1  "
      ]
     },
     "execution_count": 40,
     "metadata": {},
     "output_type": "execute_result"
    }
   ],
   "source": [
    "m.head()"
   ]
  },
  {
   "cell_type": "code",
   "execution_count": 35,
   "metadata": {},
   "outputs": [
    {
     "data": {
      "text/plain": [
       "306"
      ]
     },
     "execution_count": 35,
     "metadata": {},
     "output_type": "execute_result"
    }
   ],
   "source": [
    "mout = mark.merge(ctrac, on=\"compare\", how=\"outer\")\n",
    "\n",
    "not_in_ctrac = mout.loc[mout.ctrac.isna(), :]\n",
    "\n",
    "len(not_in_ctrac)"
   ]
  },
  {
   "cell_type": "code",
   "execution_count": 33,
   "metadata": {},
   "outputs": [],
   "source": [
    "mout.to_excel(r\"C:\\Users\\mkreidler\\Desktop\\mout.xlsx\")"
   ]
  },
  {
   "cell_type": "code",
   "execution_count": 36,
   "metadata": {},
   "outputs": [
    {
     "data": {
      "text/plain": [
       "3228"
      ]
     },
     "execution_count": 36,
     "metadata": {},
     "output_type": "execute_result"
    }
   ],
   "source": [
    "len(mout)"
   ]
  },
  {
   "cell_type": "code",
   "execution_count": 37,
   "metadata": {},
   "outputs": [
    {
     "data": {
      "text/plain": [
       "2776"
      ]
     },
     "execution_count": 37,
     "metadata": {},
     "output_type": "execute_result"
    }
   ],
   "source": [
    "len(mark)"
   ]
  },
  {
   "cell_type": "code",
   "execution_count": 38,
   "metadata": {},
   "outputs": [
    {
     "data": {
      "text/plain": [
       "2918"
      ]
     },
     "execution_count": 38,
     "metadata": {},
     "output_type": "execute_result"
    }
   ],
   "source": [
    "len(ctrac)"
   ]
  },
  {
   "cell_type": "code",
   "execution_count": 43,
   "metadata": {},
   "outputs": [
    {
     "data": {
      "text/html": [
       "<div>\n",
       "<style scoped>\n",
       "    .dataframe tbody tr th:only-of-type {\n",
       "        vertical-align: middle;\n",
       "    }\n",
       "\n",
       "    .dataframe tbody tr th {\n",
       "        vertical-align: top;\n",
       "    }\n",
       "\n",
       "    .dataframe thead th {\n",
       "        text-align: right;\n",
       "    }\n",
       "</style>\n",
       "<table border=\"1\" class=\"dataframe\">\n",
       "  <thead>\n",
       "    <tr style=\"text-align: right;\">\n",
       "      <th></th>\n",
       "      <th>trc</th>\n",
       "      <th>bv</th>\n",
       "      <th>color</th>\n",
       "      <th>floor</th>\n",
       "      <th>mark</th>\n",
       "      <th>bvtc_x</th>\n",
       "      <th>instance_x</th>\n",
       "      <th>compare</th>\n",
       "      <th>bvtc_y</th>\n",
       "      <th>location</th>\n",
       "      <th>ctrac</th>\n",
       "      <th>instance_y</th>\n",
       "    </tr>\n",
       "  </thead>\n",
       "  <tbody>\n",
       "    <tr>\n",
       "      <th>0</th>\n",
       "      <td>E-AE07</td>\n",
       "      <td>J2E</td>\n",
       "      <td>B</td>\n",
       "      <td>10</td>\n",
       "      <td>mark</td>\n",
       "      <td>J2E-B</td>\n",
       "      <td>1</td>\n",
       "      <td>J2E-B[1]</td>\n",
       "      <td>J2E-B</td>\n",
       "      <td>SHPD</td>\n",
       "      <td>ctrac</td>\n",
       "      <td>1.0</td>\n",
       "    </tr>\n",
       "    <tr>\n",
       "      <th>1</th>\n",
       "      <td>E-AG08</td>\n",
       "      <td>CS5</td>\n",
       "      <td>F</td>\n",
       "      <td>10</td>\n",
       "      <td>mark</td>\n",
       "      <td>CS5-F</td>\n",
       "      <td>1</td>\n",
       "      <td>CS5-F[1]</td>\n",
       "      <td>CS5-F</td>\n",
       "      <td>SHPD</td>\n",
       "      <td>ctrac</td>\n",
       "      <td>1.0</td>\n",
       "    </tr>\n",
       "    <tr>\n",
       "      <th>2</th>\n",
       "      <td>E-AG08b</td>\n",
       "      <td>CS3</td>\n",
       "      <td>A</td>\n",
       "      <td>10</td>\n",
       "      <td>mark</td>\n",
       "      <td>CS3-A</td>\n",
       "      <td>1</td>\n",
       "      <td>CS3-A[1]</td>\n",
       "      <td>CS3-E</td>\n",
       "      <td>SHPD</td>\n",
       "      <td>ctrac</td>\n",
       "      <td>1.0</td>\n",
       "    </tr>\n",
       "    <tr>\n",
       "      <th>3</th>\n",
       "      <td>E-AG09</td>\n",
       "      <td>J2E</td>\n",
       "      <td>A</td>\n",
       "      <td>10</td>\n",
       "      <td>mark</td>\n",
       "      <td>J2E-A</td>\n",
       "      <td>1</td>\n",
       "      <td>J2E-A[1]</td>\n",
       "      <td>J2E-E</td>\n",
       "      <td>SHPD</td>\n",
       "      <td>ctrac</td>\n",
       "      <td>1.0</td>\n",
       "    </tr>\n",
       "    <tr>\n",
       "      <th>4</th>\n",
       "      <td>N-B02</td>\n",
       "      <td>A10C</td>\n",
       "      <td>A</td>\n",
       "      <td>12</td>\n",
       "      <td>mark</td>\n",
       "      <td>A10C-A</td>\n",
       "      <td>1</td>\n",
       "      <td>A10C-A[1]</td>\n",
       "      <td>A10C-E</td>\n",
       "      <td>SIZNG</td>\n",
       "      <td>ctrac</td>\n",
       "      <td>1.0</td>\n",
       "    </tr>\n",
       "  </tbody>\n",
       "</table>\n",
       "</div>"
      ],
      "text/plain": [
       "       trc    bv color  floor  mark  bvtc_x  instance_x    compare  \\\n",
       "0   E-AE07   J2E     B     10  mark   J2E-B           1   J2E-B[1]   \n",
       "1   E-AG08   CS5     F     10  mark   CS5-F           1   CS5-F[1]   \n",
       "2  E-AG08b   CS3     A     10  mark   CS3-A           1   CS3-A[1]   \n",
       "3   E-AG09   J2E     A     10  mark   J2E-A           1   J2E-A[1]   \n",
       "4    N-B02  A10C     A     12  mark  A10C-A           1  A10C-A[1]   \n",
       "\n",
       "       bvtc_y  location  ctrac  instance_y  \n",
       "0   J2E-B       SHPD     ctrac         1.0  \n",
       "1   CS5-F       SHPD     ctrac         1.0  \n",
       "2   CS3-E       SHPD     ctrac         1.0  \n",
       "3   J2E-E       SHPD     ctrac         1.0  \n",
       "4   A10C-E      SIZNG    ctrac         1.0  "
      ]
     },
     "execution_count": 43,
     "metadata": {},
     "output_type": "execute_result"
    }
   ],
   "source": [
    "mleft = mark.merge(ctrac, on=\"compare\", how=\"left\")\n",
    "\n",
    "mleft.head()"
   ]
  },
  {
   "cell_type": "code",
   "execution_count": 45,
   "metadata": {},
   "outputs": [
    {
     "data": {
      "text/plain": [
       "306"
      ]
     },
     "execution_count": 45,
     "metadata": {},
     "output_type": "execute_result"
    }
   ],
   "source": [
    "len(mleft.loc[mleft.ctrac.isna(), :])"
   ]
  },
  {
   "cell_type": "code",
   "execution_count": null,
   "metadata": {},
   "outputs": [],
   "source": []
  }
 ],
 "metadata": {
  "kernelspec": {
   "display_name": "Python 3",
   "language": "python",
   "name": "python3"
  },
  "language_info": {
   "codemirror_mode": {
    "name": "ipython",
    "version": 3
   },
   "file_extension": ".py",
   "mimetype": "text/x-python",
   "name": "python",
   "nbconvert_exporter": "python",
   "pygments_lexer": "ipython3",
   "version": "3.6.8"
  }
 },
 "nbformat": 4,
 "nbformat_minor": 2
}
