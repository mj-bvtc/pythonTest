{
 "cells": [
  {
   "cell_type": "code",
   "execution_count": 4,
   "metadata": {},
   "outputs": [
    {
     "data": {
      "text/plain": [
       "\"['2B11 1', '2B13 1', '2B1A 1', '2B2 1', '2B9 1', '3B10 1', '3B11 3', '4A1 1', '4A2 1', '4B1C 2', '4B1D 1', '4B1H 1', '4B1J 1', '4B2A 1', '4B3A 1', '4B3C 1', '4B3F 1', '4B4B 1', '5B4 2', '6A13A 1', '6A1A 2', '6A3 1', '6A7A 1', '6B10 2', '6B13 2', '6B2 3', '6B4 1', '6B6 1', '6C6 1', '7B1 1', '8A1 1', '8C1 2', '8C1A 2', '8C3 1', '8C3A 1', '8C4 4', '8C4A 4', '8C5 3', '8C6 4', '8C6A 2', '8C7 1', '8C7A 2', '8C8 2', '8C8A 1', '9C9 3', '9D1 3', '9D10 2', '9D1-B 2', '9D8 3', '9E7 1', '9E8 1', '9F1B 1', '9G5 1', 'A12A 1', 'A14A 2', 'A15 1', 'A15A 1', 'A16 2', 'A16A 2', 'A18 4', 'A19 2', 'A19A 4', 'A23 2', 'A23A 1', 'AG2 1', 'B17 25', 'B20 1', 'B21 2', 'B22 2', 'B24 2', 'B25 11', 'B26 10', 'B26A 1', 'B37 12', 'B38 13', 'B38A 17', 'B9 1']\""
      ]
     },
     "execution_count": 4,
     "metadata": {},
     "output_type": "execute_result"
    }
   ],
   "source": [
    "import pandas as pd\n",
    "\n",
    "\n",
    "file = r\"C:\\Users\\mkreidler\\Desktop\\text to speech.xlsx\"\n",
    "\n",
    "df = pd.read_excel(file)\n",
    "\n",
    "df[\"read\"] = df.name + \" \" + df.number.map(str)\n",
    "\n",
    "str(df.read.tolist())"
   ]
  },
  {
   "cell_type": "code",
   "execution_count": null,
   "metadata": {},
   "outputs": [],
   "source": []
  }
 ],
 "metadata": {
  "kernelspec": {
   "display_name": "Python 3",
   "language": "python",
   "name": "python3"
  },
  "language_info": {
   "codemirror_mode": {
    "name": "ipython",
    "version": 3
   },
   "file_extension": ".py",
   "mimetype": "text/x-python",
   "name": "python",
   "nbconvert_exporter": "python",
   "pygments_lexer": "ipython3",
   "version": "3.6.5"
  }
 },
 "nbformat": 4,
 "nbformat_minor": 2
}
