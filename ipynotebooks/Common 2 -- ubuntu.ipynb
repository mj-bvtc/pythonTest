{
 "cells": [
  {
   "cell_type": "code",
   "execution_count": 1,
   "metadata": {},
   "outputs": [
    {
     "data": {
      "text/plain": [
       "'Object created at 2019-07-08 11:47:15.427209 by user mkreidler on BVTC-Render08 machine with guid 265cc7fa-856b-4f6f-9d69-cf2c28ed764c'"
      ]
     },
     "execution_count": 1,
     "metadata": {},
     "output_type": "execute_result"
    }
   ],
   "source": [
    "import datetime\n",
    "import getpass\n",
    "import socket\n",
    "import uuid\n",
    "\n",
    "class Common():\n",
    "    def __init__(self):\n",
    "        self.user = getpass.getuser()\n",
    "        self.device = socket.gethostname()\n",
    "        self.created_dt = datetime.datetime.now()\n",
    "        self.guid = uuid.uuid4()\n",
    "    \n",
    "    def report(self):\n",
    "        message = f\"Object created at {self.created_dt} by user {self.user} on {self.device} machine with guid {self.guid}\"\n",
    "        return message\n",
    "    \n",
    "c = Common()\n",
    "c.report()"
   ]
  },
  {
   "cell_type": "code",
   "execution_count": null,
   "metadata": {},
   "outputs": [],
   "source": []
  }
 ],
 "metadata": {
  "kernelspec": {
   "display_name": "Python 3",
   "language": "python",
   "name": "python3"
  },
  "language_info": {
   "codemirror_mode": {
    "name": "ipython",
    "version": 3
   },
   "file_extension": ".py",
   "mimetype": "text/x-python",
   "name": "python",
   "nbconvert_exporter": "python",
   "pygments_lexer": "ipython3",
   "version": "3.6.5"
  }
 },
 "nbformat": 4,
 "nbformat_minor": 2
}
