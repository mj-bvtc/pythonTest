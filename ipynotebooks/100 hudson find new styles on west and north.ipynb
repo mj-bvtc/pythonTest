{
 "cells": [
  {
   "cell_type": "code",
   "execution_count": 22,
   "metadata": {},
   "outputs": [
    {
     "data": {
      "text/plain": [
       "array(['3F-DC-NW', '3F-FAB-C-NW', '3F-FAB-P-CL1', '3F-FAB-P-CL2',\n",
       "       '3F-P-C-NW', '3F-PS-C-NW-B', '3F-PS-TC-T', '3F-RJ-T', '3F-TB-C-NW',\n",
       "       '3F-TT-C-NW', '3F-WSH-NW', '4F-P-C-NW', '4F-P-CR1', '4F-SU-L',\n",
       "       '4F-WSH-P-CL1', '4F-WSH-P-CR1', '9-WSH-C-NW', '9F-DC-NW',\n",
       "       '9F-FC-NW', '9F-P-L', '9F-PS-C-NW-F', '9F-PS-CA1', '9F-PS-TR-1',\n",
       "       '9F-PS-TR-B', '9F-TP-1', '9F-TP-C-NW', 'AB-C-NW', 'AB-C2',\n",
       "       'AT-C-NW', 'BHP-C-NW', 'BHP-L1', 'FAB-NWC', 'K-H1', 'PED-1'],\n",
       "      dtype=object)"
      ]
     },
     "execution_count": 22,
     "metadata": {},
     "output_type": "execute_result"
    }
   ],
   "source": [
    "import pandas as pd\n",
    "\n",
    "south = r\"C:\\Users\\mkreidler\\Desktop\\Test Setting Folder\\100 Hudson South\\Multisheet_export.xlsx\"\n",
    "\n",
    "survey_3 = r\"C:\\Users\\mkreidler\\Desktop\\Test Setting Folder\\100 Hudson Survey 3 files\\Multisheet_export.xlsx\"\n",
    "\n",
    "df_south = pd.read_excel(south, sheet_name=\"Names\")\n",
    "df_3 = pd.read_excel(survey_3, sheet_name=\"Names\")\n",
    "\n",
    "\n",
    "df_south = df_south[[\"name\", \"guid\"]]\n",
    "\n",
    "df_south = df_south.rename(columns={\"guid\":\"qty_south\"})\n",
    "\n",
    "\n",
    "df_3 = df_3[[\"name\", \"guid\"]]\n",
    "\n",
    "df_3 = df_3.rename(columns={\"guid\":\"qty_3\"})\n",
    "\n",
    "# merge two dataframes and fill nas with 0\n",
    "merge = df_south.merge(df_3, on=\"name\", how=\"outer\").fillna(0)\n",
    "\n",
    "# do not include things that are not to be surveyed, ie survey 3 equals 0\n",
    "merge = merge.loc[merge.qty_3 != 0]\n",
    "\n",
    "# show only values where south is zero, in effect showing new styles\n",
    "merge = merge.loc[merge.qty_south == 0]\n",
    "\n",
    "new_units = merge.name.unique()\n",
    "\n",
    "new_units"
   ]
  },
  {
   "cell_type": "code",
   "execution_count": 23,
   "metadata": {},
   "outputs": [
    {
     "data": {
      "text/plain": [
       "34"
      ]
     },
     "execution_count": 23,
     "metadata": {},
     "output_type": "execute_result"
    }
   ],
   "source": [
    "len(new_units)"
   ]
  },
  {
   "cell_type": "code",
   "execution_count": 24,
   "metadata": {},
   "outputs": [
    {
     "name": "stdout",
     "output_type": "stream",
     "text": [
      "3F-DC-NW\n",
      "3F-FAB-C-NW\n",
      "3F-FAB-P-CL1\n",
      "3F-FAB-P-CL2\n",
      "3F-P-C-NW\n",
      "3F-PS-C-NW-B\n",
      "3F-PS-TC-T\n",
      "3F-RJ-T\n",
      "3F-TB-C-NW\n",
      "3F-TT-C-NW\n",
      "3F-WSH-NW\n",
      "4F-P-C-NW\n",
      "4F-P-CR1\n",
      "4F-SU-L\n",
      "4F-WSH-P-CL1\n",
      "4F-WSH-P-CR1\n",
      "9-WSH-C-NW\n",
      "9F-DC-NW\n",
      "9F-FC-NW\n",
      "9F-P-L\n",
      "9F-PS-C-NW-F\n",
      "9F-PS-CA1\n",
      "9F-PS-TR-1\n",
      "9F-PS-TR-B\n",
      "9F-TP-1\n",
      "9F-TP-C-NW\n",
      "AB-C-NW\n",
      "AB-C2\n",
      "AT-C-NW\n",
      "BHP-C-NW\n",
      "BHP-L1\n",
      "FAB-NWC\n",
      "K-H1\n",
      "PED-1\n"
     ]
    }
   ],
   "source": [
    "for unit in new_units:\n",
    "    print(unit)"
   ]
  },
  {
   "cell_type": "code",
   "execution_count": null,
   "metadata": {},
   "outputs": [],
   "source": []
  }
 ],
 "metadata": {
  "kernelspec": {
   "display_name": "Python 3",
   "language": "python",
   "name": "python3"
  },
  "language_info": {
   "codemirror_mode": {
    "name": "ipython",
    "version": 3
   },
   "file_extension": ".py",
   "mimetype": "text/x-python",
   "name": "python",
   "nbconvert_exporter": "python",
   "pygments_lexer": "ipython3",
   "version": "3.6.8"
  }
 },
 "nbformat": 4,
 "nbformat_minor": 2
}
