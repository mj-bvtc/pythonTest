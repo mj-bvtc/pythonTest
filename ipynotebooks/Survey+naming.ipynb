{
 "cells": [
  {
   "cell_type": "code",
   "execution_count": 34,
   "metadata": {},
   "outputs": [],
   "source": [
    "import re\n",
    "import os\n",
    "import qrcode\n",
    "import uuid\n",
    "\n",
    "\n",
    "class Bumper:\n",
    "    def __init__(self, _input):\n",
    "        self.input = _input\n",
    "        self.drop = None\n",
    "        self.floor = None\n",
    "        self.blocks = []\n",
    "        self.instance = None\n",
    "        self.description = None\n",
    "        self.length = None\n",
    "        self.guid = uuid.uuid4()\n",
    "        \n",
    "    def sort(self):\n",
    "        s = self.input.split(\"-\")\n",
    "        self.drop = s[0]\n",
    "        self.floor = int(s[1])\n",
    "        last = \"\".join(x[2:])\n",
    "        self.blocks = last.split(\"_\")\n",
    "        self.instance = re.findall(r\"\\(\\w+\\)\", search)\n",
    "        path = r\"C:\\Users\\mkreidler\\Desktop\\download3.png\"\n",
    "\n",
    "n = Bumper(\"W5-3-AS2R\")\n",
    "n.sort()\n",
    "\n",
    "def make_qr(text, path):\n",
    "    qr = qrcode.QRCode(\n",
    "    version=1,\n",
    "    error_correction=qrcode.constants.ERROR_CORRECT_L,\n",
    "    box_size=3,\n",
    "    border=4,)\n",
    "    qr.add_data(text)\n",
    "    img = qr.make_image().save(path)\n",
    "    return img \n",
    "\n",
    "q = make_qr(n.guid, r\"C:\\Users\\mkreidler\\Desktop\\download4.png\")\n",
    "\n"
   ]
  },
  {
   "cell_type": "code",
   "execution_count": null,
   "metadata": {
    "collapsed": true
   },
   "outputs": [],
   "source": []
  },
  {
   "cell_type": "code",
   "execution_count": null,
   "metadata": {},
   "outputs": [],
   "source": []
  },
  {
   "cell_type": "code",
   "execution_count": null,
   "metadata": {},
   "outputs": [],
   "source": []
  },
  {
   "cell_type": "code",
   "execution_count": null,
   "metadata": {},
   "outputs": [],
   "source": []
  },
  {
   "cell_type": "code",
   "execution_count": null,
   "metadata": {},
   "outputs": [],
   "source": [
    "\n",
    "\n"
   ]
  },
  {
   "cell_type": "code",
   "execution_count": null,
   "metadata": {},
   "outputs": [],
   "source": []
  },
  {
   "cell_type": "code",
   "execution_count": null,
   "metadata": {
    "collapsed": true
   },
   "outputs": [],
   "source": []
  }
 ],
 "metadata": {
  "kernelspec": {
   "display_name": "Python 3",
   "language": "python",
   "name": "python3"
  },
  "language_info": {
   "codemirror_mode": {
    "name": "ipython",
    "version": 3
   },
   "file_extension": ".py",
   "mimetype": "text/x-python",
   "name": "python",
   "nbconvert_exporter": "python",
   "pygments_lexer": "ipython3",
   "version": "3.6.1"
  }
 },
 "nbformat": 4,
 "nbformat_minor": 2
}
