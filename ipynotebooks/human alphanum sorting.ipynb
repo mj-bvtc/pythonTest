{
 "cells": [
  {
   "cell_type": "code",
   "execution_count": 10,
   "metadata": {},
   "outputs": [
    {
     "name": "stderr",
     "output_type": "stream",
     "text": [
      "C:\\Users\\mkreidler.BVTCCLOUD\\AppData\\Local\\Continuum\\Anaconda3\\lib\\re.py:212: FutureWarning: split() requires a non-empty pattern match.\n",
      "  return _compile(pattern, flags).split(string, maxsplit)\n"
     ]
    },
    {
     "data": {
      "text/plain": [
       "['2', '11', '12', '200', '1000', 'ab5', 'ac1']"
      ]
     },
     "execution_count": 10,
     "metadata": {},
     "output_type": "execute_result"
    }
   ],
   "source": [
    "test = [\"ac1\",2,\"200\",11, \"ab5\",\"12\",\"1000\"]\n",
    "\n",
    "\n",
    "#test.sort(key=int)\n",
    "\n",
    "\n",
    "import re\n",
    "def sort_human(l):\n",
    "    l = [str(x) for x in l]\n",
    "    convert = lambda text: float(text) if text.isdigit() else text\n",
    "    alphanum = lambda key: [ convert(c) for c in re.split('([-+]?[0-9]*\\.?[0-9]*)', key) ]\n",
    "    l.sort( key=alphanum )\n",
    "    return l\n",
    "\n",
    "sort_human(test)"
   ]
  },
  {
   "cell_type": "code",
   "execution_count": null,
   "metadata": {
    "collapsed": true
   },
   "outputs": [],
   "source": []
  }
 ],
 "metadata": {
  "kernelspec": {
   "display_name": "Python 3",
   "language": "python",
   "name": "python3"
  },
  "language_info": {
   "codemirror_mode": {
    "name": "ipython",
    "version": 3
   },
   "file_extension": ".py",
   "mimetype": "text/x-python",
   "name": "python",
   "nbconvert_exporter": "python",
   "pygments_lexer": "ipython3",
   "version": "3.6.1"
  }
 },
 "nbformat": 4,
 "nbformat_minor": 2
}
