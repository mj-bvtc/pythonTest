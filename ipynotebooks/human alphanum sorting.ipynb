{
 "cells": [
  {
   "cell_type": "code",
   "execution_count": 16,
   "metadata": {},
   "outputs": [
    {
     "data": {
      "text/plain": [
       "['0', '0', '1-000', '1-2!', '2', '11', '200', '20000000', 'ab5', 'ac1']"
      ]
     },
     "execution_count": 16,
     "metadata": {},
     "output_type": "execute_result"
    }
   ],
   "source": [
    "test = [\"ac1\",2,\"200\",11, \"ab5\",\"1-2!\",\"1-000\", 20000000, \"0\",0]\n",
    "\n",
    "\n",
    "#test.sort(key=int)\n",
    "\n",
    "\n",
    "import re\n",
    "def sort_human(l):\n",
    "    l = [str(x) for x in l]\n",
    "    convert = lambda text: float(text) if text.isdigit() else text\n",
    "    alphanum = lambda key: [ convert(c) for c in re.split('([-+]?[0-9]*\\.?[0-9]+)', key) ]\n",
    "    l.sort( key=alphanum )\n",
    "    return l\n",
    "\n",
    "sort_human(test)"
   ]
  },
  {
   "cell_type": "code",
   "execution_count": null,
   "metadata": {
    "collapsed": true
   },
   "outputs": [],
   "source": []
  }
 ],
 "metadata": {
  "kernelspec": {
   "display_name": "Python 3",
   "language": "python",
   "name": "python3"
  },
  "language_info": {
   "codemirror_mode": {
    "name": "ipython",
    "version": 3
   },
   "file_extension": ".py",
   "mimetype": "text/x-python",
   "name": "python",
   "nbconvert_exporter": "python",
   "pygments_lexer": "ipython3",
   "version": "3.6.5"
  }
 },
 "nbformat": 4,
 "nbformat_minor": 2
}
