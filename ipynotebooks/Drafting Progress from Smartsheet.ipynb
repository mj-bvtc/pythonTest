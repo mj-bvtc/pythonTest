{
 "cells": [
  {
   "cell_type": "code",
   "execution_count": 43,
   "metadata": {},
   "outputs": [
    {
     "data": {
      "text/plain": [
       "501.0"
      ]
     },
     "execution_count": 43,
     "metadata": {},
     "output_type": "execute_result"
    }
   ],
   "source": [
    "import pandas as pd\n",
    "\n",
    "file = r\"C:\\Users\\mkreidler\\Desktop\\Drafting Smartsheet.xlsx\"\n",
    "\n",
    "df = pd.read_excel(file)\n",
    "\n",
    "cols = [\"Task Name\", \"Drafting Status\", \"# Dwgs\"]\n",
    "\n",
    "df[cols]\n",
    "\n",
    "\n",
    "df[\"# Dwgs\"] = df[\"# Dwgs\"].dropna()\n",
    "df[\"# Dwgs\"] = df[\"# Dwgs\"].apply(lambda x : str(x).replace(\"~\", \"\"))\n",
    "df[\"# Dwgs\"] = df[\"# Dwgs\"].apply(lambda x : str(x).replace(\"(19 signed)\", \"\"))\n",
    "df[\"# Dwgs\"] = df[\"# Dwgs\"].apply(lambda x : str(x).replace(\"nan\", \"\"))\n",
    "\n",
    "keep = [\"Hold\", \"Need Info\", \"On Deck\", \"In Progress\", \"Revising\"]\n",
    "\n",
    "shops = df[df[\"Drafting Status\"].isin(keep)][cols]\n",
    "\n",
    "shops[\"# Dwgs\"] = pd.to_numeric(shops[\"# Dwgs\"])\n",
    "\n",
    "shops.dropna()\n",
    "\n",
    "\n",
    "shops[\"# Dwgs\"].sum()"
   ]
  },
  {
   "cell_type": "code",
   "execution_count": 50,
   "metadata": {},
   "outputs": [
    {
     "data": {
      "text/html": [
       "<div>\n",
       "<style scoped>\n",
       "    .dataframe tbody tr th:only-of-type {\n",
       "        vertical-align: middle;\n",
       "    }\n",
       "\n",
       "    .dataframe tbody tr th {\n",
       "        vertical-align: top;\n",
       "    }\n",
       "\n",
       "    .dataframe thead th {\n",
       "        text-align: right;\n",
       "    }\n",
       "</style>\n",
       "<table border=\"1\" class=\"dataframe\">\n",
       "  <thead>\n",
       "    <tr style=\"text-align: right;\">\n",
       "      <th></th>\n",
       "      <th>Task Name</th>\n",
       "      <th>Drafting Status</th>\n",
       "      <th># Dwgs</th>\n",
       "    </tr>\n",
       "  </thead>\n",
       "  <tbody>\n",
       "    <tr>\n",
       "      <th>0</th>\n",
       "      <td>114 Fifth Ave (Redesigning and Req. 2 courses ...</td>\n",
       "      <td>On Deck</td>\n",
       "      <td>5.0</td>\n",
       "    </tr>\n",
       "    <tr>\n",
       "      <th>28</th>\n",
       "      <td>310-320 West 86th Street (Scope needs to be fi...</td>\n",
       "      <td>In Progress</td>\n",
       "      <td>54.0</td>\n",
       "    </tr>\n",
       "    <tr>\n",
       "      <th>59</th>\n",
       "      <td>59 Bleecker CO5 (RFI to contractor\\n)</td>\n",
       "      <td>Need Info</td>\n",
       "      <td>3.0</td>\n",
       "    </tr>\n",
       "    <tr>\n",
       "      <th>84</th>\n",
       "      <td>314 West 72nd St. (Chatsworth Apartments) - Pr...</td>\n",
       "      <td>Hold</td>\n",
       "      <td>5.0</td>\n",
       "    </tr>\n",
       "    <tr>\n",
       "      <th>86</th>\n",
       "      <td>Dallas County Records Building (original turne...</td>\n",
       "      <td>Hold</td>\n",
       "      <td>70.0</td>\n",
       "    </tr>\n",
       "    <tr>\n",
       "      <th>101</th>\n",
       "      <td>First Church of Christ Scientists - North Entr...</td>\n",
       "      <td>In Progress</td>\n",
       "      <td>12.0</td>\n",
       "    </tr>\n",
       "    <tr>\n",
       "      <th>103</th>\n",
       "      <td>First Church of Christ Scientists - South Part...</td>\n",
       "      <td>Revising</td>\n",
       "      <td>27.0</td>\n",
       "    </tr>\n",
       "    <tr>\n",
       "      <th>129</th>\n",
       "      <td>Moynihan II Cheneau (need BCA survey plus CO)</td>\n",
       "      <td>Need Info</td>\n",
       "      <td>17.0</td>\n",
       "    </tr>\n",
       "    <tr>\n",
       "      <th>155</th>\n",
       "      <td>PS 171 (M) (Need missing samples)</td>\n",
       "      <td>In Progress</td>\n",
       "      <td>157.0</td>\n",
       "    </tr>\n",
       "    <tr>\n",
       "      <th>185</th>\n",
       "      <td>Wolford Apartments (need missing samples)</td>\n",
       "      <td>On Deck</td>\n",
       "      <td>36.0</td>\n",
       "    </tr>\n",
       "    <tr>\n",
       "      <th>189</th>\n",
       "      <td>100 Hudson (need samples)</td>\n",
       "      <td>Need Info</td>\n",
       "      <td>44.0</td>\n",
       "    </tr>\n",
       "    <tr>\n",
       "      <th>192</th>\n",
       "      <td>Moynihan II CO19</td>\n",
       "      <td>Need Info</td>\n",
       "      <td>1.0</td>\n",
       "    </tr>\n",
       "    <tr>\n",
       "      <th>193</th>\n",
       "      <td>Moynihan II CO 17</td>\n",
       "      <td>Need Info</td>\n",
       "      <td>15.0</td>\n",
       "    </tr>\n",
       "    <tr>\n",
       "      <th>194</th>\n",
       "      <td>55 Liberty Street (needs samples)</td>\n",
       "      <td>Need Info</td>\n",
       "      <td>16.0</td>\n",
       "    </tr>\n",
       "    <tr>\n",
       "      <th>195</th>\n",
       "      <td>51 W 81st Street -- CO3</td>\n",
       "      <td>On Deck</td>\n",
       "      <td>16.0</td>\n",
       "    </tr>\n",
       "    <tr>\n",
       "      <th>198</th>\n",
       "      <td>Forsyth High School</td>\n",
       "      <td>Need Info</td>\n",
       "      <td>16.0</td>\n",
       "    </tr>\n",
       "    <tr>\n",
       "      <th>199</th>\n",
       "      <td>2211 Woodward Ave - Fox Theater</td>\n",
       "      <td>Need Info</td>\n",
       "      <td>7.0</td>\n",
       "    </tr>\n",
       "  </tbody>\n",
       "</table>\n",
       "</div>"
      ],
      "text/plain": [
       "                                             Task Name Drafting Status  # Dwgs\n",
       "0    114 Fifth Ave (Redesigning and Req. 2 courses ...         On Deck     5.0\n",
       "28   310-320 West 86th Street (Scope needs to be fi...     In Progress    54.0\n",
       "59               59 Bleecker CO5 (RFI to contractor\\n)       Need Info     3.0\n",
       "84   314 West 72nd St. (Chatsworth Apartments) - Pr...            Hold     5.0\n",
       "86   Dallas County Records Building (original turne...            Hold    70.0\n",
       "101  First Church of Christ Scientists - North Entr...     In Progress    12.0\n",
       "103  First Church of Christ Scientists - South Part...        Revising    27.0\n",
       "129      Moynihan II Cheneau (need BCA survey plus CO)       Need Info    17.0\n",
       "155                  PS 171 (M) (Need missing samples)     In Progress   157.0\n",
       "185          Wolford Apartments (need missing samples)         On Deck    36.0\n",
       "189                          100 Hudson (need samples)       Need Info    44.0\n",
       "192                                   Moynihan II CO19       Need Info     1.0\n",
       "193                                  Moynihan II CO 17       Need Info    15.0\n",
       "194                  55 Liberty Street (needs samples)       Need Info    16.0\n",
       "195                            51 W 81st Street -- CO3         On Deck    16.0\n",
       "198                                Forsyth High School       Need Info    16.0\n",
       "199                    2211 Woodward Ave - Fox Theater       Need Info     7.0"
      ]
     },
     "execution_count": 50,
     "metadata": {},
     "output_type": "execute_result"
    }
   ],
   "source": [
    "shops = shops.dropna()\n",
    "shops = shops[shops[\"# Dwgs\"] != 0]\n",
    "shops"
   ]
  },
  {
   "cell_type": "code",
   "execution_count": 51,
   "metadata": {},
   "outputs": [
    {
     "data": {
      "text/plain": [
       "501.0"
      ]
     },
     "execution_count": 51,
     "metadata": {},
     "output_type": "execute_result"
    }
   ],
   "source": [
    "shops[\"# Dwgs\"].sum()"
   ]
  },
  {
   "cell_type": "code",
   "execution_count": 52,
   "metadata": {},
   "outputs": [],
   "source": [
    "shops.to_excel(r\"C:\\Users\\mkreidler\\Desktop\\Shops.xlsx\")"
   ]
  },
  {
   "cell_type": "code",
   "execution_count": null,
   "metadata": {},
   "outputs": [],
   "source": []
  }
 ],
 "metadata": {
  "kernelspec": {
   "display_name": "Python 3",
   "language": "python",
   "name": "python3"
  },
  "language_info": {
   "codemirror_mode": {
    "name": "ipython",
    "version": 3
   },
   "file_extension": ".py",
   "mimetype": "text/x-python",
   "name": "python",
   "nbconvert_exporter": "python",
   "pygments_lexer": "ipython3",
   "version": "3.6.5"
  }
 },
 "nbformat": 4,
 "nbformat_minor": 2
}
