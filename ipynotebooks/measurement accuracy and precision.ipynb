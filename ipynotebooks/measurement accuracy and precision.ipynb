{
 "cells": [
  {
   "cell_type": "code",
   "execution_count": 5,
   "metadata": {},
   "outputs": [
    {
     "data": {
      "text/html": [
       "0.01 millimeter/meter"
      ],
      "text/latex": [
       "$0.01\\ \\frac{\\mathrm{millimeter}}{\\mathrm{meter}}$"
      ],
      "text/plain": [
       "<Quantity(0.01, 'millimeter / meter')>"
      ]
     },
     "execution_count": 5,
     "metadata": {},
     "output_type": "execute_result"
    }
   ],
   "source": [
    "import pint\n",
    "\n",
    "\n",
    "ureg = pint.UnitRegistry()\n",
    "\n",
    "x = 5*ureg.millimeter\n",
    "y = 500*ureg.meter\n",
    "\n",
    "x/y"
   ]
  },
  {
   "cell_type": "code",
   "execution_count": 6,
   "metadata": {},
   "outputs": [
    {
     "data": {
      "text/html": [
       "0.13 millimeter/meter"
      ],
      "text/latex": [
       "$0.13\\ \\frac{\\mathrm{millimeter}}{\\mathrm{meter}}$"
      ],
      "text/plain": [
       "<Quantity(0.13, 'millimeter / meter')>"
      ]
     },
     "execution_count": 6,
     "metadata": {},
     "output_type": "execute_result"
    }
   ],
   "source": [
    "a = 1.3 * ureg.millimeter\n",
    "b = 10 * ureg.meter\n",
    "\n",
    "a/b"
   ]
  }
 ],
 "metadata": {
  "kernelspec": {
   "display_name": "Python 3",
   "language": "python",
   "name": "python3"
  },
  "language_info": {
   "codemirror_mode": {
    "name": "ipython",
    "version": 3
   },
   "file_extension": ".py",
   "mimetype": "text/x-python",
   "name": "python",
   "nbconvert_exporter": "python",
   "pygments_lexer": "ipython3",
   "version": "3.6.5"
  }
 },
 "nbformat": 4,
 "nbformat_minor": 2
}
