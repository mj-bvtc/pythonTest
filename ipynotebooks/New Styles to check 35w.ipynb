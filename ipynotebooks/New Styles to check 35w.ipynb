{
 "cells": [
  {
   "cell_type": "code",
   "execution_count": 14,
   "metadata": {},
   "outputs": [],
   "source": [
    "import pandas as pd\n",
    "\n",
    "fkramer = r\"C:\\Users\\mkreidler\\Desktop\\Setting-Kramer.xlsx\"\n",
    "fctrac = r\"C:\\Users\\mkreidler\\Desktop\\35w-allStyles.xlsx\"\n",
    "\n",
    "\n",
    "kramer=pd.read_excel(fkramer)\n",
    "kramer[\"kramer\"] = 1\n",
    "ctrac = pd.read_excel(fctrac)\n",
    "ctrac[\"ctrac\"] = 1\n",
    "\n",
    "merge = ctrac.merge(kramer, on=\"name\", how=\"outer\")\n",
    "\n",
    "merge = merge.fillna(0)\n",
    "\n",
    "check_on_site = merge.loc[merge.ctrac==0, \"name\"]\n",
    "\n",
    "merge.to_excel(r\"C:\\Users\\mkreidler\\Desktop\\35w-checkOnSite.xlsx\")"
   ]
  },
  {
   "cell_type": "code",
   "execution_count": null,
   "metadata": {},
   "outputs": [],
   "source": []
  }
 ],
 "metadata": {
  "kernelspec": {
   "display_name": "Python 3",
   "language": "python",
   "name": "python3"
  },
  "language_info": {
   "codemirror_mode": {
    "name": "ipython",
    "version": 3
   },
   "file_extension": ".py",
   "mimetype": "text/x-python",
   "name": "python",
   "nbconvert_exporter": "python",
   "pygments_lexer": "ipython3",
   "version": "3.6.8"
  }
 },
 "nbformat": 4,
 "nbformat_minor": 2
}
