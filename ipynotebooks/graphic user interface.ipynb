{
 "cells": [
  {
   "cell_type": "code",
   "execution_count": null,
   "metadata": {},
   "outputs": [],
   "source": [
    "import dfgui\n",
    "import pandas as pd\n",
    "\n",
    "file = r\"V:\\Projects\\35 East Wacker\\Field Work\\BVTC Survey #2\\35 Wacker -- Measurement DB.xlsx\"\n",
    "\n",
    "df = pd.read_excel(file, sheet_name= \"Main\")\n",
    "\n",
    "dfgui.show(df)"
   ]
  }
 ],
 "metadata": {
  "kernelspec": {
   "display_name": "Python 3",
   "language": "python",
   "name": "python3"
  },
  "language_info": {
   "codemirror_mode": {
    "name": "ipython",
    "version": 3
   },
   "file_extension": ".py",
   "mimetype": "text/x-python",
   "name": "python",
   "nbconvert_exporter": "python",
   "pygments_lexer": "ipython3",
   "version": "3.6.8"
  }
 },
 "nbformat": 4,
 "nbformat_minor": 2
}
