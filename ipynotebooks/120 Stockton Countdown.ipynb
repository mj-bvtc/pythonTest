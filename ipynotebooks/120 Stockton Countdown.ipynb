{
 "cells": [
  {
   "cell_type": "code",
   "execution_count": 11,
   "metadata": {},
   "outputs": [
    {
     "data": {
      "text/plain": [
       "10.0"
      ]
     },
     "execution_count": 11,
     "metadata": {},
     "output_type": "execute_result"
    }
   ],
   "source": [
    "import datetime\n",
    "import workdays\n",
    "\n",
    "\n",
    "today = datetime.datetime.now()\n",
    "\n",
    "wt1 = datetime.datetime(2020,1,27)\n",
    "wt3 = datetime.datetime(2020,1,30)\n",
    "\n",
    "wt1_countdown = (wt1-today).days\n",
    "wt3_countdown = (wt3-today).days\n",
    "\n",
    "wt3_countdown/7"
   ]
  },
  {
   "cell_type": "code",
   "execution_count": 14,
   "metadata": {},
   "outputs": [
    {
     "data": {
      "text/plain": [
       "13.0"
      ]
     },
     "execution_count": 14,
     "metadata": {},
     "output_type": "execute_result"
    }
   ],
   "source": [
    "dwgs = 650\n",
    "\n",
    "day_per_wk = 5\n",
    "\n",
    "wks_wt3 = wt3_countdown/7\n",
    "\n",
    "dwg_per_day = dwgs/wks_wt3/day_per_wk\n",
    "\n",
    "dwg_per_day"
   ]
  },
  {
   "cell_type": "code",
   "execution_count": null,
   "metadata": {},
   "outputs": [],
   "source": []
  }
 ],
 "metadata": {
  "kernelspec": {
   "display_name": "Python 3",
   "language": "python",
   "name": "python3"
  },
  "language_info": {
   "codemirror_mode": {
    "name": "ipython",
    "version": 3
   },
   "file_extension": ".py",
   "mimetype": "text/x-python",
   "name": "python",
   "nbconvert_exporter": "python",
   "pygments_lexer": "ipython3",
   "version": "3.6.8"
  }
 },
 "nbformat": 4,
 "nbformat_minor": 2
}
