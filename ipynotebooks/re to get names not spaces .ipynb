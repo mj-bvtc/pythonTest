{
 "cells": [
  {
   "cell_type": "code",
   "execution_count": 26,
   "metadata": {},
   "outputs": [
    {
     "name": "stdout",
     "output_type": "stream",
     "text": [
      "['B81', '8C4', '8C5', '8C6']\n"
     ]
    }
   ],
   "source": [
    "import re\n",
    "\n",
    "\n",
    "test = r\"B81      8C4    8C5      8C6\"\n",
    "\n",
    "pattern = r\"\\b\\w[\\S]*\"\n",
    "\n",
    "result = re.findall(pattern, test,flags=re.IGNORECASE)\n",
    "\n",
    "print(result)\n"
   ]
  },
  {
   "cell_type": "code",
   "execution_count": 22,
   "metadata": {},
   "outputs": [
    {
     "name": "stdout",
     "output_type": "stream",
     "text": [
      "['LV04 HNX', 'HR06PRK']\n"
     ]
    }
   ],
   "source": [
    "import re\n",
    "\n",
    "r = re.compile(r\"\\b\\w{2}\\d{2} ?\\w{3}\\b\")\n",
    "s = \"Enter the Number plate of the car, eg LV04 HNX, HR06PRK\"\n",
    "print(r.findall(s))"
   ]
  },
  {
   "cell_type": "code",
   "execution_count": 58,
   "metadata": {},
   "outputs": [
    {
     "name": "stdout",
     "output_type": "stream",
     "text": [
      "True True\n",
      "True\n"
     ]
    }
   ],
   "source": [
    "test = r\"99w\"\n",
    "\n",
    "pattern1 = r\"[0-9]+\"\n",
    "pattern2 = r\"[a-z]+\"\n",
    "\n",
    "result1 = bool(re.search(pattern1, test,flags=re.IGNORECASE))\n",
    "\n",
    "result2 = bool(re.search(pattern2, test,flags=re.IGNORECASE))\n",
    "\n",
    "\n",
    "final = result1 and result2\n",
    "print (result1, result2)\n",
    "print(final)"
   ]
  },
  {
   "cell_type": "code",
   "execution_count": null,
   "metadata": {},
   "outputs": [],
   "source": []
  }
 ],
 "metadata": {
  "kernelspec": {
   "display_name": "Python 3",
   "language": "python",
   "name": "python3"
  },
  "language_info": {
   "codemirror_mode": {
    "name": "ipython",
    "version": 3
   },
   "file_extension": ".py",
   "mimetype": "text/x-python",
   "name": "python",
   "nbconvert_exporter": "python",
   "pygments_lexer": "ipython3",
   "version": "3.6.5"
  }
 },
 "nbformat": 4,
 "nbformat_minor": 2
}
