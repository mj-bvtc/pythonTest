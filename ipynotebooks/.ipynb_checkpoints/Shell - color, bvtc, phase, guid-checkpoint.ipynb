{
 "cells": [
  {
   "cell_type": "code",
   "execution_count": 15,
   "metadata": {},
   "outputs": [],
   "source": [
    "import pandas as pd\n",
    "\n",
    "\n",
    "#rhino = r\"V:\\Projects\\Shell House Building\\TerraCotta\\_Preliminary_Models\\Color Assignment\\rhino guid and name.csv\"\n",
    "#colors = r\"V:\\Projects\\Shell House Building\\TerraCotta\\_Preliminary_Models\\Color Assignment\\Glaze Code Spreadsheet - deleted strikethrough.xlsx\"\n",
    "\n",
    "bv_names_file = r\"C:\\Users\\mkreidler\\Desktop\\bvtc.xlsx\"\n",
    "guids_file = r\"C:\\Users\\mkreidler\\Desktop\\guid_trc.xlsx\"\n",
    "\n",
    "\n",
    "\"\"\"\n",
    "rh = pd.read_csv(rhino, header = None)\n",
    "rh.rename(columns = {0:\"name\", 1:\"guid\"}, inplace=True)\n",
    "col = pd.read_excel(colors, header=None)\n",
    "col.rename(columns = {0:\"ac\", 1:\"elev\", 2:\"name\", 3:\"color\"}, inplace=True)\n",
    "col.drop([\"ac\", \"elev\"], 1, inplace=True)\n",
    "col.drop(col.index[:2], inplace=True)\n",
    "\n",
    "col.head()\n",
    "\n",
    "\"\"\"\n",
    "\n",
    "bv = pd.read_excel(bv_names_file)\n",
    "trc = pd.read_excel(guids_file)\n",
    "#bv.rename(columns = {0:\"guid\", 1:\"bv\"}, inplace=True)\n",
    "#guids = pd.read_csv(guids_file)\n",
    "\n",
    "\n",
    "#guids.head()\n",
    "\n",
    "#result = pd.merge(bv, guids, on=\"guid\")\n",
    "#result.to_csv(r\"C:\\Users\\mkreidler\\Desktop\\result.csv\")\n",
    "\n",
    "\n",
    "result = pd.merge(bv, trc, on=\"trc\")\n",
    "both_count = len(result)\n",
    "result.head()\n",
    "\n",
    "\n",
    "\n",
    "result.to_excel(r\"C:\\Users\\mkreidler\\Desktop\\result.xlsx\")"
   ]
  },
  {
   "cell_type": "code",
   "execution_count": null,
   "metadata": {},
   "outputs": [],
   "source": []
  },
  {
   "cell_type": "code",
   "execution_count": 13,
   "metadata": {},
   "outputs": [],
   "source": []
  },
  {
   "cell_type": "code",
   "execution_count": null,
   "metadata": {},
   "outputs": [],
   "source": [
    "\n"
   ]
  },
  {
   "cell_type": "code",
   "execution_count": null,
   "metadata": {},
   "outputs": [],
   "source": []
  }
 ],
 "metadata": {
  "kernelspec": {
   "display_name": "Python 3",
   "language": "python",
   "name": "python3"
  },
  "language_info": {
   "codemirror_mode": {
    "name": "ipython",
    "version": 3
   },
   "file_extension": ".py",
   "mimetype": "text/x-python",
   "name": "python",
   "nbconvert_exporter": "python",
   "pygments_lexer": "ipython3",
   "version": "3.6.5"
  }
 },
 "nbformat": 4,
 "nbformat_minor": 2
}
