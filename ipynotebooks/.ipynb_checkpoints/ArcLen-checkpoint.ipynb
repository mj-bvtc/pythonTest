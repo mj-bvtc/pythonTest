{
 "cells": [
  {
   "cell_type": "code",
   "execution_count": 1,
   "metadata": {},
   "outputs": [
    {
     "name": "stdout",
     "output_type": "stream",
     "text": [
      "11.72 foot\n"
     ]
    }
   ],
   "source": [
    "import math\n",
    "import pint\n",
    "\n",
    "u = pint.UnitRegistry()\n",
    "\n",
    "radius = 397 * u.inch\n",
    "angle = 20.3 * u.degree\n",
    "\n",
    "\n",
    "def get_arc_length(r, ang):\n",
    "    return (2*math.pi*r)*(ang/(360*u.degree))\n",
    "\n",
    "arc = get_arc_length(radius,angle).to(u.foot)\n",
    "print(round(arc, 2))"
   ]
  },
  {
   "cell_type": "code",
   "execution_count": null,
   "metadata": {
    "collapsed": true
   },
   "outputs": [],
   "source": []
  }
 ],
 "metadata": {
  "kernelspec": {
   "display_name": "Python 3",
   "language": "python",
   "name": "python3"
  },
  "language_info": {
   "codemirror_mode": {
    "name": "ipython",
    "version": 3
   },
   "file_extension": ".py",
   "mimetype": "text/x-python",
   "name": "python",
   "nbconvert_exporter": "python",
   "pygments_lexer": "ipython3",
   "version": "3.6.1"
  }
 },
 "nbformat": 4,
 "nbformat_minor": 2
}
