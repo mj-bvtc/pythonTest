{
 "cells": [
  {
   "cell_type": "code",
   "execution_count": 4,
   "metadata": {
    "collapsed": true
   },
   "outputs": [],
   "source": [
    "import re\n",
    "import os\n",
    "import qrcode\n",
    "import uuid\n",
    "\n",
    "\n",
    "class Bumper:\n",
    "    def __init__(self, _input):\n",
    "        self.input = _input\n",
    "        self.drop = None\n",
    "        self.floor = None\n",
    "        self.blocks = []\n",
    "        self.instance = None\n",
    "        self.description = None\n",
    "        self.length = None\n",
    "        self.guid = uuid.uuid4()\n",
    "        \n",
    "    def sort(self):\n",
    "        s = self.input.split(\"-\")\n",
    "        self.drop = s[0]\n",
    "        self.floor = int(s[1])\n",
    "        last = \"\".join(s[2:])\n",
    "        self.blocks = last.split(\"_\")\n",
    "        self.instance = re.findall(r\"\\(\\w+\\)\", self.input)\n",
    "        path = r\"C:\\Users\\mkreidler\\Desktop\\download3.png\"\n",
    "\n",
    "n = Bumper(\"W5-3-AS2R\")\n",
    "n.sort()\n",
    "\n",
    "def make_qr(text, path):\n",
    "    qr = qrcode.QRCode(\n",
    "    version=1,\n",
    "    error_correction=qrcode.constants.ERROR_CORRECT_L,\n",
    "    box_size=3,\n",
    "    border=4,)\n",
    "    qr.add_data(text)\n",
    "    img = qr.make_image().save(path)\n",
    "    return img \n",
    "\n",
    "q = make_qr(n.guid, r\"C:\\Users\\mkreidler\\Desktop\\download4.png\")\n",
    "\n",
    "\n"
   ]
  },
  {
   "cell_type": "code",
   "execution_count": 66,
   "metadata": {},
   "outputs": [
    {
     "name": "stdout",
     "output_type": "stream",
     "text": [
      "<class 'pandas.core.frame.DataFrame'>\n"
     ]
    },
    {
     "data": {
      "text/plain": [
       "['DA-14150 - A-202 Elevations (Rev Cld)',\n",
       " 'DA-14150 - A-202 Elevations (Rev Cld)',\n",
       " 'DA-14150 - A-203 Elevations (Rev Cld)']"
      ]
     },
     "execution_count": 66,
     "metadata": {},
     "output_type": "execute_result"
    }
   ],
   "source": [
    "import pandas as pd\n",
    "import numpy as np\n",
    "import matplotlib.pyplot as plt\n",
    "\n",
    "file = r\"C:\\Users\\mkreidler\\Desktop\\Chatsworth Apartments2.csv\"\n",
    "\n",
    "df = pd.DataFrame.from_csv(file)\n",
    "\n",
    "df2 = df[['Block ID', 'Page Label', 'Count']].groupby('Block ID').sum()\n",
    "\n",
    "r = df[df['Block ID'] == 'H4R']\n",
    "\n",
    "print(type(r))\n",
    "\n",
    "r['Page Label'].values.tolist()"
   ]
  },
  {
   "cell_type": "code",
   "execution_count": null,
   "metadata": {
    "collapsed": true
   },
   "outputs": [],
   "source": []
  },
  {
   "cell_type": "code",
   "execution_count": null,
   "metadata": {
    "collapsed": true
   },
   "outputs": [],
   "source": []
  },
  {
   "cell_type": "code",
   "execution_count": null,
   "metadata": {
    "collapsed": true
   },
   "outputs": [],
   "source": []
  },
  {
   "cell_type": "code",
   "execution_count": null,
   "metadata": {
    "collapsed": true
   },
   "outputs": [],
   "source": [
    "\n",
    "\n"
   ]
  },
  {
   "cell_type": "code",
   "execution_count": null,
   "metadata": {
    "collapsed": true
   },
   "outputs": [],
   "source": []
  },
  {
   "cell_type": "code",
   "execution_count": null,
   "metadata": {
    "collapsed": true
   },
   "outputs": [],
   "source": []
  }
 ],
 "metadata": {
  "kernelspec": {
   "display_name": "Python 3",
   "language": "python",
   "name": "python3"
  },
  "language_info": {
   "codemirror_mode": {
    "name": "ipython",
    "version": 3
   },
   "file_extension": ".py",
   "mimetype": "text/x-python",
   "name": "python",
   "nbconvert_exporter": "python",
   "pygments_lexer": "ipython3",
   "version": "3.6.1"
  }
 },
 "nbformat": 4,
 "nbformat_minor": 2
}
