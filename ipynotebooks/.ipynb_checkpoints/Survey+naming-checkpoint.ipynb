{
 "cells": [
  {
   "cell_type": "code",
   "execution_count": 1,
   "metadata": {},
   "outputs": [
    {
     "data": {
      "text/plain": [
       "['AS2R4(2)', 'BOTTOM', 'CT5', 'H13R', 'J2L2', 'C2(3)']"
      ]
     },
     "execution_count": 1,
     "metadata": {},
     "output_type": "execute_result"
    }
   ],
   "source": [
    "import re\n",
    "import os\n",
    "\n",
    "pat = r\"yoyoyo\"\n",
    "\n",
    "search = r\"NE2-5-AS2R-4(2)_BOTTOM_CT5_H13R_J2L-2_C2(3)\"\n",
    "\n",
    "x = search.split(\"-\")\n",
    "\n",
    "first = x[0]\n",
    "second = x[1]\n",
    "last = \"\".join(x[2:])\n",
    "\n",
    "end = last.split(\"_\")\n",
    "\n",
    "end"
   ]
  },
  {
   "cell_type": "code",
   "execution_count": 2,
   "metadata": {
    "collapsed": true
   },
   "outputs": [],
   "source": [
    "class Name:\n",
    "    def __init__(self, _input):\n",
    "        self.input = _input\n",
    "        self.drop = None\n",
    "        self.floor = None\n",
    "        self.blocks = []\n",
    "        self.instance = None\n",
    "        self.description = None\n",
    "        self.length = None\n",
    "        \n",
    "    def sort(self):\n",
    "        s = self.input.split(\"-\")\n",
    "        self.drop = s[0]\n",
    "        self.floor = int(s[1])\n",
    "        last = \"\".join(x[2:])\n",
    "        self.blocks = last.split(\"_\")\n",
    "        self.instance = re.findall(r\"\\(\\w+\\)\", search)\n",
    "\n"
   ]
  },
  {
   "cell_type": "code",
   "execution_count": 3,
   "metadata": {},
   "outputs": [
    {
     "data": {
      "text/plain": [
       "{'blocks': ['AS2R4(2)', 'BOTTOM', 'CT5', 'H13R', 'J2L2', 'C2(3)'],\n",
       " 'description': None,\n",
       " 'drop': 'NE2',\n",
       " 'floor': 5,\n",
       " 'input': 'NE2-5-AS2R-4(2)_BOTTOM_CT5_H13R_J2L-2_C2(3)',\n",
       " 'instance': ['(2)', '(3)'],\n",
       " 'length': None}"
      ]
     },
     "execution_count": 3,
     "metadata": {},
     "output_type": "execute_result"
    }
   ],
   "source": [
    "n = Name(search)\n",
    "n.sort()\n",
    "n.__dict__"
   ]
  },
  {
   "cell_type": "code",
   "execution_count": 4,
   "metadata": {},
   "outputs": [],
   "source": [
    "#help(re)"
   ]
  },
  {
   "cell_type": "code",
   "execution_count": 5,
   "metadata": {},
   "outputs": [
    {
     "name": "stdout",
     "output_type": "stream",
     "text": [
      "['(2)', '(3)']\n"
     ]
    }
   ],
   "source": [
    "m = re.findall(r\"\\(\\w+\\)\", search)\n",
    "print(m)"
   ]
  },
  {
   "cell_type": "code",
   "execution_count": 14,
   "metadata": {},
   "outputs": [],
   "source": [
    "import qrcode\n",
    "import uuid\n",
    "\n",
    "path = r\"C:\\Users\\mkreidler\\Desktop\\download3.png\"\n",
    "\n",
    "def make_qr(text, path):\n",
    "    qr = qrcode.QRCode(\n",
    "    version=1,\n",
    "    error_correction=qrcode.constants.ERROR_CORRECT_L,\n",
    "    box_size=3,\n",
    "    border=4,)\n",
    "    qr.add_data(text)\n",
    "    img = qr.make_image().save(path)\n",
    "    return img\n",
    "    \n",
    "\n",
    "\n",
    "\n",
    "guid = uuid.uuid4()\n",
    "\n",
    "message = f\"hello you are assigned '{guid}' {n.__dict__}\"\n",
    "make_qr(message, path)"
   ]
  },
  {
   "cell_type": "code",
   "execution_count": null,
   "metadata": {},
   "outputs": [],
   "source": []
  },
  {
   "cell_type": "code",
   "execution_count": null,
   "metadata": {
    "collapsed": true
   },
   "outputs": [],
   "source": []
  }
 ],
 "metadata": {
  "kernelspec": {
   "display_name": "Python 3",
   "language": "python",
   "name": "python3"
  },
  "language_info": {
   "codemirror_mode": {
    "name": "ipython",
    "version": 3
   },
   "file_extension": ".py",
   "mimetype": "text/x-python",
   "name": "python",
   "nbconvert_exporter": "python",
   "pygments_lexer": "ipython3",
   "version": "3.6.1"
  }
 },
 "nbformat": 4,
 "nbformat_minor": 2
}
