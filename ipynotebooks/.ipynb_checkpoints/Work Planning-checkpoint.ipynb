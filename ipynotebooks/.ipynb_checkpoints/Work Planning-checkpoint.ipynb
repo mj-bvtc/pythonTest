{
 "cells": [
  {
   "cell_type": "code",
   "execution_count": 15,
   "metadata": {},
   "outputs": [
    {
     "name": "stdout",
     "output_type": "stream",
     "text": [
      "project A created\n",
      "74\n"
     ]
    },
    {
     "data": {
      "text/plain": [
       "41"
      ]
     },
     "execution_count": 15,
     "metadata": {},
     "output_type": "execute_result"
    }
   ],
   "source": [
    "import pandas as pd\n",
    "import datetime\n",
    "import math\n",
    "\n",
    "\n",
    "drafters = [\"Andy\", \"Ashwini\", \"Cody\"]\n",
    "num_drafters = len(drafters)\n",
    "\n",
    "projects_dwgs = {\"A\":20, \"B\":342, \"C\":75}\n",
    "\n",
    "project_order = [\"A\", \"B\", \"C\"]\n",
    "\n",
    "project_units = {\"A\":150, \"B\": 360, \"C\":3000 }\n",
    "\n",
    "\n",
    "class Project:\n",
    "    def __init__(self, name, num_dwgs, num_units, activation_date=None, team=[]):\n",
    "        self.name = name\n",
    "        self.num_dwgs = num_dwgs\n",
    "        self.num_units = num_units\n",
    "        self.team = team\n",
    "        self.activation_date = activation_date\n",
    "        print(f\"project {self.name} created\")\n",
    "        self.start = None\n",
    "        self.finish = None\n",
    "        self.submittals = None\n",
    "        self.num_teammates = None\n",
    "        self.workdays = None\n",
    "        \n",
    "    def calc_num_teammates(self):\n",
    "        self.num_teammates = len(self.team)\n",
    "        return self.num_teammates\n",
    "        \n",
    "    def calc_workdays(self):\n",
    "        self.calc_num_teammates()\n",
    "        self.workdays =  math.ceil((self.num_dwgs/self.num_teammates)+5)\n",
    "        print(self.workdays)\n",
    "        return self.workdays\n",
    "    \n",
    "    def calc_submittals(self):\n",
    "        num_sub = math.ceil(self.num_dwgs/50)\n",
    "        dwg_per = self.num_dwgs/num_sub\n",
    "        return math.ceil(dwg_per)\n",
    "        \n",
    "        \n",
    "def make_projects():\n",
    "    projects = [\"A\", \"B\", \"C\"]\n",
    "    \n",
    "    a = Project(\"A\", 20, 150, datetime.datetime.now())\n",
    "    b = Project(\"B\", 342, 360, datetime.datetime(2019, 1,1))\n",
    "    c = Project(\"C\", 75, 3000, datetime.datetime(2019, 2,5))\n",
    "        \n",
    "\n",
    "#make_projects()\n",
    "team_a = [\"Andy\", \"Ashwini\", \"Cody\"]\n",
    "a = Project(\"A\", 205, 1031, datetime.datetime.now(), team_a )\n",
    "a.calc_workdays()\n",
    "a.calc_submittals()"
   ]
  },
  {
   "cell_type": "code",
   "execution_count": null,
   "metadata": {},
   "outputs": [],
   "source": []
  }
 ],
 "metadata": {
  "kernelspec": {
   "display_name": "Python 3",
   "language": "python",
   "name": "python3"
  },
  "language_info": {
   "codemirror_mode": {
    "name": "ipython",
    "version": 3
   },
   "file_extension": ".py",
   "mimetype": "text/x-python",
   "name": "python",
   "nbconvert_exporter": "python",
   "pygments_lexer": "ipython3",
   "version": "3.6.5"
  }
 },
 "nbformat": 4,
 "nbformat_minor": 2
}
