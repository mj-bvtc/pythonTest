{
 "cells": [
  {
   "cell_type": "code",
   "execution_count": 49,
   "metadata": {},
   "outputs": [
    {
     "name": "stdout",
     "output_type": "stream",
     "text": [
      "\n",
      "\n",
      "Add these:\n",
      "\n",
      "       947\n",
      "       901\n",
      "\n",
      "Your answer:1848\n",
      "Correct!\n",
      "\n",
      "************************\n",
      "\n",
      "\n",
      "Clocked at: 0:00:05.767183\n",
      "Attempts: 1\n",
      "\n",
      "\n",
      "Add these:\n",
      "\n",
      "       470\n",
      "       944\n",
      "\n",
      "Your answer:1414\n",
      "Correct!\n",
      "\n",
      "************************\n",
      "\n",
      "\n",
      "Clocked at: 0:00:08.353870\n",
      "Attempts: 1\n",
      "\n"
     ]
    }
   ],
   "source": [
    "import random\n",
    "import datetime\n",
    "\n",
    "\n",
    "\n",
    "def any_digit(log=None):\n",
    "    a = random.randint(1,999)\n",
    "    b = random.randint(1,999)\n",
    "    \n",
    "    start = datetime.datetime.now()\n",
    "    print(f\"\\n\\nAdd these:\\n\\n{a:{10}}\\n{b:{10}}\\n\")\n",
    "    \n",
    "    user_answer = int(input(\"Your answer:\"))\n",
    "    \n",
    "    \"\"\"\n",
    "    if user_answer == a+b:\n",
    "        print(\"Correct!\")\n",
    "        \n",
    "    else:\n",
    "        print(\"try again\")\n",
    "        \n",
    "    \"\"\"\n",
    "    attempts = 1\n",
    "    while user_answer != (a + b):\n",
    "        print(\"Try again please...\")\n",
    "        user_answer = int(input(\"Your answer:\"))\n",
    "        attempts += 1\n",
    "    \n",
    "    print(\"Correct!\\n\")\n",
    "    print(\"************************\\n\")\n",
    "    end = datetime.datetime.now()\n",
    "    duration = end - start\n",
    "    print()\n",
    "    print(f\"Clocked at: {duration}\")\n",
    "    print(f\"Attempts: {attempts}\")\n",
    "    if log:\n",
    "        log.write(f\"{a},{b},{a+b},{duration},{attempts}\\n\")\n",
    "\n",
    "def num_questions(num, log=None):\n",
    "    for i in range(num):\n",
    "        any_digit(log=log)\n",
    "    print()\n",
    "\n",
    "\n",
    "log_path = r\"/home/cole/Desktop/log.txt\"    \n",
    "\n",
    "with open(log_path, 'a') as log:\n",
    "    log.write(\"Matt's Math Game\\n\")\n",
    "    log.write(f\"Date: {datetime.datetime.now()}\\n\")\n",
    "    log.write(\"\\n\") \n",
    "    log.write(\"Adding a + b, from 1 to 99\\n\")\n",
    "    log.write(\"a,b,answer,duration, attempts\\n\")\n",
    "    num_questions(2, log=log)\n",
    "    \n"
   ]
  },
  {
   "cell_type": "code",
   "execution_count": null,
   "metadata": {},
   "outputs": [],
   "source": [
    "# width = 10\n",
    "# precision = 4\n",
    "# value = decimal.Decimal('12.34567')\n",
    "# f'result: {value:{width}.{precision}}'\n",
    "# 'result:      12.35'"
   ]
  },
  {
   "cell_type": "code",
   "execution_count": null,
   "metadata": {},
   "outputs": [],
   "source": []
  },
  {
   "cell_type": "code",
   "execution_count": null,
   "metadata": {},
   "outputs": [],
   "source": []
  },
  {
   "cell_type": "code",
   "execution_count": null,
   "metadata": {},
   "outputs": [],
   "source": []
  },
  {
   "cell_type": "code",
   "execution_count": null,
   "metadata": {},
   "outputs": [],
   "source": []
  }
 ],
 "metadata": {
  "kernelspec": {
   "display_name": "Python 3",
   "language": "python",
   "name": "python3"
  },
  "language_info": {
   "codemirror_mode": {
    "name": "ipython",
    "version": 3
   },
   "file_extension": ".py",
   "mimetype": "text/x-python",
   "name": "python",
   "nbconvert_exporter": "python",
   "pygments_lexer": "ipython3",
   "version": "3.6.7"
  }
 },
 "nbformat": 4,
 "nbformat_minor": 2
}
