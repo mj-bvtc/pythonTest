{
 "cells": [
  {
   "cell_type": "code",
   "execution_count": 194,
   "metadata": {
    "collapsed": true
   },
   "outputs": [],
   "source": [
    "from reportlab.pdfgen import canvas\n",
    "import re\n",
    "import os\n",
    "import qrcode\n",
    "import uuid\n",
    "import tempfile\n",
    "import win32api\n",
    "import win32print\n",
    "import datetime\n",
    "import socket\n",
    "import getpass\n",
    "\n",
    "def get_user_host():\n",
    "    hostname = socket.gethostname()\n",
    "    username = getpass.getuser()\n",
    "    user_host= f\"{username}@{hostname}\"\n",
    "    return user_host\n",
    "\n",
    "def create_code():\n",
    "    raw_code = uuid.uuid4()\n",
    "    code = str(raw_code)\n",
    "    return code\n",
    "\n",
    "def make_pdf(code=None, path=None):\n",
    "    #get code\n",
    "    if code is None:\n",
    "        code = create_code()\n",
    "        \n",
    "    #format names\n",
    "    path = r\"C:\\Users\\mkreidler\\Desktop\\pdf exports\" #this is hard coded in, this is BADDDD\n",
    "    full_path = os.path.join(path, code)\n",
    "    pdf_path = full_path + \".pdf\"\n",
    "    img_path = full_path + \".jpeg\"\n",
    "  \n",
    "    #draw QR\n",
    "    qr = qrcode.QRCode()\n",
    "    qr.add_data(code)    \n",
    "    img = qr.make_image().save(img_path)\n",
    "    \n",
    "    #draw pdf    \n",
    "    dt = datetime.datetime.now()\n",
    "    c = canvas.Canvas(pdf_path)\n",
    "    \n",
    "    c.setFont(\"Helvetica\", 10)\n",
    "    \n",
    "    c.setPageSize((288,96))  #(288,96)\n",
    "    c.drawString(85, 60, code)\n",
    "    c.drawString(85, 40, str(dt))\n",
    "    #c.drawString(85, 20, get_user_host())\n",
    "    c.drawString(85, 20, \"Project: 222 Central Park South\")\n",
    "    c.drawInlineImage(img_path, 5,10, width=80, height=80)\n",
    "    c.drawInlineImage(r\"C:\\Users\\mkreidler\\Desktop\\BVTC-Logo-BLACK-horizontal.jpg\", \n",
    "                      205,70, width=75, height=20)\n",
    "    c.save()  \n",
    "\n",
    "\n",
    "    #delete .jpeg\n",
    "    os.remove(img_path)\n",
    "    \n",
    "    return pdf_path\n",
    "\n",
    "\n",
    "def print_file(filename):\n",
    "    win32api.ShellExecute (\n",
    "      0,\n",
    "      \"print\",\n",
    "      filename,\n",
    "      #\n",
    "      # If this is None, the default printer will\n",
    "      # be used anyway.\n",
    "      #\n",
    "      '/d:\"%s\"' % win32print.GetDefaultPrinter (),\n",
    "      \".\",\n",
    "      0\n",
    "    )\n",
    "    \n",
    "def print_label():\n",
    "    file = make_pdf()\n",
    "    print_file(file)\n",
    "\n",
    "def print_labels(num = 1):\n",
    "    for i in range(num):\n",
    "        print_label()\n",
    "        \n",
    "def main():\n",
    "    print_labels(25)\n",
    "    #make_pdf()\n",
    "\n",
    "main()\n"
   ]
  },
  {
   "cell_type": "code",
   "execution_count": 162,
   "metadata": {},
   "outputs": [
    {
     "name": "stdout",
     "output_type": "stream",
     "text": [
      "C:\\Users\\mkreidler\\Desktop\\pdf exports\\bc57b9cd-bad8-4b41-ab69-7170db41804c.pdf\n",
      "C:\\Users\\mkreidler\\Desktop\\pdf exports\\bc57b9cd-bad8-4b41-ab69-7170db41804c.jpeg\n"
     ]
    }
   ],
   "source": [
    "def format_paths(code=None, path=None):\n",
    "    #get code\n",
    "    if code is None:\n",
    "        code = create_code()\n",
    "        \n",
    "    #format names\n",
    "    full_path = os.path.join(path, code)\n",
    "    pdf = full_path + \".pdf\"\n",
    "    img = full_path + \".jpeg\"\n",
    "\n",
    "    print(pdf)\n",
    "    print(img)\n",
    "\n",
    "\n",
    "    \n",
    "path = r\"C:\\Users\\mkreidler\\Desktop\\pdf exports\"\n",
    "format_paths(path=path)\n",
    "\n"
   ]
  },
  {
   "cell_type": "code",
   "execution_count": null,
   "metadata": {
    "collapsed": true
   },
   "outputs": [],
   "source": [
    "   #this is for vinyl 1.5 x 3\" labels\n",
    "    \n",
    "    \n",
    "    dt = datetime.datetime.now()\n",
    "    c = canvas.Canvas(pdf_path)\n",
    "    c.setPageSize((288,144))\n",
    "    c.drawString(40, 130, code)\n",
    "    c.drawString(130, 110, str(dt))\n",
    "    c.drawString(130, 90, get_user_host())\n",
    "    c.drawInlineImage(img_path, 40,45, width=80, height=80)\n",
    "    c.drawInlineImage(r\"C:\\Users\\mkreidler\\Desktop\\BVTC-Logo-BLACK-horizontal.jpg\", \n",
    "                      125,45, \n",
    "                      width=150, height=40)\n",
    "    c.save()  "
   ]
  },
  {
   "cell_type": "code",
   "execution_count": null,
   "metadata": {
    "collapsed": true
   },
   "outputs": [],
   "source": []
  }
 ],
 "metadata": {
  "kernelspec": {
   "display_name": "Python 3",
   "language": "python",
   "name": "python3"
  },
  "language_info": {
   "codemirror_mode": {
    "name": "ipython",
    "version": 3
   },
   "file_extension": ".py",
   "mimetype": "text/x-python",
   "name": "python",
   "nbconvert_exporter": "python",
   "pygments_lexer": "ipython3",
   "version": "3.6.1"
  }
 },
 "nbformat": 4,
 "nbformat_minor": 2
}
