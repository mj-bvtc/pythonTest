{
 "cells": [
  {
   "cell_type": "code",
   "execution_count": 19,
   "metadata": {},
   "outputs": [
    {
     "data": {
      "text/html": [
       "<div>\n",
       "<style scoped>\n",
       "    .dataframe tbody tr th:only-of-type {\n",
       "        vertical-align: middle;\n",
       "    }\n",
       "\n",
       "    .dataframe tbody tr th {\n",
       "        vertical-align: top;\n",
       "    }\n",
       "\n",
       "    .dataframe thead th {\n",
       "        text-align: right;\n",
       "    }\n",
       "</style>\n",
       "<table border=\"1\" class=\"dataframe\">\n",
       "  <thead>\n",
       "    <tr style=\"text-align: right;\">\n",
       "      <th></th>\n",
       "      <th>name</th>\n",
       "      <th>guid</th>\n",
       "      <th>survey_name</th>\n",
       "    </tr>\n",
       "  </thead>\n",
       "  <tbody>\n",
       "    <tr>\n",
       "      <th>0</th>\n",
       "      <td>Z</td>\n",
       "      <td>28e21eb7-3d81-42ac-9f86-7c9c2b1a5768</td>\n",
       "      <td>E1-9-Z[1]</td>\n",
       "    </tr>\n",
       "    <tr>\n",
       "      <th>1</th>\n",
       "      <td>W1</td>\n",
       "      <td>bc59d513-f2dc-4aa3-8602-33e5ae5e9b73</td>\n",
       "      <td>E1-9-W1[2]</td>\n",
       "    </tr>\n",
       "    <tr>\n",
       "      <th>9</th>\n",
       "      <td>SF2</td>\n",
       "      <td>16ecd1c6-f9c2-4c22-8212-22b44d466559</td>\n",
       "      <td>E1-9-SF2[10]</td>\n",
       "    </tr>\n",
       "    <tr>\n",
       "      <th>10</th>\n",
       "      <td>SF1</td>\n",
       "      <td>01426caa-676c-46c4-beb5-1d0e80bd209a</td>\n",
       "      <td>E1-9-SF1[11]</td>\n",
       "    </tr>\n",
       "    <tr>\n",
       "      <th>21</th>\n",
       "      <td>BS</td>\n",
       "      <td>751d6279-a512-4987-9c8f-c337a2af871e</td>\n",
       "      <td>E1-9-BS[22]</td>\n",
       "    </tr>\n",
       "  </tbody>\n",
       "</table>\n",
       "</div>"
      ],
      "text/plain": [
       "   name                                  guid   survey_name\n",
       "0     Z  28e21eb7-3d81-42ac-9f86-7c9c2b1a5768     E1-9-Z[1]\n",
       "1    W1  bc59d513-f2dc-4aa3-8602-33e5ae5e9b73    E1-9-W1[2]\n",
       "9   SF2  16ecd1c6-f9c2-4c22-8212-22b44d466559  E1-9-SF2[10]\n",
       "10  SF1  01426caa-676c-46c4-beb5-1d0e80bd209a  E1-9-SF1[11]\n",
       "21   BS  751d6279-a512-4987-9c8f-c337a2af871e   E1-9-BS[22]"
      ]
     },
     "execution_count": 19,
     "metadata": {},
     "output_type": "execute_result"
    }
   ],
   "source": [
    "import pandas as pd\n",
    "\n",
    "file = r\"C:\\Users\\mkreidler\\Desktop\\get 1st style survey.xlsx\"\n",
    "\n",
    "df = pd.read_excel(file)\n",
    "\n",
    "unique_names = df.name.unique()\n",
    "\n",
    "df[\"instance\"] = df.groupby(\"name\").cumcount() + 1\n",
    "df[[\"name\", \"instance\"]]\n",
    "\n",
    "firsts = df.loc[df.instance == 1, \"guid\"]\n",
    "\n",
    "df[\"first\"] = 0\n",
    "\n",
    "df.loc[df.instance==1, \"first\"] = 1\n",
    "\n",
    "firsts = df.loc[df.instance == 1, [\"name\", \"guid\", \"survey_name\"]]\n",
    "\n",
    "firsts.head()"
   ]
  },
  {
   "cell_type": "code",
   "execution_count": 14,
   "metadata": {},
   "outputs": [
    {
     "data": {
      "text/plain": [
       "['elevation',\n",
       " 'floor',\n",
       " 'guid',\n",
       " 'layer',\n",
       " 'name',\n",
       " 'phase',\n",
       " 'point',\n",
       " 'priority',\n",
       " 'swing_drop',\n",
       " 'x',\n",
       " 'y',\n",
       " 'z',\n",
       " 'zones',\n",
       " 'group',\n",
       " 'drop_sort',\n",
       " 'new_order',\n",
       " 'survey_name',\n",
       " 'instance',\n",
       " 'first']"
      ]
     },
     "execution_count": 14,
     "metadata": {},
     "output_type": "execute_result"
    }
   ],
   "source": [
    "list(df)"
   ]
  },
  {
   "cell_type": "code",
   "execution_count": 18,
   "metadata": {},
   "outputs": [
    {
     "data": {
      "text/plain": [
       "'Object created at 2019-06-30 15:42:29.989679 by user mkreidler on BVTC-Render08 machine with guid 195dd809-1c95-4c2a-bb82-cacaa3328138'"
      ]
     },
     "execution_count": 18,
     "metadata": {},
     "output_type": "execute_result"
    }
   ],
   "source": [
    "import datetime\n",
    "import workdays\n",
    "import getpass\n",
    "import socket\n",
    "import uuid\n",
    "\n",
    "class Common():\n",
    "    def __init__(self):\n",
    "        self.user = getpass.getuser()\n",
    "        self.device = socket.gethostname()\n",
    "        self.created_dt = datetime.datetime.now()\n",
    "        self.guid = uuid.uuid4()\n",
    "    \n",
    "    def report(self):\n",
    "        message = f\"Object created at {self.created_dt} by user {self.user} on {self.device} machine with guid {self.guid}\"\n",
    "        return message\n",
    "    \n",
    "\n",
    "class Drawing(Common):\n",
    "    def __init__(self):\n",
    "        super().__init__()\n",
    "        self.modeled_dt = None\n",
    "        self.first_drawn_dt = None\n",
    "        self.submittals_dt = []\n",
    "        self.approvals_dt = []\n",
    "        self.modeler = None\n",
    "        self.drawer = None\n",
    "        self.info_available_dt = None\n",
    "        self.sample = None\n",
    "        self.notes = None\n",
    "        self.name = None\n",
    "        self.project_name = None\n",
    "        self.project_number = None\n",
    "        \n",
    "        \n",
    "        \n",
    "\n",
    "d = Drawing()\n",
    "\n",
    "d.report()"
   ]
  },
  {
   "cell_type": "code",
   "execution_count": null,
   "metadata": {},
   "outputs": [],
   "source": []
  }
 ],
 "metadata": {
  "kernelspec": {
   "display_name": "Python 3",
   "language": "python",
   "name": "python3"
  },
  "language_info": {
   "codemirror_mode": {
    "name": "ipython",
    "version": 3
   },
   "file_extension": ".py",
   "mimetype": "text/x-python",
   "name": "python",
   "nbconvert_exporter": "python",
   "pygments_lexer": "ipython3",
   "version": "3.6.5"
  }
 },
 "nbformat": 4,
 "nbformat_minor": 2
}
