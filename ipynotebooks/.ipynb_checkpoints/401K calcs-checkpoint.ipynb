{
 "cells": [
  {
   "cell_type": "code",
   "execution_count": 22,
   "metadata": {},
   "outputs": [
    {
     "name": "stdout",
     "output_type": "stream",
     "text": [
      "I make $1,534.00 per biweekly paycheck\n",
      "Contributing 3.26 % into Roth 401K is $50.00\n",
      "$153.40 is ten percent into savings\n",
      "This leaves me with $1,330.60 leftover\n"
     ]
    }
   ],
   "source": [
    "\n",
    "\n",
    "paycheck = 1534\n",
    "retire = 50\n",
    "ten_percent_save = paycheck*.1\n",
    "percent_401K = round((retire/paycheck)*100, 2)\n",
    "remainder = paycheck - (retire + ten_percent_save)\n",
    "\n",
    "print(f\"I make {format_currency(paycheck)} per biweekly paycheck\")\n",
    "print(f\"Contributing {percent_401K} % into Roth 401K is {format_currency(retire)}\")\n",
    "print(f\"{format_currency(ten_percent_save)} is ten percent into savings\")\n",
    "print(f\"This leaves me with {format_currency(remainder)} leftover\")\n",
    "\n",
    "\n",
    "def format_currency(num):\n",
    "    result = '${:,.2f}'.format(float(num))\n",
    "    return result\n",
    "\n",
    "\n",
    "\n"
   ]
  },
  {
   "cell_type": "code",
   "execution_count": null,
   "metadata": {},
   "outputs": [],
   "source": []
  }
 ],
 "metadata": {
  "kernelspec": {
   "display_name": "Python 3",
   "language": "python",
   "name": "python3"
  },
  "language_info": {
   "codemirror_mode": {
    "name": "ipython",
    "version": 3
   },
   "file_extension": ".py",
   "mimetype": "text/x-python",
   "name": "python",
   "nbconvert_exporter": "python",
   "pygments_lexer": "ipython3",
   "version": "3.6.5"
  }
 },
 "nbformat": 4,
 "nbformat_minor": 2
}
