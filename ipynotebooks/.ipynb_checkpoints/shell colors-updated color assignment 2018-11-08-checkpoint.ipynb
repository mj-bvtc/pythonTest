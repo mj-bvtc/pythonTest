{
 "cells": [
  {
   "cell_type": "code",
   "execution_count": 15,
   "metadata": {},
   "outputs": [
    {
     "data": {
      "text/html": [
       "<div>\n",
       "<style scoped>\n",
       "    .dataframe tbody tr th:only-of-type {\n",
       "        vertical-align: middle;\n",
       "    }\n",
       "\n",
       "    .dataframe tbody tr th {\n",
       "        vertical-align: top;\n",
       "    }\n",
       "\n",
       "    .dataframe thead th {\n",
       "        text-align: right;\n",
       "    }\n",
       "</style>\n",
       "<table border=\"1\" class=\"dataframe\">\n",
       "  <thead>\n",
       "    <tr style=\"text-align: right;\">\n",
       "      <th></th>\n",
       "      <th>name</th>\n",
       "      <th>guid</th>\n",
       "    </tr>\n",
       "  </thead>\n",
       "  <tbody>\n",
       "    <tr>\n",
       "      <th>0</th>\n",
       "      <td>RL78.760</td>\n",
       "      <td>ea0b50a6-aa3b-4495-939c-c3d68e2d4bb9</td>\n",
       "    </tr>\n",
       "    <tr>\n",
       "      <th>1</th>\n",
       "      <td>EX. TOWER TOP</td>\n",
       "      <td>1fe505fd-9e5d-4efb-bccb-f927f1501abc</td>\n",
       "    </tr>\n",
       "    <tr>\n",
       "      <th>2</th>\n",
       "      <td>RL72.940</td>\n",
       "      <td>77780bc8-4b13-42dc-bfe9-71a93789c533</td>\n",
       "    </tr>\n",
       "    <tr>\n",
       "      <th>3</th>\n",
       "      <td>EX. CLOCK TOWER</td>\n",
       "      <td>9be213b7-ad8e-47d6-bfed-b5ac2de2a551</td>\n",
       "    </tr>\n",
       "    <tr>\n",
       "      <th>4</th>\n",
       "      <td>RL68.110</td>\n",
       "      <td>a9cf2daf-7253-4b59-a6b8-0a3344a31b25</td>\n",
       "    </tr>\n",
       "  </tbody>\n",
       "</table>\n",
       "</div>"
      ],
      "text/plain": [
       "              name                                  guid\n",
       "0         RL78.760  ea0b50a6-aa3b-4495-939c-c3d68e2d4bb9\n",
       "1    EX. TOWER TOP  1fe505fd-9e5d-4efb-bccb-f927f1501abc\n",
       "2         RL72.940  77780bc8-4b13-42dc-bfe9-71a93789c533\n",
       "3  EX. CLOCK TOWER  9be213b7-ad8e-47d6-bfed-b5ac2de2a551\n",
       "4         RL68.110  a9cf2daf-7253-4b59-a6b8-0a3344a31b25"
      ]
     },
     "execution_count": 15,
     "metadata": {},
     "output_type": "execute_result"
    }
   ],
   "source": [
    "import pandas as pd\n",
    "\n",
    "\n",
    "rhino = r\"V:\\Projects\\Shell House Building\\TerraCotta\\_Preliminary_Models\\Color Assignment\\rhino guid and name.csv\"\n",
    "\n",
    "colors = r\"V:\\Projects\\Shell House Building\\TerraCotta\\_Preliminary_Models\\Color Assignment\\Shell Color Assignment.csv\"\n",
    "\n",
    "rh = pd.read_csv(rhino, header = None)\n",
    "rh.rename(columns = {0:\"name\", 1:\"guid\"}, inplace=True)\n",
    "col = pd.read_csv(colors, header=None)\n",
    "col.rename(columns = {0:\"name\", 1:\"color\", 2:\"drop\"}, inplace=True)\n",
    "col.drop(\"drop\", 1, inplace=True)\n",
    "\n",
    "rh.head()\n"
   ]
  },
  {
   "cell_type": "code",
   "execution_count": 16,
   "metadata": {},
   "outputs": [
    {
     "data": {
      "text/html": [
       "<div>\n",
       "<style scoped>\n",
       "    .dataframe tbody tr th:only-of-type {\n",
       "        vertical-align: middle;\n",
       "    }\n",
       "\n",
       "    .dataframe tbody tr th {\n",
       "        vertical-align: top;\n",
       "    }\n",
       "\n",
       "    .dataframe thead th {\n",
       "        text-align: right;\n",
       "    }\n",
       "</style>\n",
       "<table border=\"1\" class=\"dataframe\">\n",
       "  <thead>\n",
       "    <tr style=\"text-align: right;\">\n",
       "      <th></th>\n",
       "      <th>name</th>\n",
       "      <th>color</th>\n",
       "    </tr>\n",
       "  </thead>\n",
       "  <tbody>\n",
       "    <tr>\n",
       "      <th>0</th>\n",
       "      <td>W-B02</td>\n",
       "      <td>C</td>\n",
       "    </tr>\n",
       "    <tr>\n",
       "      <th>1</th>\n",
       "      <td>W-B48</td>\n",
       "      <td>E</td>\n",
       "    </tr>\n",
       "    <tr>\n",
       "      <th>2</th>\n",
       "      <td>W-B68</td>\n",
       "      <td>A</td>\n",
       "    </tr>\n",
       "    <tr>\n",
       "      <th>3</th>\n",
       "      <td>W-C02</td>\n",
       "      <td>B</td>\n",
       "    </tr>\n",
       "    <tr>\n",
       "      <th>4</th>\n",
       "      <td>W-C10</td>\n",
       "      <td>C</td>\n",
       "    </tr>\n",
       "  </tbody>\n",
       "</table>\n",
       "</div>"
      ],
      "text/plain": [
       "    name color\n",
       "0  W-B02     C\n",
       "1  W-B48     E\n",
       "2  W-B68     A\n",
       "3  W-C02     B\n",
       "4  W-C10     C"
      ]
     },
     "execution_count": 16,
     "metadata": {},
     "output_type": "execute_result"
    }
   ],
   "source": [
    "col.head()"
   ]
  },
  {
   "cell_type": "code",
   "execution_count": 19,
   "metadata": {},
   "outputs": [],
   "source": [
    "result = pd.merge(rh, col, on=\"name\")\n",
    "result.to_csv(r\"V:\\Projects\\Shell House Building\\TerraCotta\\_Preliminary_Models\\Color Assignment\\ShellMergedColors.csv\")"
   ]
  },
  {
   "cell_type": "code",
   "execution_count": 20,
   "metadata": {},
   "outputs": [
    {
     "data": {
      "text/plain": [
       "1070"
      ]
     },
     "execution_count": 20,
     "metadata": {},
     "output_type": "execute_result"
    }
   ],
   "source": [
    "(400*2)+(135*2)\n"
   ]
  },
  {
   "cell_type": "code",
   "execution_count": null,
   "metadata": {},
   "outputs": [],
   "source": []
  }
 ],
 "metadata": {
  "kernelspec": {
   "display_name": "Python 3",
   "language": "python",
   "name": "python3"
  },
  "language_info": {
   "codemirror_mode": {
    "name": "ipython",
    "version": 3
   },
   "file_extension": ".py",
   "mimetype": "text/x-python",
   "name": "python",
   "nbconvert_exporter": "python",
   "pygments_lexer": "ipython3",
   "version": "3.6.5"
  }
 },
 "nbformat": 4,
 "nbformat_minor": 2
}
