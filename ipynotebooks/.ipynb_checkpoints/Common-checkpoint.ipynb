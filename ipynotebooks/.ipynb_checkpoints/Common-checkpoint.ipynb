{
 "cells": [
  {
   "cell_type": "code",
   "execution_count": 6,
   "metadata": {},
   "outputs": [
    {
     "name": "stdout",
     "output_type": "stream",
     "text": [
      "User COLE created object 4A52C045-DB2F-4A18-9721-554EF2853F50 from device COLE-MACBOOKAIR on 2019-06-14 20:21:28.165967\n"
     ]
    }
   ],
   "source": [
    "import uuid\n",
    "import datetime\n",
    "import getpass\n",
    "import socket\n",
    "\n",
    "\n",
    "class Common():\n",
    "    def __init__(self):\n",
    "        self.guid = uuid.uuid4()\n",
    "        self.created_dt = datetime.datetime.now()\n",
    "        self.device = socket.gethostname()\n",
    "        self.user = getpass.getuser()\n",
    "    \n",
    "    def report(self):\n",
    "        print(f\"User {self.user.upper()} created object {str(self.guid).upper()} from device {self.device.upper()} on {self.created_dt}\")\n",
    "        \n",
    "c = Common()\n",
    "c.report()\n",
    "\n",
    "\n",
    "        "
   ]
  },
  {
   "cell_type": "code",
   "execution_count": null,
   "metadata": {},
   "outputs": [],
   "source": []
  }
 ],
 "metadata": {
  "kernelspec": {
   "display_name": "Python 3",
   "language": "python",
   "name": "python3"
  },
  "language_info": {
   "codemirror_mode": {
    "name": "ipython",
    "version": 3
   },
   "file_extension": ".py",
   "mimetype": "text/x-python",
   "name": "python",
   "nbconvert_exporter": "python",
   "pygments_lexer": "ipython3",
   "version": "3.6.8"
  }
 },
 "nbformat": 4,
 "nbformat_minor": 2
}
