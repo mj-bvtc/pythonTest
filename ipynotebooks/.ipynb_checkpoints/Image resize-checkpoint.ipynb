{
 "cells": [
  {
   "cell_type": "code",
   "execution_count": 25,
   "metadata": {},
   "outputs": [
    {
     "name": "stdout",
     "output_type": "stream",
     "text": [
      "C:\\Users\\mkreidler\\Desktop\\a\\DSC_0196.JPG\n",
      "The original image size is 6016 wide x 4016 high\n",
      "The resized image size is 1000 wide x 668 high\n",
      "\n",
      "C:\\Users\\mkreidler\\Desktop\\a\\DSC_0197.JPG\n",
      "The original image size is 6016 wide x 4016 high\n",
      "The resized image size is 1000 wide x 668 high\n",
      "\n",
      "C:\\Users\\mkreidler\\Desktop\\a\\DSC_0198.JPG\n",
      "The original image size is 6016 wide x 4016 high\n",
      "The resized image size is 1000 wide x 668 high\n",
      "\n",
      "C:\\Users\\mkreidler\\Desktop\\a\\DSC_0199.JPG\n",
      "The original image size is 6016 wide x 4016 high\n",
      "The resized image size is 1000 wide x 668 high\n",
      "\n"
     ]
    }
   ],
   "source": [
    "from PIL import Image\n",
    "import os\n",
    " \n",
    "def resize_image(input_image_path,\n",
    "                 output_image_path):\n",
    "    original_image = Image.open(input_image_path)\n",
    "    width, height = original_image.size\n",
    "    print('The original image size is {wide} wide x {height} '\n",
    "          'high'.format(wide=width, height=height))\n",
    "    \n",
    "    max_width = 1000\n",
    "    ratio = max_width/width\n",
    "    size = (round(width*ratio), round(height*ratio))\n",
    " \n",
    "    resized_image = original_image.resize(size)\n",
    "    width, height = resized_image.size\n",
    "    print('The resized image size is {wide} wide x {height} '\n",
    "          'high'.format(wide=width, height=height))\n",
    "    #resized_image.show()\n",
    "    resized_image.save(output_image_path)\n",
    "    print()\n",
    "            \n",
    "            \n",
    "start = r\"C:\\Users\\mkreidler\\Desktop\\a\"\n",
    "end = r\"C:\\Users\\mkreidler\\Desktop\\b\"\n",
    "\n",
    "for root, dirs, files in os.walk(start, topdown = False):\n",
    "    for name in files:\n",
    "        if name.endswith(\".JPG\"):\n",
    "            pic = os.path.join(root, name)\n",
    "            print(pic)\n",
    "            new_name = name.replace(\".JPG\", \"_thumb.JPG\")\n",
    "            dest = os.path.join(end, new_name) \n",
    "            resize_image(pic, dest)\n",
    "\n",
    "\n",
    "            \n"
   ]
  },
  {
   "cell_type": "code",
   "execution_count": null,
   "metadata": {},
   "outputs": [],
   "source": []
  }
 ],
 "metadata": {
  "kernelspec": {
   "display_name": "Python 3",
   "language": "python",
   "name": "python3"
  },
  "language_info": {
   "codemirror_mode": {
    "name": "ipython",
    "version": 3
   },
   "file_extension": ".py",
   "mimetype": "text/x-python",
   "name": "python",
   "nbconvert_exporter": "python",
   "pygments_lexer": "ipython3",
   "version": "3.6.5"
  }
 },
 "nbformat": 4,
 "nbformat_minor": 2
}
