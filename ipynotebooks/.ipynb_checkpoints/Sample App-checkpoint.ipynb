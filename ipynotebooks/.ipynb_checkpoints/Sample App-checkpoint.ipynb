{
 "cells": [
  {
   "cell_type": "code",
   "execution_count": 2,
   "metadata": {},
   "outputs": [
    {
     "name": "stdout",
     "output_type": "stream",
     "text": [
      "Name: BK2\n",
      "{'id': UUID('38832af3-512c-4203-8cf8-06841243de5e'), 'datetime_created': datetime.datetime(2018, 4, 2, 10, 47, 37, 55378), 'name': 'BK2'}\n"
     ]
    }
   ],
   "source": [
    "import uuid\n",
    "import datetime\n",
    "\n",
    "class Common:\n",
    "    def __init__(self):\n",
    "        self.id = uuid.uuid4()\n",
    "        self.datetime_created = datetime.datetime.now()\n",
    "        \n",
    "class Crate(Common):\n",
    "    def __init__(self):\n",
    "        super().__init__()\n",
    "        self.name = None\n",
    "        self.get_name()\n",
    "        \n",
    "    def get_name(self):\n",
    "        self.name = input(\"Name: \")\n",
    "\n",
    "        \n",
    "class Project(Common):\n",
    "    def __input__(self):\n",
    "        super().__init__()\n",
    "        self.name = None\n",
    "        self.crates = []\n",
    "        self.units = []\n",
    "        self.pallets = []\n",
    "\n",
    "def run(): \n",
    "    cmd = \"\"\n",
    "    crates = []\n",
    "    projects = []\n",
    "\n",
    "    while cmd != \"x\":\n",
    "        cmd = input(\"Type your command, 'x' for exit: \")\n",
    "        if \"crate\" in cmd:\n",
    "            crates.append(cmd)\n",
    "            print(f\"Crate added: {cmd}\")\n",
    "        if \"project\" in cmd:\n",
    "            name = cmd.replace(\"project\", \"\")\n",
    "            name = name.strip()\n",
    "            p = Project()\n",
    "            p.name = name\n",
    "            print( p.__dict__)\n",
    "\n",
    "\n",
    "    print(\"Summary: \")\n",
    "    for c in crates:\n",
    "        print(c)\n",
    "        \n",
    "def main():\n",
    "    c = Crate()\n",
    "    print(c.__dict__)\n",
    "\n",
    "if __name__ == \"__main__\":\n",
    "    main()\n",
    "\n"
   ]
  },
  {
   "cell_type": "code",
   "execution_count": 9,
   "metadata": {},
   "outputs": [
    {
     "name": "stdout",
     "output_type": "stream",
     "text": [
      "a208db29-1f39-4347-b7bb-587fb1471cf5\n",
      "Input a208db29-1f39-4347-b7bb-587fb1471cf5, name:  \n"
     ]
    }
   ],
   "source": [
    "uuid.uuid4()\n",
    "\n",
    "a = 'a208db29-1f39-4347-b7bb-587fb1471cf5'\n",
    "\n",
    "\n",
    "i = input()\n",
    "if len(i) == 36:\n",
    "    print(f\"Input {i}, name:  \")\n"
   ]
  },
  {
   "cell_type": "code",
   "execution_count": 54,
   "metadata": {},
   "outputs": [
    {
     "name": "stdout",
     "output_type": "stream",
     "text": [
      "5 + 2 equals...8\n"
     ]
    }
   ],
   "source": [
    "import winsound\n",
    "\n",
    "def ding():\n",
    "    s = r\"C:\\Users\\mkreidler\\Downloads\\chime.wav\"\n",
    "    winsound.PlaySound(s, winsound.SND_FILENAME)\n",
    "    \n",
    "def buzz():\n",
    "    s = r\"C:\\Users\\mkreidler\\Downloads\\Wrong Buzzer.wav\"\n",
    "    winsound.PlaySound(s, winsound.SND_FILENAME)\n",
    "\n",
    "ans = input(\"5 + 2 equals...\")\n",
    "if ans == \"7\":\n",
    "    ding()\n",
    "    \n",
    "else:\n",
    "    buzz()\n",
    "    \n",
    "#winsound.Beep(220, 200)"
   ]
  }
 ],
 "metadata": {
  "kernelspec": {
   "display_name": "Python 3",
   "language": "python",
   "name": "python3"
  },
  "language_info": {
   "codemirror_mode": {
    "name": "ipython",
    "version": 3
   },
   "file_extension": ".py",
   "mimetype": "text/x-python",
   "name": "python",
   "nbconvert_exporter": "python",
   "pygments_lexer": "ipython3",
   "version": "3.6.1"
  }
 },
 "nbformat": 4,
 "nbformat_minor": 2
}
