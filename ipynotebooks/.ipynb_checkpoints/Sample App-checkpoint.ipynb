{
 "cells": [
  {
   "cell_type": "code",
   "execution_count": 5,
   "metadata": {},
   "outputs": [
    {
     "name": "stdout",
     "output_type": "stream",
     "text": [
      "Name: 1\n",
      "{'id': UUID('eb5c1347-c5e3-47f6-b5b9-47f62a69f0a9'), 'datetime_created': datetime.datetime(2018, 2, 18, 21, 32, 53, 785525), 'name': '1'}\n"
     ]
    }
   ],
   "source": [
    "import uuid\n",
    "import datetime\n",
    "\n",
    "class Common:\n",
    "    def __init__(self):\n",
    "        self.id = uuid.uuid4()\n",
    "        self.datetime_created = datetime.datetime.now()\n",
    "        \n",
    "class Crate(Common):\n",
    "    def __init__(self):\n",
    "        super().__init__()\n",
    "        self.name = None\n",
    "        self.get_name()\n",
    "        \n",
    "    def get_name(self):\n",
    "        self.name = input(\"Name: \")\n",
    "\n",
    "        \n",
    "class Project(Common):\n",
    "    def __input__(self):\n",
    "        super().__init__()\n",
    "        self.name = None\n",
    "        self.crates = []\n",
    "        self.units = []\n",
    "        self.pallets = []\n",
    "\n",
    "def run(): \n",
    "    cmd = \"\"\n",
    "    crates = []\n",
    "    projects = []\n",
    "\n",
    "    while cmd != \"x\":\n",
    "        cmd = input(\"Type your command, 'x' for exit: \")\n",
    "        if \"crate\" in cmd:\n",
    "            crates.append(cmd)\n",
    "            print(f\"Crate added: {cmd}\")\n",
    "        if \"project\" in cmd:\n",
    "            name = cmd.replace(\"project\", \"\")\n",
    "            name = name.strip()\n",
    "            p = Project()\n",
    "            p.name = name\n",
    "            print( p.__dict__)\n",
    "\n",
    "\n",
    "    print(\"Summary: \")\n",
    "    for c in crates:\n",
    "        print(c)\n",
    "        \n",
    "def main():\n",
    "    c = Crate()\n",
    "    print(c.__dict__)\n",
    "\n",
    "if __name__ == \"__main__\":\n",
    "    main()\n",
    "\n"
   ]
  },
  {
   "cell_type": "code",
   "execution_count": null,
   "metadata": {
    "collapsed": true
   },
   "outputs": [],
   "source": []
  }
 ],
 "metadata": {
  "kernelspec": {
   "display_name": "Python 3",
   "language": "python",
   "name": "python3"
  },
  "language_info": {
   "codemirror_mode": {
    "name": "ipython",
    "version": 3
   },
   "file_extension": ".py",
   "mimetype": "text/x-python",
   "name": "python",
   "nbconvert_exporter": "python",
   "pygments_lexer": "ipython3",
   "version": "3.6.1"
  }
 },
 "nbformat": 4,
 "nbformat_minor": 2
}
