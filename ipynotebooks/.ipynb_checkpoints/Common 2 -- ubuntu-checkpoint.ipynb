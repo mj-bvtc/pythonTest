{
 "cells": [
  {
   "cell_type": "code",
<<<<<<< HEAD
<<<<<<< HEAD
   "execution_count": 6,
   "metadata": {},
   "outputs": [
    {
     "name": "stdout",
     "output_type": "stream",
     "text": [
      "User COLE created object 4A52C045-DB2F-4A18-9721-554EF2853F50 from device COLE-MACBOOKAIR on 2019-06-14 20:21:28.165967\n"
     ]
    }
   ],
   "source": [
    "import uuid\n",
    "import datetime\n",
    "import getpass\n",
    "import socket\n",
    "\n",
    "\n",
    "class Common():\n",
    "    def __init__(self):\n",
    "        self.guid = uuid.uuid4()\n",
    "        self.created_dt = datetime.datetime.now()\n",
    "        self.device = socket.gethostname()\n",
    "        self.user = getpass.getuser()\n",
    "    \n",
    "    def report(self):\n",
    "        print(f\"User {self.user.upper()} created object {str(self.guid).upper()} from device {self.device.upper()} on {self.created_dt}\")\n",
    "        \n",
    "c = Common()\n",
    "c.report()\n",
    "\n",
    "\n",
    "        "
=======
=======
>>>>>>> 0e8d6d55afc1f23193c4ffab586f41e7920a2785
   "execution_count": 7,
   "metadata": {},
   "outputs": [
    {
     "data": {
      "text/plain": [
       "'Object created at 2019-06-30 15:39:56.092679 by user mkreidler on BVTC-Render08 machine with guid 47b9b606-cc84-4821-a9ac-8fc4df6e4aa8'"
      ]
     },
     "execution_count": 7,
     "metadata": {},
     "output_type": "execute_result"
    }
   ],
   "source": [
    "import datetime\n",
    "import getpass\n",
    "import socket\n",
    "import uuid\n",
    "\n",
    "class Common():\n",
    "    def __init__(self):\n",
    "        self.user = getpass.getuser()\n",
    "        self.device = socket.gethostname()\n",
    "        self.created_dt = datetime.datetime.now()\n",
    "        self.guid = uuid.uuid4()\n",
    "    \n",
    "    def report(self):\n",
    "        message = f\"Object created at {self.created_dt} by user {self.user} on {self.device} machine with guid {self.guid}\"\n",
    "        return message\n",
    "    \n",
    "c = Common()\n",
    "c.report()"
<<<<<<< HEAD
>>>>>>> 0e8d6d55afc1f23193c4ffab586f41e7920a2785
=======
>>>>>>> 0e8d6d55afc1f23193c4ffab586f41e7920a2785
   ]
  },
  {
   "cell_type": "code",
   "execution_count": null,
   "metadata": {},
   "outputs": [],
   "source": []
  }
 ],
 "metadata": {
  "kernelspec": {
   "display_name": "Python 3",
   "language": "python",
   "name": "python3"
  },
  "language_info": {
   "codemirror_mode": {
    "name": "ipython",
    "version": 3
   },
   "file_extension": ".py",
   "mimetype": "text/x-python",
   "name": "python",
   "nbconvert_exporter": "python",
   "pygments_lexer": "ipython3",
<<<<<<< HEAD
<<<<<<< HEAD
   "version": "3.6.8"
=======
   "version": "3.6.5"
>>>>>>> 0e8d6d55afc1f23193c4ffab586f41e7920a2785
=======
   "version": "3.6.5"
>>>>>>> 0e8d6d55afc1f23193c4ffab586f41e7920a2785
  }
 },
 "nbformat": 4,
 "nbformat_minor": 2
}
