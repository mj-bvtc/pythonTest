{
 "cells": [
  {
   "cell_type": "code",
   "execution_count": 28,
   "metadata": {},
   "outputs": [
    {
     "name": "stdout",
     "output_type": "stream",
     "text": [
      "Missing rhino model in this folder: Z:\\222 E 16TH\\2018-08-01\\This should fail test\n",
      "Missing rhino model in this folder: Z:\\222 E 16TH\\2018-08-01\\This too shall fail\n"
     ]
    }
   ],
   "source": [
    "import os\n",
    "\n",
    "#path = r\"V:\\Field Survey\\Shell House Building\\02 Deliverables\\Agi-Renders\"\n",
    "path = r\"Z:\\222 E 16TH\\2018-08-01\"\n",
    "\n",
    "def agi_folder(path):\n",
    "    if not os.path.exists(path):\n",
    "        print(f\"Path '{path}' does not exist\")\n",
    "        return False\n",
    "    else:\n",
    "        #print(f\"{path} is Valid Path\")\n",
    "        pass\n",
    "    \n",
    "    if path.endswith(\".files\"):\n",
    "        #print(f\"Skipping agi folder: {path}\")\n",
    "        return True\n",
    "    else:\n",
    "        return False\n",
    "\n",
    "\n",
    "for root, dirs, files in os.walk(path, topdown=True):\n",
    "    #make every folder into a full path\n",
    "    dirs[:] = [os.path.join(root, d) for d in dirs]\n",
    "    \n",
    "    #create list of agi folders\n",
    "    exclude = [d for d in dirs if agi_folder(d)]\n",
    "    \n",
    "    #exclude agi folders from os.walk\n",
    "    dirs[:] = [d for d in dirs if d not in exclude]\n",
    "    \n",
    "    for d in dirs:\n",
    "        #print(d)\n",
    "        pass\n",
    "        \n",
    "        \n",
    "    def missing_rhino(folder):\n",
    "        if not os.path.isdir(folder):\n",
    "            print(f\"{folder} is not a directory\")\n",
    "            return\n",
    "        else:\n",
    "            #print(f\"Testing folder {folder}\")\n",
    "            pass\n",
    "        \n",
    "        files = os.listdir(folder)\n",
    "        matches = [f for f in files if \".3dm\" in f]\n",
    "    \n",
    "        if matches:\n",
    "            #print(f\"Rhino file(s): {matches}\")\n",
    "            pass\n",
    "\n",
    "        else:\n",
    "            print(f\"Missing rhino model in this folder: {folder}\")\n",
    "        \n",
    "    for d in dirs:\n",
    "        missing_rhino(d)\n",
    "        \n",
    "        \n",
    "        \n",
    "\n",
    "    \n",
    "    \n",
    "\n"
   ]
  },
  {
   "cell_type": "code",
   "execution_count": null,
   "metadata": {},
   "outputs": [],
   "source": []
  },
  {
   "cell_type": "code",
   "execution_count": null,
   "metadata": {},
   "outputs": [],
   "source": []
  }
 ],
 "metadata": {
  "kernelspec": {
   "display_name": "Python 3",
   "language": "python",
   "name": "python3"
  },
  "language_info": {
   "codemirror_mode": {
    "name": "ipython",
    "version": 3
   },
   "file_extension": ".py",
   "mimetype": "text/x-python",
   "name": "python",
   "nbconvert_exporter": "python",
   "pygments_lexer": "ipython3",
   "version": "3.6.5"
  }
 },
 "nbformat": 4,
 "nbformat_minor": 2
}
