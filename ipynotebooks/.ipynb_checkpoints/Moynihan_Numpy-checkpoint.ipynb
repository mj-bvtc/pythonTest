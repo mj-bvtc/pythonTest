{
 "cells": [
  {
   "cell_type": "code",
   "execution_count": 44,
   "metadata": {},
   "outputs": [
    {
     "name": "stdout",
     "output_type": "stream",
     "text": [
      "   Bounce_Rate  Day  Visitors\n",
      "0           65    1        43\n",
      "1           72    2        53\n",
      "2           62    3        34\n",
      "3           64    4        45\n",
      "4           53    5        64\n",
      "5           66    6        34\n",
      "   Bounce_Rate  Day  Visitors\n",
      "0           65    1        43\n",
      "1           72    2        53\n",
      "   Bounce_Rate  Day  Visitors\n",
      "2           62    3        34\n",
      "3           64    4        45\n",
      "4           53    5        64\n",
      "5           66    6        34\n"
     ]
    }
   ],
   "source": [
    "import numpy as np\n",
    "import pandas as pd\n",
    "import matplotlib.pyplot as plt\n",
    "from matplotlib import style\n",
    "\n",
    "style.use('ggplot')\n",
    "\n",
    "c = [34.2, 123, 14.98, 123.34, 14]\n",
    "\n",
    "C = np.array(c)\n",
    "\n",
    "\n",
    "\n",
    "web_stats = {'Day' : [1,2,3,4,5,6],\n",
    "             'Visitors': [43, 53,34, 45, 64, 34],\n",
    "            'Bounce_Rate': [65, 72, 62, 64, 53, 66]}\n",
    "\n",
    "df = pd.DataFrame(web_stats)\n",
    "\n",
    "print(df)\n",
    "\n",
    "print(df.head(2))\n",
    "print(df.tail(4))"
   ]
  },
  {
   "cell_type": "code",
   "execution_count": 45,
   "metadata": {},
   "outputs": [
    {
     "name": "stdout",
     "output_type": "stream",
     "text": [
      "     Bounce_Rate  Visitors\n",
      "Day                       \n",
      "1             65        43\n",
      "2             72        53\n",
      "3             62        34\n",
      "4             64        45\n",
      "5             53        64\n",
      "6             66        34\n"
     ]
    }
   ],
   "source": [
    "df.set_index(\"Day\", inplace=True)\n",
    "\n",
    "print(df)"
   ]
  },
  {
   "cell_type": "code",
   "execution_count": 46,
   "metadata": {},
   "outputs": [
    {
     "name": "stdout",
     "output_type": "stream",
     "text": [
      "Day\n",
      "1    43\n",
      "2    53\n",
      "3    34\n",
      "4    45\n",
      "5    64\n",
      "6    34\n",
      "Name: Visitors, dtype: int64\n"
     ]
    }
   ],
   "source": [
    "print(df['Visitors'])"
   ]
  },
  {
   "cell_type": "code",
   "execution_count": 47,
   "metadata": {},
   "outputs": [
    {
     "name": "stdout",
     "output_type": "stream",
     "text": [
      "Day\n",
      "1    43\n",
      "2    53\n",
      "3    34\n",
      "4    45\n",
      "5    64\n",
      "6    34\n",
      "Name: Visitors, dtype: int64\n"
     ]
    }
   ],
   "source": [
    "print(df.Visitors)"
   ]
  },
  {
   "cell_type": "code",
   "execution_count": 48,
   "metadata": {},
   "outputs": [
    {
     "name": "stdout",
     "output_type": "stream",
     "text": [
      "     Bounce_Rate  Visitors\n",
      "Day                       \n",
      "1             65        43\n",
      "2             72        53\n",
      "3             62        34\n",
      "4             64        45\n",
      "5             53        64\n",
      "6             66        34\n"
     ]
    }
   ],
   "source": [
    "print(df[['Bounce_Rate', 'Visitors']])"
   ]
  },
  {
   "cell_type": "code",
   "execution_count": 49,
   "metadata": {
    "collapsed": true
   },
   "outputs": [],
   "source": [
    "survey = pd.read_csv(r\"C:\\Users\\mkreidler\\Desktop\\EstimatingCounts.csv\")"
   ]
  },
  {
   "cell_type": "code",
   "execution_count": 50,
   "metadata": {
    "scrolled": true
   },
   "outputs": [
    {
     "name": "stdout",
     "output_type": "stream",
     "text": [
      "   Area  Page Index Style  Quantity Page Label  Space  Count Label Checkmark  \\\n",
      "0   NaN           1   NaN       NaN      R-311    2.0    NaN   NaN   Checked   \n",
      "1   NaN           1   NaN       NaN      R-311    2.0    NaN   NaN   Checked   \n",
      "2   NaN           1   NaN       NaN      R-311    2.0    NaN   NaN   Checked   \n",
      "3   NaN           1   NaN       NaN      R-311    1.0    NaN   NaN   Checked   \n",
      "4   NaN           1   NaN       NaN      R-311    2.0    NaN   NaN   Checked   \n",
      "\n",
      "  Notes  \n",
      "0   NaN  \n",
      "1   NaN  \n",
      "2   NaN  \n",
      "3   NaN  \n",
      "4   NaN  \n"
     ]
    }
   ],
   "source": [
    "\n",
    "print(survey.head())"
   ]
  },
  {
   "cell_type": "code",
   "execution_count": 51,
   "metadata": {},
   "outputs": [
    {
     "name": "stdout",
     "output_type": "stream",
     "text": [
      "nan\n"
     ]
    }
   ],
   "source": [
    "print(sum(survey.Count))"
   ]
  },
  {
   "cell_type": "code",
   "execution_count": 52,
   "metadata": {},
   "outputs": [
    {
     "name": "stdout",
     "output_type": "stream",
     "text": [
      "nan\n"
     ]
    }
   ],
   "source": [
    "print(sum(survey.Count))"
   ]
  },
  {
   "cell_type": "code",
   "execution_count": 53,
   "metadata": {
    "scrolled": false
   },
   "outputs": [
    {
     "name": "stdout",
     "output_type": "stream",
     "text": [
      "402.0\n",
      "       Count\n",
      "Style       \n",
      "AS1      2.0\n",
      "AS2     10.0\n",
      "AS3      6.0\n",
      "CN1      2.0\n",
      "CN2     19.0\n",
      "CN3      8.0\n",
      "CN4     84.0\n",
      "CN5      1.0\n",
      "CN6      4.0\n",
      "CN7     25.0\n",
      "CT1      2.0\n",
      "CT10     1.0\n",
      "CT11L    1.0\n",
      "CT11R    2.0\n",
      "CT12L    3.0\n",
      "CT12R    4.0\n",
      "CT13L    2.0\n",
      "CT13R    2.0\n",
      "CT14L    1.0\n",
      "CT14R    1.0\n",
      "CT17R    1.0\n",
      "CT2      4.0\n",
      "CT20L    8.0\n",
      "CT20R    7.0\n",
      "CT21L    7.0\n",
      "CT21R   10.0\n",
      "CT22L    7.0\n",
      "CT22R    8.0\n",
      "CT26R    1.0\n",
      "CT27R    1.0\n",
      "CT28    93.0\n",
      "CT29     4.0\n",
      "CT30L    2.0\n",
      "CT30R    1.0\n",
      "CT3L     2.0\n",
      "CT4L     1.0\n",
      "CT4R     1.0\n",
      "CT6     28.0\n",
      "CT7     15.0\n",
      "CT8     11.0\n",
      "CT9     10.0\n"
     ]
    }
   ],
   "source": [
    "sums = survey[['Style', 'Label', 'Count']].groupby(survey.Style).sum()\n",
    "#df = df[np.isfinite(df['EPS'])]\n",
    "sums = sums[np.isfinite(sums['Count'])]\n",
    "csv = sums.dropna().to_csv(r\"C:\\Users\\mkreidler\\Desktop\\sums.csv\")\n",
    "print(sum(sums.Count))\n",
    "\n",
    "print(sums)"
   ]
  },
  {
   "cell_type": "code",
   "execution_count": 54,
   "metadata": {},
   "outputs": [
    {
     "name": "stdout",
     "output_type": "stream",
     "text": [
      "Empty DataFrame\n",
      "Columns: [apples, bananas]\n",
      "Index: []\n",
      "   apples  bananas\n",
      "0       5       12\n",
      "1       6       34\n",
      "2      34        3\n"
     ]
    }
   ],
   "source": [
    "qty = {\"apples\": [5, 6, 34],\n",
    "      \"bananas\": [12, 34, 3]}\n",
    "\n",
    "client = {\"apples\": [\"bill\", \"mary\", \"sam\"], \n",
    "          \"bananas\": [\"george\", \"frank\", 'joe']}\n",
    "\n",
    "q = pd.DataFrame(qty)\n",
    "c = pd.DataFrame(client)\n",
    "\n",
    "result = pd.merge(q, c)\n",
    "\n",
    "print(result)\n",
    "\n",
    "print(q)\n",
    "\n"
   ]
  },
  {
   "cell_type": "code",
   "execution_count": 55,
   "metadata": {},
   "outputs": [
    {
     "name": "stdout",
     "output_type": "stream",
     "text": [
      "0\n",
      "1\n",
      "2\n",
      "3\n",
      "4\n",
      "5\n",
      "6\n",
      "7\n",
      "8\n",
      "9\n",
      "10\n",
      "11\n",
      "12\n",
      "13\n",
      "14\n",
      "15\n",
      "16\n",
      "17\n",
      "18\n",
      "19\n"
     ]
    }
   ],
   "source": [
    "for i in range(20):\n",
    "    print(i)"
   ]
  },
  {
   "cell_type": "code",
   "execution_count": 56,
   "metadata": {},
   "outputs": [
    {
     "name": "stdout",
     "output_type": "stream",
     "text": [
      "[440 120 300 640] pound\n"
     ]
    }
   ],
   "source": [
    "import pint\n",
    "\n",
    "u = pint.UnitRegistry()\n",
    "\n",
    "person = [1,2,3,34]\n",
    "reps = [22,3,5,64]\n",
    "weight = [20, 40, 60, 10]\n",
    "\n",
    "p = np.array(person)\n",
    "r = np.array(reps)\n",
    "w = np.array(weight)\n",
    "\n",
    "\n",
    "w = w * u.pound\n",
    "\n",
    "print(w*r)"
   ]
  },
  {
   "cell_type": "code",
   "execution_count": 57,
   "metadata": {},
   "outputs": [
    {
     "name": "stdout",
     "output_type": "stream",
     "text": [
      "[  34.2   123.     14.98  123.34   14.  ]\n"
     ]
    }
   ],
   "source": [
    "print(C)"
   ]
  },
  {
   "cell_type": "code",
   "execution_count": 58,
   "metadata": {},
   "outputs": [
    {
     "data": {
      "text/plain": [
       "array([  93.56 ,  253.4  ,   58.964,  254.012,   57.2  ])"
      ]
     },
     "execution_count": 58,
     "metadata": {},
     "output_type": "execute_result"
    }
   ],
   "source": [
    "C * 9/5+32\n"
   ]
  },
  {
   "cell_type": "code",
   "execution_count": null,
   "metadata": {
    "collapsed": true
   },
   "outputs": [],
   "source": []
  }
 ],
 "metadata": {
  "kernelspec": {
   "display_name": "Python 3",
   "language": "python",
   "name": "python3"
  },
  "language_info": {
   "codemirror_mode": {
    "name": "ipython",
    "version": 3
   },
   "file_extension": ".py",
   "mimetype": "text/x-python",
   "name": "python",
   "nbconvert_exporter": "python",
   "pygments_lexer": "ipython3",
   "version": "3.6.1"
  }
 },
 "nbformat": 4,
 "nbformat_minor": 2
}
