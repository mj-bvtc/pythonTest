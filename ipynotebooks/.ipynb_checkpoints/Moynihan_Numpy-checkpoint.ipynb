{
 "cells": [
  {
   "cell_type": "code",
   "execution_count": 10,
   "metadata": {},
   "outputs": [
    {
     "name": "stdout",
     "output_type": "stream",
     "text": [
      "   Bounce_Rate  Day  Visitors\n",
      "0           65    1        43\n",
      "1           72    2        53\n",
      "2           62    3        34\n",
      "3           64    4        45\n",
      "4           53    5        64\n",
      "5           66    6        34\n",
      "   Bounce_Rate  Day  Visitors\n",
      "0           65    1        43\n",
      "1           72    2        53\n",
      "   Bounce_Rate  Day  Visitors\n",
      "2           62    3        34\n",
      "3           64    4        45\n",
      "4           53    5        64\n",
      "5           66    6        34\n"
     ]
    }
   ],
   "source": [
    "import numpy as np\n",
    "import pandas as pd\n",
    "import matplotlib.pyplot as plt\n",
    "from matplotlib import style\n",
    "\n",
    "style.use('ggplot')\n",
    "\n",
    "c = [34.2, 123, 14.98, 123.34, 14]\n",
    "\n",
    "C = np.array(c)\n",
    "\n",
    "\n",
    "\n",
    "web_stats = {'Day' : [1,2,3,4,5,6],\n",
    "             'Visitors': [43, 53,34, 45, 64, 34],\n",
    "            'Bounce_Rate': [65, 72, 62, 64, 53, 66]}\n",
    "\n",
    "df = pd.DataFrame(web_stats)\n",
    "\n",
    "print(df)\n",
    "\n",
    "print(df.head(2))\n",
    "print(df.tail(4))"
   ]
  },
  {
   "cell_type": "code",
   "execution_count": null,
   "metadata": {
    "collapsed": true
   },
   "outputs": [],
   "source": []
  },
  {
   "cell_type": "code",
   "execution_count": null,
   "metadata": {
    "collapsed": true
   },
   "outputs": [],
   "source": []
  },
  {
   "cell_type": "code",
   "execution_count": 12,
   "metadata": {},
   "outputs": [
    {
     "name": "stdout",
     "output_type": "stream",
     "text": [
      "     Bounce_Rate  Visitors\n",
      "Day                       \n",
      "1             65        43\n",
      "2             72        53\n",
      "3             62        34\n",
      "4             64        45\n",
      "5             53        64\n",
      "6             66        34\n"
     ]
    }
   ],
   "source": [
    "df.set_index(\"Day\", inplace=True)\n",
    "\n",
    "print(df)"
   ]
  },
  {
   "cell_type": "code",
   "execution_count": 13,
   "metadata": {},
   "outputs": [
    {
     "name": "stdout",
     "output_type": "stream",
     "text": [
      "Day\n",
      "1    43\n",
      "2    53\n",
      "3    34\n",
      "4    45\n",
      "5    64\n",
      "6    34\n",
      "Name: Visitors, dtype: int64\n"
     ]
    }
   ],
   "source": [
    "print(df['Visitors'])"
   ]
  },
  {
   "cell_type": "code",
   "execution_count": 14,
   "metadata": {},
   "outputs": [
    {
     "name": "stdout",
     "output_type": "stream",
     "text": [
      "Day\n",
      "1    43\n",
      "2    53\n",
      "3    34\n",
      "4    45\n",
      "5    64\n",
      "6    34\n",
      "Name: Visitors, dtype: int64\n"
     ]
    }
   ],
   "source": [
    "print(df.Visitors)"
   ]
  },
  {
   "cell_type": "code",
   "execution_count": 15,
   "metadata": {},
   "outputs": [
    {
     "name": "stdout",
     "output_type": "stream",
     "text": [
      "     Bounce_Rate  Visitors\n",
      "Day                       \n",
      "1             65        43\n",
      "2             72        53\n",
      "3             62        34\n",
      "4             64        45\n",
      "5             53        64\n",
      "6             66        34\n"
     ]
    }
   ],
   "source": [
    "print(df[['Bounce_Rate', 'Visitors']])"
   ]
  },
  {
   "cell_type": "code",
   "execution_count": 17,
   "metadata": {
    "collapsed": true
   },
   "outputs": [],
   "source": [
    "survey = pd.read_csv(r\"C:\\Users\\mkreidler\\Desktop\\EstimatingCounts.csv\")"
   ]
  },
  {
   "cell_type": "code",
   "execution_count": null,
   "metadata": {
    "collapsed": true
   },
   "outputs": [],
   "source": []
  },
  {
   "cell_type": "code",
   "execution_count": 24,
   "metadata": {
    "scrolled": true
   },
   "outputs": [
    {
     "name": "stdout",
     "output_type": "stream",
     "text": [
      "   Area  Page Index Style  Quantity Page Label  Space  Count Label Checkmark\n",
      "0   NaN           1   CN1         1      R-311    NaN      1  CNTC   Checked\n",
      "1   NaN           1   CN2         1      R-311    NaN      4   CNB   Checked\n",
      "2   NaN           2   CN3         1      R-312    NaN      1   CNT   Checked\n",
      "3   NaN           3   CN3         1      R-317    NaN      2   CNT   Checked\n",
      "4   NaN           4   CN3         1      R-318    NaN      1   CNT   Checked\n"
     ]
    }
   ],
   "source": [
    "\n",
    "print(survey.head())"
   ]
  },
  {
   "cell_type": "code",
   "execution_count": null,
   "metadata": {
    "collapsed": true
   },
   "outputs": [],
   "source": []
  },
  {
   "cell_type": "code",
   "execution_count": 20,
   "metadata": {},
   "outputs": [
    {
     "name": "stdout",
     "output_type": "stream",
     "text": [
      "80\n"
     ]
    }
   ],
   "source": [
    "print(sum(survey.Quantity))"
   ]
  },
  {
   "cell_type": "code",
   "execution_count": 21,
   "metadata": {},
   "outputs": [
    {
     "name": "stdout",
     "output_type": "stream",
     "text": [
      "402\n"
     ]
    }
   ],
   "source": [
    "print(sum(survey.Count))"
   ]
  },
  {
   "cell_type": "code",
   "execution_count": 26,
   "metadata": {
    "scrolled": true
   },
   "outputs": [
    {
     "name": "stdout",
     "output_type": "stream",
     "text": [
      "       Area  Page Index  Quantity  Space  Count\n",
      "Label                                          \n",
      "CEB1    NaN          10         1    NaN      2\n",
      "CET1    NaN          20         2    NaN     19\n",
      "CLB1    NaN          20         2    NaN      2\n",
      "CLT1    NaN          10         1    NaN      4\n",
      "CNB     NaN          13         3    NaN      8\n",
      "CNT     NaN          38         8    NaN     84\n",
      "CNTC    NaN           1         1    NaN      1\n",
      "CSL2    NaN          10         1    NaN      2\n",
      "CSL4    NaN          10         1    NaN      1\n",
      "CSR4    NaN          10         1    NaN      1\n",
      "CTB1    NaN          10         1    NaN     28\n",
      "EGB1    NaN          20         2    NaN     15\n",
      "ELB1    NaN          28         3    NaN     11\n",
      "ELT1    NaN          17         2    NaN     10\n",
      "EPC1    NaN           9         1    NaN      1\n",
      "EPL1    NaN           9         1    NaN      1\n",
      "EPL2    NaN          26         3    NaN      3\n",
      "EPL4    NaN          17         2    NaN      2\n",
      "EPL5    NaN           8         1    NaN      1\n",
      "EPR1    NaN           9         1    NaN      2\n",
      "EPR2    NaN          28         3    NaN      4\n",
      "EPR3    NaN           8         1    NaN      1\n",
      "EPR4    NaN          17         2    NaN      2\n",
      "EPR5    NaN           8         1    NaN      1\n",
      "ESL1    NaN          28         3    NaN      7\n",
      "ESL2    NaN          28         3    NaN      7\n",
      "ESL3    NaN          17         2    NaN      7\n",
      "ESR1    NaN          28         3    NaN      8\n",
      "ESR2    NaN          28         3    NaN     10\n",
      "ESR3    NaN          20         2    NaN      8\n",
      "ESR5    NaN          11         1    NaN      1\n",
      "ESR8    NaN           8         1    NaN      1\n",
      "ETB1    NaN          37         4    NaN     93\n",
      "GCN     NaN          14         2    NaN      4\n",
      "GS      NaN          14         2    NaN     25\n",
      "WGB1    NaN           8         1    NaN      2\n",
      "WGT1    NaN           8         1    NaN      4\n",
      "WSB2    NaN          17         2    NaN     10\n",
      "WSL2    NaN          17         2    NaN      2\n",
      "WSR2    NaN           8         1    NaN      1\n",
      "WTB1    NaN          17         2    NaN      6\n"
     ]
    }
   ],
   "source": [
    "print(survey.groupby(survey.Label).sum())"
   ]
  },
  {
   "cell_type": "code",
   "execution_count": null,
   "metadata": {
    "collapsed": true
   },
   "outputs": [],
   "source": []
  },
  {
   "cell_type": "code",
   "execution_count": null,
   "metadata": {
    "collapsed": true
   },
   "outputs": [],
   "source": []
  },
  {
   "cell_type": "code",
   "execution_count": null,
   "metadata": {
    "collapsed": true
   },
   "outputs": [],
   "source": []
  },
  {
   "cell_type": "code",
   "execution_count": null,
   "metadata": {
    "collapsed": true
   },
   "outputs": [],
   "source": []
  },
  {
   "cell_type": "code",
   "execution_count": null,
   "metadata": {
    "collapsed": true
   },
   "outputs": [],
   "source": []
  },
  {
   "cell_type": "code",
   "execution_count": null,
   "metadata": {
    "collapsed": true
   },
   "outputs": [],
   "source": []
  },
  {
   "cell_type": "code",
   "execution_count": null,
   "metadata": {
    "collapsed": true
   },
   "outputs": [],
   "source": []
  },
  {
   "cell_type": "code",
   "execution_count": null,
   "metadata": {
    "collapsed": true
   },
   "outputs": [],
   "source": []
  },
  {
   "cell_type": "code",
   "execution_count": null,
   "metadata": {
    "collapsed": true
   },
   "outputs": [],
   "source": []
  },
  {
   "cell_type": "code",
   "execution_count": null,
   "metadata": {
    "collapsed": true
   },
   "outputs": [],
   "source": []
  },
  {
   "cell_type": "code",
   "execution_count": 2,
   "metadata": {},
   "outputs": [
    {
     "name": "stdout",
     "output_type": "stream",
     "text": [
      "[  34.2   123.     14.98  123.34   14.  ]\n"
     ]
    }
   ],
   "source": [
    "print(C)"
   ]
  },
  {
   "cell_type": "code",
   "execution_count": 3,
   "metadata": {},
   "outputs": [
    {
     "data": {
      "text/plain": [
       "array([  93.56 ,  253.4  ,   58.964,  254.012,   57.2  ])"
      ]
     },
     "execution_count": 3,
     "metadata": {},
     "output_type": "execute_result"
    }
   ],
   "source": [
    "C * 9/5+32\n"
   ]
  },
  {
   "cell_type": "code",
   "execution_count": null,
   "metadata": {
    "collapsed": true
   },
   "outputs": [],
   "source": []
  }
 ],
 "metadata": {
  "kernelspec": {
   "display_name": "Python 3",
   "language": "python",
   "name": "python3"
  },
  "language_info": {
   "codemirror_mode": {
    "name": "ipython",
    "version": 3
   },
   "file_extension": ".py",
   "mimetype": "text/x-python",
   "name": "python",
   "nbconvert_exporter": "python",
   "pygments_lexer": "ipython3",
   "version": "3.6.1"
  }
 },
 "nbformat": 4,
 "nbformat_minor": 2
}
