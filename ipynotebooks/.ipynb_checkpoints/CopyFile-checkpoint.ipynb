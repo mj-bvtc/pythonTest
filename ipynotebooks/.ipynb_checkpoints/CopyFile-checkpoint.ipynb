{
 "cells": [
  {
   "cell_type": "code",
   "execution_count": 20,
   "metadata": {},
   "outputs": [
    {
     "name": "stdout",
     "output_type": "stream",
     "text": [
      "Created directory: V:\\Sample Data\\Old Main Post Office//29\n",
      "Created directory: V:\\Sample Data\\Old Main Post Office//VII PC12 8 38\n",
      "Created directory: V:\\Sample Data\\Old Main Post Office//31\n",
      "Created directory: V:\\Sample Data\\Old Main Post Office//30\n",
      "Created directory: V:\\Sample Data\\Old Main Post Office//VII PC15 8\n",
      "Created directory: V:\\Sample Data\\Old Main Post Office//37\n"
     ]
    }
   ],
   "source": [
    "import tkinter\n",
    "import os\n",
    "\n",
    "def get_path(_title=None):\n",
    "    tkinter.Tk().withdraw() # we don't want a full GUI, so keep the root window from appearing\n",
    "    path = tkinter.filedialog.askdirectory(title = _title) # show an \"Open\" dialog box and return the path to the selected file\n",
    "    msg = f\"Found this path: {path}\"\n",
    "    print(msg)\n",
    "    return path\n",
    "\n",
    "#src = get_path(\"Select source folder\")\n",
    "src = r\"F:\\Old Main Post Office\\2018-03-05\"\n",
    "ext = [\"3dm\"]\n",
    "\n",
    "def find_dir_names(extensions, path):\n",
    "    files = []\n",
    "    dirs = set()\n",
    "    for dirpath, dirnames, filenames in os.walk(path):\n",
    "        for filename in filenames:\n",
    "            #print(filename)\n",
    "            ext = filename.split(\".\")[-1]\n",
    "            if ext in extensions:\n",
    "                full_path = dirpath + \"\\\\\" + filename\n",
    "                #print(full_path)\n",
    "                folder = dirpath.split(\"\\\\\")[-1]\n",
    "                dirs.add(folder)\n",
    "                #print(f\"Found this directory: {dirpath}\")\n",
    "                #print(f\"Found this folder: {folder}\")\n",
    "    return dirs\n",
    "\n",
    "dirs = find_dir_names(ext, src)\n",
    "dst = r\"V:\\Sample Data\\Old Main Post Office\"\n",
    "\n",
    "for d in dirs:\n",
    "    path = dst + \"//\" + d\n",
    "    if os.path.exists(path):\n",
    "        print(f\"Skipping----------{path} already exists\")\n",
    "        \n",
    "    else:\n",
    "        os.mkdir(path)\n",
    "        print(f\"Created directory: {path}\")\n"
   ]
  },
  {
   "cell_type": "code",
   "execution_count": 27,
   "metadata": {},
   "outputs": [
    {
     "name": "stdout",
     "output_type": "stream",
     "text": [
      "Copied file from F:\\451 Broome\\2018-03-09\\6FS\\3D_PDF_6FS.pdf to V:\\Sample Data\\451 Broome\\6FS\\3D_PDF_6FS.pdf\n",
      "Copied file from F:\\451 Broome\\2018-03-09\\8F5B2\\3D_PDF_8F5B2.pdf to V:\\Sample Data\\451 Broome\\8F5B2\\3D_PDF_8F5B2.pdf\n",
      "Copied file from F:\\451 Broome\\2018-03-09\\B4JH\\3D_PDF_B4JH.pdf to V:\\Sample Data\\451 Broome\\B4JH\\3D_PDF_B4JH.pdf\n",
      "Copied file from F:\\451 Broome\\2018-03-09\\E7 M5\\3D_PDF_E7 M5.pdf to V:\\Sample Data\\451 Broome\\E7 M5\\3D_PDF_E7 M5.pdf\n",
      "Copied file from F:\\451 Broome\\2018-03-09\\E7M6\\3D_PDF_E7M6.pdf to V:\\Sample Data\\451 Broome\\E7M6\\3D_PDF_E7M6.pdf\n"
     ]
    }
   ],
   "source": [
    "from shutil import copyfile\n",
    "import os\n",
    "\n",
    "#src = r\"F:\\451 Broome\\2018-03-12\"\n",
    "#folder = r\"V:\\Sample Data\\451 Broome\"\n",
    "\n",
    "src_dir = r\"F:\\451 Broome\\2018-03-09\"\n",
    "dst_dir = r\"V:\\Sample Data\\451 Broome\"\n",
    "\n",
    "\n",
    "extensions = [\"3dm\", \"pdf\"]\n",
    "\n",
    "def find_files(extensions, path):\n",
    "    files = []\n",
    "    dirs = set()\n",
    "    for dirpath, dirnames, filenames in os.walk(path):\n",
    "        for filename in filenames:\n",
    "            ext = filename.split(\".\")[-1]\n",
    "            if ext in extensions:\n",
    "                full_path = os.path.join(dirpath,filename)\n",
    "                files.append(full_path)\n",
    "                #print(f\"Added {full_path} to list\")\n",
    "    return files\n",
    "    \n",
    "files = find_files(extensions, src_dir)\n",
    "\n",
    "\n",
    "def copy_files(src, dst, files):\n",
    "    for f in files:\n",
    "        base = os.path.basename(f)\n",
    "        folder = os.path.basename(os.path.dirname(f))\n",
    "        new_folder = os.path.join(dst, folder)\n",
    "        if not os.path.exists(new_folder):\n",
    "            os.mkdir(new_folder)\n",
    "        d = os.path.join(new_folder, base)\n",
    "        if not os.path.exists(d):\n",
    "            copyfile(f, d)\n",
    "            print(f\"Copied file from {f} to {d}\")\n",
    "        else:\n",
    "            print(f\"Skipped file {d}, already exists\")\n",
    "\n",
    "copy_files(src_dir, dst_dir, files)\n"
   ]
  },
  {
   "cell_type": "code",
   "execution_count": 10,
   "metadata": {},
   "outputs": [
    {
     "data": {
      "text/plain": [
       "{'created_datetime': datetime.datetime(2018, 3, 14, 10, 40, 23, 91028),\n",
       " 'destination_dir': 'C:\\\\Users\\\\mkreidler\\\\Desktop\\\\B',\n",
       " 'hostname': 'BVTC-Render08',\n",
       " 'source_dir': 'C:\\\\Users\\\\mkreidler\\\\Desktop\\\\a',\n",
       " 'subfolders': {},\n",
       " 'user_host': 'mkreidler@BVTC-Render08',\n",
       " 'username': 'mkreidler'}"
      ]
     },
     "execution_count": 10,
     "metadata": {},
     "output_type": "execute_result"
    }
   ],
   "source": [
    "import datetime\n",
    "import socket\n",
    "import getpass\n",
    "\n",
    "\n",
    "class Common:\n",
    "    def __init__(self):\n",
    "        self.created_datetime = datetime.datetime.now()\n",
    "        self.hostname = socket.gethostname()\n",
    "        self.username = getpass.getuser()\n",
    "        self.user_host= f\"{self.username}@{self.hostname}\"\n",
    "    \n",
    "    def copy(self):\n",
    "        print(\"Copy Function: We are working on this...\")\n",
    "    \n",
    "\n",
    "\n",
    "class Mirror(Common):\n",
    "    def __init__(self, source_dir=None, destination_dir=None):\n",
    "        super().__init__()\n",
    "        self.source_dir = source_dir\n",
    "        self.destination_dir = destination_dir\n",
    "        self.subfolders = {}\n",
    "        \n",
    "class Folder:\n",
    "    def __init__(self, name, src, dst):\n",
    "        super().__init__()\n",
    "        self.name = name\n",
    "        self.status = []\n",
    "\n",
    "\n",
    "        \n",
    "m = Mirror(source_dir=r\"C:\\Users\\mkreidler\\Desktop\\a\",\n",
    "           destination_dir=r\"C:\\Users\\mkreidler\\Desktop\\B\")\n",
    "\n",
    "m.__dict__\n",
    "\n",
    "        \n",
    "        "
   ]
  }
 ],
 "metadata": {
  "kernelspec": {
   "display_name": "Python 3",
   "language": "python",
   "name": "python3"
  },
  "language_info": {
   "codemirror_mode": {
    "name": "ipython",
    "version": 3
   },
   "file_extension": ".py",
   "mimetype": "text/x-python",
   "name": "python",
   "nbconvert_exporter": "python",
   "pygments_lexer": "ipython3",
   "version": "3.6.1"
  }
 },
 "nbformat": 4,
 "nbformat_minor": 2
}
