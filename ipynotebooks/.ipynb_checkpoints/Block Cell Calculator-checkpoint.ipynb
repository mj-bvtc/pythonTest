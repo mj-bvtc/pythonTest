{
 "cells": [
  {
   "cell_type": "code",
   "execution_count": 8,
   "metadata": {},
   "outputs": [
    {
     "name": "stdout",
     "output_type": "stream",
     "text": [
      "You need a minimum of 4 cells that will equal 6.125 inches clear each\n"
     ]
    }
   ],
   "source": [
    "def number_cells(width, cmax=7, report=False):\n",
    "    t = 1.25\n",
    "    cmax = 7\n",
    "    for n in range(1,10,1):\n",
    "        result = (width-((n+1)*t))/n\n",
    "        if result < cmax and report == False:\n",
    "            print(f\"You need a minimum of {n} cells that will equal {result} inches clear each\")\n",
    "            return\n",
    "        if report == True:\n",
    "            print(f\"There are {n} cells that will equal {result} inches clear each\")\n",
    "    \n",
    "    \n",
    "number_cells(30.75, report=False)"
   ]
  },
  {
   "cell_type": "code",
   "execution_count": 2,
   "metadata": {},
   "outputs": [
    {
     "name": "stdout",
     "output_type": "stream",
     "text": [
      "There are 2 cells that will equal 5.5 inches clear each\n"
     ]
    }
   ],
   "source": [
    "number_cells(14.75)"
   ]
  },
  {
   "cell_type": "code",
   "execution_count": 3,
   "metadata": {},
   "outputs": [
    {
     "name": "stdout",
     "output_type": "stream",
     "text": [
      "There are 3 cells that will equal 4.583333333333333 inches clear each\n"
     ]
    }
   ],
   "source": [
    "number_cells(18.75)"
   ]
  },
  {
   "cell_type": "code",
   "execution_count": null,
   "metadata": {},
   "outputs": [],
   "source": []
  }
 ],
 "metadata": {
  "kernelspec": {
   "display_name": "Python 3",
   "language": "python",
   "name": "python3"
  },
  "language_info": {
   "codemirror_mode": {
    "name": "ipython",
    "version": 3
   },
   "file_extension": ".py",
   "mimetype": "text/x-python",
   "name": "python",
   "nbconvert_exporter": "python",
   "pygments_lexer": "ipython3",
   "version": "3.6.5"
  }
 },
 "nbformat": 4,
 "nbformat_minor": 2
}
