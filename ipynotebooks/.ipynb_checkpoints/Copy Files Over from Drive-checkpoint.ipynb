{
 "cells": [
  {
   "cell_type": "code",
   "execution_count": 44,
   "metadata": {},
   "outputs": [
    {
     "name": "stdout",
     "output_type": "stream",
     "text": [
      "C:\\Users\\mkreidler\\Desktop\\test_destination\\AJR\n",
      "C:\\Users\\mkreidler\\Desktop\\test_destination\\AJL\n",
      "C:\\Users\\mkreidler\\Desktop\\test_destination\\AF1\n",
      "C:\\Users\\mkreidler\\Desktop\\test_destination\\ATLB\n",
      "C:\\Users\\mkreidler\\Desktop\\test_destination\\COLUMN_2\n",
      "C:\\Users\\mkreidler\\Desktop\\test_destination\\LR3\n",
      "C:\\Users\\mkreidler\\Desktop\\test_destination\\COLUMN-2 ON TOP\n",
      "C:\\Users\\mkreidler\\Desktop\\test_destination\\CCL\n",
      "C:\\Users\\mkreidler\\Desktop\\test_destination\\ATL\n",
      "C:\\Users\\mkreidler\\Desktop\\test_destination\\JR\n",
      "C:\\Users\\mkreidler\\Desktop\\test_destination\\AH6\n",
      "C:\\Users\\mkreidler\\Desktop\\test_destination\\CC1\n",
      "C:\\Users\\mkreidler\\Desktop\\test_destination\\ADL\n",
      "C:\\Users\\mkreidler\\Desktop\\test_destination\\LR1\n",
      "C:\\Users\\mkreidler\\Desktop\\test_destination\\A4\n",
      "C:\\Users\\mkreidler\\Desktop\\test_destination\\Q\n",
      "C:\\Users\\mkreidler\\Desktop\\test_destination\\BL\n",
      "C:\\Users\\mkreidler\\Desktop\\test_destination\\P2\n",
      "C:\\Users\\mkreidler\\Desktop\\test_destination\\AH4\n",
      "C:\\Users\\mkreidler\\Desktop\\test_destination\\BR\n",
      "C:\\Users\\mkreidler\\Desktop\\test_destination\\AT2\n",
      "C:\\Users\\mkreidler\\Desktop\\test_destination\\AD1\n",
      "C:\\Users\\mkreidler\\Desktop\\test_destination\\AB2\n",
      "C:\\Users\\mkreidler\\Desktop\\test_destination\\TCR\n",
      "C:\\Users\\mkreidler\\Desktop\\test_destination\\AG3\n",
      "C:\\Users\\mkreidler\\Desktop\\test_destination\\ACL\n",
      "C:\\Users\\mkreidler\\Desktop\\test_destination\\PL1\n",
      "C:\\Users\\mkreidler\\Desktop\\test_destination\\B\n",
      "C:\\Users\\mkreidler\\Desktop\\test_destination\\CC\n",
      "C:\\Users\\mkreidler\\Desktop\\test_destination\\AFR\n",
      "C:\\Users\\mkreidler\\Desktop\\test_destination\\RC2\n",
      "C:\\Users\\mkreidler\\Desktop\\test_destination\\AGR\n",
      "C:\\Users\\mkreidler\\Desktop\\test_destination\\MR1\n",
      "C:\\Users\\mkreidler\\Desktop\\test_destination\\CAR\n",
      "C:\\Users\\mkreidler\\Desktop\\test_destination\\color sample\n",
      "C:\\Users\\mkreidler\\Desktop\\test_destination\\CA\n",
      "C:\\Users\\mkreidler\\Desktop\\test_destination\\ACB\n",
      "C:\\Users\\mkreidler\\Desktop\\test_destination\\R5\n"
     ]
    }
   ],
   "source": [
    "from tkinter import Tk\n",
    "import os\n",
    "\n",
    "def get_path():\n",
    "    Tk().withdraw() # we don't want a full GUI, so keep the root window from appearing\n",
    "    path = tkinter.filedialog.askdirectory() # show an \"Open\" dialog box and return the path to the selected file\n",
    "    #print(path)\n",
    "    return path\n",
    "\n",
    "def find_files(extensions, path):\n",
    "    files = []\n",
    "    dirs = set()\n",
    "    for dirpath, dirnames, filenames in os.walk(path):\n",
    "        for filename in filenames:\n",
    "            #print(filename)\n",
    "            ext = filename.split(\".\")[-1]\n",
    "            if ext in extensions:\n",
    "                full_path = dirpath + \"\\\\\" + filename\n",
    "                #print(full_path)\n",
    "                dirs.add(dirpath)\n",
    "                #print(dirpath)\n",
    "    for d in dirs:\n",
    "        folder = d.split(\"\\\\\")[-1]\n",
    "        new_dst = r\"C:\\Users\\mkreidler\\Desktop\\test_destination\"\n",
    "        new_dir = os.path.join(new_dst,folder)\n",
    "        os.mkdir(new_dir)\n",
    "        print(new_dir)\n",
    "                \n",
    "extensions = [\"3dm\", \"pdf\"]\n",
    "path = get_path()\n",
    "find_files(extensions, path)\n",
    "\n"
   ]
  },
  {
   "cell_type": "code",
   "execution_count": 36,
   "metadata": {},
   "outputs": [
    {
     "data": {
      "text/plain": [
       "'C:\\\\Users\\\\mkreidler\\\\Desktop\\\\test_destination\\\\Rhino_TCR.3dm'"
      ]
     },
     "execution_count": 36,
     "metadata": {},
     "output_type": "execute_result"
    }
   ],
   "source": [
    "from shutil import copyfile\n",
    "\n",
    "src = r\"F:\\222 Central Park South\\2018-02-27\\TCR\\Rhino_TCR.3dm\"\n",
    "folder = r\"C:\\Users\\mkreidler\\Desktop\\test_destination\"\n",
    "\n",
    "file = os.path.basename(src)\n",
    "\n",
    "dst = os.path.join(folder, file)\n",
    "\n",
    "\n",
    "\n",
    "copyfile(src, dst)"
   ]
  },
  {
   "cell_type": "code",
   "execution_count": 50,
   "metadata": {},
   "outputs": [
    {
     "data": {
      "text/plain": [
       "True"
      ]
     },
     "execution_count": 50,
     "metadata": {},
     "output_type": "execute_result"
    }
   ],
   "source": [
    "def process():\n",
    "    pass\n",
    "    #find finished folders\n",
    "    \n",
    "    #walk through path\n",
    "    \n",
    "    #mark folders that contain 3dm and pdf\n",
    "    \n",
    "    #mark folders that need to be finished \n",
    "    \n",
    "    #copy 3dm and pdf to new destination v:sample data/project/block\n",
    "    \n",
    "    #create a report detailing things copied and files to be finished\n",
    "    \n",
    "class Project:\n",
    "    def __init__(self, name):\n",
    "        self.name = name\n",
    "        self.blocks = []\n",
    "        \n",
    "class Block:\n",
    "    def __init__(self, name):\n",
    "        self.name = name\n",
    "        self.rhino_path = None\n",
    "        self.pdf_path = None\n",
    "        self.folder_path = None\n",
    "        \n",
    "    def check_done(self):\n",
    "        if self.rhino_path and self.pdf_path and self.folder_path:\n",
    "            return True\n",
    "        else:\n",
    "            return False\n",
    "        \n",
    "b = Block(\"b\")\n",
    "b.folder_path = \"here\"\n",
    "b.pdf_path = \"a\"\n",
    "b.rhino_path = \"b\"\n",
    "b.check_done()\n",
    "        \n",
    "        \n",
    "        \n",
    "    "
   ]
  },
  {
   "cell_type": "code",
   "execution_count": null,
   "metadata": {
    "collapsed": true
   },
   "outputs": [],
   "source": []
  }
 ],
 "metadata": {
  "kernelspec": {
   "display_name": "Python 3",
   "language": "python",
   "name": "python3"
  },
  "language_info": {
   "codemirror_mode": {
    "name": "ipython",
    "version": 3
   },
   "file_extension": ".py",
   "mimetype": "text/x-python",
   "name": "python",
   "nbconvert_exporter": "python",
   "pygments_lexer": "ipython3",
   "version": "3.6.1"
  }
 },
 "nbformat": 4,
 "nbformat_minor": 2
}
