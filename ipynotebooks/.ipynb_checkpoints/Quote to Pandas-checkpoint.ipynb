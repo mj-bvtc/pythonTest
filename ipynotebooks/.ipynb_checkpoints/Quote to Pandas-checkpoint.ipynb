{
 "cells": [
  {
   "cell_type": "code",
   "execution_count": 42,
   "metadata": {},
   "outputs": [
    {
     "data": {
      "text/plain": [
       "143"
      ]
     },
     "execution_count": 42,
     "metadata": {},
     "output_type": "execute_result"
    }
   ],
   "source": [
    "import pandas as pd\n",
    "import re\n",
    "\n",
    "# excel file to test\n",
    "path = r\"C:\\Users\\mkreidler\\Desktop\\Shell_House.xlsx\"\n",
    "\n",
    "# read excel data\n",
    "df = pd.read_excel(path)\n",
    "\n",
    "#cut down unecessary columns and rename\n",
    "df = df[[\"Block ID\", \"Description\", \"No. of Shop Dwgs.\", \"Form Method\", \"Qty of Units\"]]\n",
    "df.rename(columns={\"Block ID\":\"estimating_id\", \n",
    "                   \"Description\":\"block_description\", \n",
    "                   \"No. of Shop Dwgs.\":\"number_shops\", \n",
    "                   \"Form Method\":\"form_method\", \n",
    "                   \"Qty of Units\":\"block_quantity\"}, inplace=True)\n",
    "    \n",
    "\n",
    "#return index where block description equals section totals\n",
    "df.block_description.str.strip().tolist().index(\"Section Totals\")\n"
   ]
  },
  {
   "cell_type": "code",
   "execution_count": 40,
   "metadata": {},
   "outputs": [
    {
     "data": {
      "text/plain": [
       "139     True\n",
       "140     True\n",
       "141     True\n",
       "142     True\n",
       "143    False\n",
       "Name: block_description, dtype: bool"
      ]
     },
     "execution_count": 40,
     "metadata": {},
     "output_type": "execute_result"
    }
   ],
   "source": [
    "# show whether row contains Section Totals\n",
    "totals_test = df.block_description.str.strip() != \"Section Totals\"\n",
    "\n",
    "# show slice of the last 5 results from above test\n",
    "totals_test[-5:]"
   ]
  },
  {
   "cell_type": "code",
   "execution_count": 41,
   "metadata": {},
   "outputs": [
    {
     "data": {
      "text/html": [
       "<div>\n",
       "<style scoped>\n",
       "    .dataframe tbody tr th:only-of-type {\n",
       "        vertical-align: middle;\n",
       "    }\n",
       "\n",
       "    .dataframe tbody tr th {\n",
       "        vertical-align: top;\n",
       "    }\n",
       "\n",
       "    .dataframe thead th {\n",
       "        text-align: right;\n",
       "    }\n",
       "</style>\n",
       "<table border=\"1\" class=\"dataframe\">\n",
       "  <thead>\n",
       "    <tr style=\"text-align: right;\">\n",
       "      <th></th>\n",
       "      <th>estimating_id</th>\n",
       "      <th>block_description</th>\n",
       "      <th>number_shops</th>\n",
       "      <th>form_method</th>\n",
       "      <th>block_quantity</th>\n",
       "    </tr>\n",
       "  </thead>\n",
       "  <tbody>\n",
       "    <tr>\n",
       "      <th>138</th>\n",
       "      <td>WT2</td>\n",
       "      <td>Watertable</td>\n",
       "      <td>1.0</td>\n",
       "      <td>EXT</td>\n",
       "      <td>70</td>\n",
       "    </tr>\n",
       "    <tr>\n",
       "      <th>139</th>\n",
       "      <td>WT3</td>\n",
       "      <td>Watertable @ level 9</td>\n",
       "      <td>1.0</td>\n",
       "      <td>HP</td>\n",
       "      <td>6</td>\n",
       "    </tr>\n",
       "    <tr>\n",
       "      <th>140</th>\n",
       "      <td>WT3R</td>\n",
       "      <td>Watertable @ level 9</td>\n",
       "      <td>1.0</td>\n",
       "      <td>HP</td>\n",
       "      <td>4</td>\n",
       "    </tr>\n",
       "    <tr>\n",
       "      <th>141</th>\n",
       "      <td>WTL</td>\n",
       "      <td>Watertable</td>\n",
       "      <td>1.0</td>\n",
       "      <td>HP</td>\n",
       "      <td>1</td>\n",
       "    </tr>\n",
       "    <tr>\n",
       "      <th>142</th>\n",
       "      <td>WTR</td>\n",
       "      <td>Watertable</td>\n",
       "      <td>1.0</td>\n",
       "      <td>HP</td>\n",
       "      <td>1</td>\n",
       "    </tr>\n",
       "  </tbody>\n",
       "</table>\n",
       "</div>"
      ],
      "text/plain": [
       "    estimating_id     block_description  number_shops form_method  \\\n",
       "138           WT2            Watertable           1.0         EXT   \n",
       "139           WT3  Watertable @ level 9           1.0          HP   \n",
       "140          WT3R  Watertable @ level 9           1.0          HP   \n",
       "141           WTL            Watertable           1.0          HP   \n",
       "142           WTR            Watertable           1.0          HP   \n",
       "\n",
       "     block_quantity  \n",
       "138              70  \n",
       "139               6  \n",
       "140               4  \n",
       "141               1  \n",
       "142               1  "
      ]
     },
     "execution_count": 41,
     "metadata": {},
     "output_type": "execute_result"
    }
   ],
   "source": [
    "# create a dataframe where block_description is not equal to totals\n",
    "df = df[df.block_description.str.strip() != \"Section Totals\"]\n",
    "\n",
    "# show the last 5 entries in df\n",
    "df.tail()"
   ]
  },
  {
   "cell_type": "markdown",
   "metadata": {},
   "source": []
  },
  {
   "cell_type": "markdown",
   "metadata": {},
   "source": [
    "\n"
   ]
  },
  {
   "cell_type": "code",
   "execution_count": 5,
   "metadata": {},
   "outputs": [
    {
     "name": "stdout",
     "output_type": "stream",
     "text": [
      "<class '_io.TextIOWrapper'>\n",
      "Saved barcode report here: <_io.TextIOWrapper name='C:/Users/mkreidler/Desktop/New pdf exports/dagasd.xls' mode='w' encoding='cp1252'>\n"
     ]
    }
   ],
   "source": [
    "import tkinter as tk\n",
    "from tkinter.filedialog import askdirectory\n",
    "from tkinter.filedialog import asksaveasfile\n",
    "import pandas as pd   \n",
    "    \n",
    "dial = tk.Tk()\n",
    "dial.withdraw()\n",
    "target=asksaveasfile(defaultextension=\".xls\")\n",
    "\n",
    "print(type(target))\n",
    "print(f\"Saved barcode report here: {target}\")"
   ]
  }
 ],
 "metadata": {
  "kernelspec": {
   "display_name": "Python 3",
   "language": "python",
   "name": "python3"
  },
  "language_info": {
   "codemirror_mode": {
    "name": "ipython",
    "version": 3
   },
   "file_extension": ".py",
   "mimetype": "text/x-python",
   "name": "python",
   "nbconvert_exporter": "python",
   "pygments_lexer": "ipython3",
   "version": "3.6.5"
  }
 },
 "nbformat": 4,
 "nbformat_minor": 2
}
