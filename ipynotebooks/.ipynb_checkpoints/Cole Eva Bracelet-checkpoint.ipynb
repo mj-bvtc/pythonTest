{
 "cells": [
  {
   "cell_type": "code",
   "execution_count": 11,
   "metadata": {},
   "outputs": [
    {
     "name": "stdout",
     "output_type": "stream",
     "text": [
      "180.8\n",
      "211.60000000000002\n",
      "242.40000000000003\n",
      "273.20000000000005\n"
     ]
    },
    {
     "data": {
      "image/png": "[encoded data removed]",
      "text/plain": [
       "<matplotlib.figure.Figure at 0x7fcf59aea748>"
      ]
     },
     "metadata": {},
     "output_type": "display_data"
    }
   ],
   "source": [
    "import numpy as np\n",
    "import pandas as pd\n",
    "import matplotlib.pyplot as plt\n",
    "\n",
    "website = r\"https://www.avawomen.com/order/\"\n",
    "price = 249\n",
    "\n",
    "cole_savings = 85\n",
    "matt_save = 65\n",
    "money = [cole_savings, matt_save]\n",
    "\n",
    "monthly_budget_extra = 15.4*2\n",
    "\n",
    "def savings(months):\n",
    "    save = sum(money)\n",
    "    save += monthly_budget_extra*months\n",
    "    return save\n",
    "\n",
    "x = [m for m in range(12)]\n",
    "y = [savings(x) for x in x]\n",
    "\n",
    "amt = sum(money)\n",
    "months = 0\n",
    "while amt < 250:\n",
    "    months += 1\n",
    "    amt += monthly_budget_extra \n",
    "    print(amt)\n",
    "\n",
    "\n",
    "plt.plot(x,y)\n",
    "plt.axhline(y=250, color='r', linestyle='-')\n",
    "\n",
    "plt.show()\n",
    "    \n",
    "\n"
   ]
  },
  {
   "cell_type": "code",
   "execution_count": null,
   "metadata": {
    "collapsed": true
   },
   "outputs": [],
   "source": []
  }
 ],
 "metadata": {
  "kernelspec": {
   "display_name": "Python 3",
   "language": "python",
   "name": "python3"
  },
  "language_info": {
   "codemirror_mode": {
    "name": "ipython",
    "version": 3
   },
   "file_extension": ".py",
   "mimetype": "text/x-python",
   "name": "python",
   "nbconvert_exporter": "python",
   "pygments_lexer": "ipython3",
   "version": "3.6.1"
  }
 },
 "nbformat": 4,
 "nbformat_minor": 2
}
