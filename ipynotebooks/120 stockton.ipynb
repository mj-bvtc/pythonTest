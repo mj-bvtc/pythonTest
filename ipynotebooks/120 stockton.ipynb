{
 "cells": [
  {
   "cell_type": "code",
   "execution_count": 21,
   "metadata": {},
   "outputs": [
    {
     "data": {
      "text/plain": [
       "['benson_pmu1',\n",
       " 'benson_vmu1',\n",
       " 'bvtc',\n",
       " 'pmu1_qty',\n",
       " 'pmu1_x',\n",
       " 'pmu1_y',\n",
       " 'pmu3',\n",
       " 'total',\n",
       " 'vmu1',\n",
       " 'vmu1_qty',\n",
       " 'vmu3',\n",
       " 'wt1',\n",
       " 'wt3']"
      ]
     },
     "execution_count": 21,
     "metadata": {},
     "output_type": "execute_result"
    }
   ],
   "source": [
    "import pandas as pd\n",
    "\n",
    "file = r\"V:\\Projects\\120 Stockton\\Documents\\VMU-PMU Files\\Quantity Tracker.xlsx\"\n",
    "file2 = r\"C:\\Users\\mkreidler\\Desktop\\pmu1.xlsx\"\n",
    "save = r\"V:\\Projects\\120 Stockton\\Documents\\VMU-PMU Files\\Quantity Tracker 2.xlsx\"\n",
    "vm = pd.read_excel(file)\n",
    "pm = pd.read_excel(file2)\n",
    "\n",
    "merge = vm.merge(pm, on=\"bvtc\", how=\"outer\")\n",
    "merge.vmu1_qty = merge.vmu1_qty.fillna(0)\n",
    "merge.pmu1_qty = merge.pmu1_qty.fillna(0)\n",
    "merge[\"total\"] = merge.vmu1_qty + merge.pmu1_qty\n",
    "\n",
    "sorted(list(merge))\n",
    "\n",
    "#merge.to_excel(save)"
   ]
  },
  {
   "cell_type": "code",
   "execution_count": null,
   "metadata": {},
   "outputs": [],
   "source": []
  }
 ],
 "metadata": {
  "kernelspec": {
   "display_name": "Python 3",
   "language": "python",
   "name": "python3"
  },
  "language_info": {
   "codemirror_mode": {
    "name": "ipython",
    "version": 3
   },
   "file_extension": ".py",
   "mimetype": "text/x-python",
   "name": "python",
   "nbconvert_exporter": "python",
   "pygments_lexer": "ipython3",
   "version": "3.6.8"
  }
 },
 "nbformat": 4,
 "nbformat_minor": 2
}
