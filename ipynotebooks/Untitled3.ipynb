{
 "cells": [
  {
   "cell_type": "code",
   "execution_count": 17,
   "metadata": {},
   "outputs": [],
   "source": [
    "import subprocess\n",
    "\n",
    "program = \"GoProVRPlayer_x64.exe \"\n",
    "\n",
    "file = r\"V:\\Field Survey\\Moynihan Station PH III\\Deliverables\\Video Documentation\\360\\360_0087_Stitch_XHC.JPG\"\n",
    "\n",
    "\n",
    "import os\n",
    "def openFile():\n",
    "    fileName = file\n",
    "    os.system(program + fileName)\n",
    "    \n",
    "openFile()"
   ]
  },
  {
   "cell_type": "code",
   "execution_count": null,
   "metadata": {},
   "outputs": [],
   "source": []
  }
 ],
 "metadata": {
  "kernelspec": {
   "display_name": "Python 3",
   "language": "python",
   "name": "python3"
  },
  "language_info": {
   "codemirror_mode": {
    "name": "ipython",
    "version": 3
   },
   "file_extension": ".py",
   "mimetype": "text/x-python",
   "name": "python",
   "nbconvert_exporter": "python",
   "pygments_lexer": "ipython3",
   "version": "3.6.5"
  }
 },
 "nbformat": 4,
 "nbformat_minor": 2
}
