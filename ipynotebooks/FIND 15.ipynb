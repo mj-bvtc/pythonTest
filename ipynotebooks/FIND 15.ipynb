{
 "cells": [
  {
   "cell_type": "code",
   "execution_count": 65,
   "metadata": {},
   "outputs": [],
   "source": [
    "import pandas as pd\n",
    "import re\n",
    "\n",
    "ct = r\"C:\\Users\\mkreidler\\Desktop\\35 w reconciliation\\ctrac_all.xlsx\"\n",
    "rh = r\"C:\\Users\\mkreidler\\Desktop\\35 w reconciliation\\rhino_expanded.xlsx\"\n",
    "\n",
    "rhino = pd.read_excel(rh)\n",
    "ctrac =  pd.read_excel(ct)\n",
    "\n",
    "rhino[\"cum_count\"] = rhino.groupby(\"name\").cumcount() + 1 \n",
    "\n",
    "ctrac[\"cum_count\"] = ctrac.groupby(\"Block ID\").cumcount() + 1 \n",
    "\n",
    "\n",
    "rhino[\"cc\"] = rhino.name + \"#\" + rhino.cum_count.map(str)\n",
    "ctrac[\"cc\"] = ctrac[\"Block ID\"] + \"#\" + ctrac.cum_count.map(str)\n",
    "\n",
    "merge = rhino.merge(ctrac, on=\"cc\", how=\"outer\")\n",
    "\n",
    "merge.to_excel(r\"C:\\Users\\mkreidler\\Desktop\\35 w reconciliation\\merge2.xlsx\")"
   ]
  },
  {
   "cell_type": "code",
   "execution_count": 66,
   "metadata": {},
   "outputs": [],
   "source": [
    "pd.options.mode.chained_assignment = None  # default='warn'\n",
    "#import numpy as np\n",
    "\n",
    "out = merge[[\"name\", \"Block ID\", \"cc\" ]]\n",
    "\n",
    "def find_na(a, b):\n",
    "    if (( str(a) == \"nan\") or (str(b) == \"nan\")):\n",
    "    #if ( np.isnan(a) or np.isnan(b)):\n",
    "    #if ((merge[a].isna()) or (merge[b].isna())):\n",
    "        return True\n",
    "\n",
    "out[\"test\"] = out.apply(lambda x: find_na(x[\"name\"], x[\"Block ID\"]), axis=1)\n",
    "\n",
    "out[out.test.isna() == False].to_excel(r\"C:\\Users\\mkreidler\\Desktop\\outer2.xlsx\")"
   ]
  },
  {
   "cell_type": "code",
   "execution_count": null,
   "metadata": {},
   "outputs": [],
   "source": []
  },
  {
   "cell_type": "code",
   "execution_count": null,
   "metadata": {},
   "outputs": [],
   "source": []
  },
  {
   "cell_type": "code",
   "execution_count": null,
   "metadata": {},
   "outputs": [],
   "source": []
  }
 ],
 "metadata": {
  "kernelspec": {
   "display_name": "Python 3",
   "language": "python",
   "name": "python3"
  },
  "language_info": {
   "codemirror_mode": {
    "name": "ipython",
    "version": 3
   },
   "file_extension": ".py",
   "mimetype": "text/x-python",
   "name": "python",
   "nbconvert_exporter": "python",
   "pygments_lexer": "ipython3",
   "version": "3.6.5"
  }
 },
 "nbformat": 4,
 "nbformat_minor": 2
}
