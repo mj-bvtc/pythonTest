{
 "cells": [
  {
   "cell_type": "code",
   "execution_count": 45,
   "metadata": {},
   "outputs": [
    {
     "data": {
      "text/plain": [
       "True"
      ]
     },
     "execution_count": 45,
     "metadata": {},
     "output_type": "execute_result"
    }
   ],
   "source": [
    "import glob\n",
    "import os\n",
    "\n",
    "path = r\"Z:\\Shell House Building\\2018-07-18\\TO PROCESS\"\n",
    "ext = \".3dm\"\n",
    "\n",
    "folders = set()\n",
    "all_dirs = set()\n",
    "exclude = []\n",
    "\n",
    "test = r\"C:\\Users\\mkreidler\\Desktop\\pdf exports\"\n",
    "\n",
    "\n",
    "def has_pic(folder):\n",
    "    result = False\n",
    "    if os.path.isdir(folder):\n",
    "        pass\n",
    "    \n",
    "    else:\n",
    "        return result\n",
    "    \n",
    "    extensions = [\".jpg\", \".png\", \".jpeg\", \".tiff\"]\n",
    "    \n",
    "    for ex in extensions:\n",
    "        if result == True:\n",
    "            break\n",
    "        #print(ex)\n",
    "        for f in os.listdir(folder):\n",
    "            #print(f)\n",
    "            if f.endswith(ex):\n",
    "                result = True\n",
    "                break\n",
    "                \n",
    "                \n",
    "    return result\n",
    "        \n",
    "    \n",
    "\n",
    "has_pic(test)\n",
    "            \n"
   ]
  },
  {
   "cell_type": "code",
   "execution_count": 38,
   "metadata": {},
   "outputs": [
    {
     "name": "stdout",
     "output_type": "stream",
     "text": [
      "{'83', '129', '288', '196', '217', 'model.1', '90', '161', '254', '155', '57', '255', '109', '195', '205', '211', '182', '210', 'point_cloud', '180', '149', '65', '56', '241', '151', '263', '183', '142', '139', '156', '246', '280', '131', 'WAG101 BETWEEN COLUMNS', '114', '17', '221', '100', '244', '171', '172', '184', '23', '127', '226', '190', '47', '164', '264', '194', '188', '21', '69', '130', '108', '286', '62', '236', '225', '31', '160', '133', '153', '185', '53', '178', '5', '207', '110', '279', '80', '9', '239', '37', '61', '132', '270', '247', '146', '91', '125', '45', '208', '265', '216', '112', '38', '94', '24', '8', '240', '234', '30', '291', '170', '147', '275', '84', '76', '128', '237', '200', '269', '137', '228', '284', '63', '253', '68', '282', '167', '287', '81', '86', '162', '134', '209', '0', '136', '290', '121', '42', '51', '14', '74', '141', '259', '177', '154', '179', '93', '169', '77', '55', '261', '1', '175', '148', '245', '54', '59', '113', '144', '283', '251', '33', '233', '18', '106', '227', '7', '271', '218', '107', '193', '89', '198', '66', '204', '266', '15', '242', '186', '78', '36', '243', '73', '75', '187', '3', '52', '257', '_NOTES', '199', 'W-DU58', '166', '276', '71', '158', '111', '85', '157', 'W-DH91', '41', '140', '43', '206', '48', '88', 'model', '103', '124', '119', '102', '46', '277', 'SHELL HOUSE.files', '67', '220', '104', '235', '249', '32', '101', '138', '173', '72', '2', '70', '123', '87', '278', '20', '197', '64', '214', '219', '165', '203', '163', '189', '252', '105', '126', '256', '40', 'WAF05', '95', '289', '272', '273', '229', '174', '285', '60', '267', '212', 'WAG101 10 FEET', '201', '191', '202', '82', '274', '49', '258', '135', '176', '262', '143', '118', '248', '58', '250', '79', '117', '6', '224', '152', '150', 'depth_maps', '35', '215', '238', '44', '115', '34', '122', '145', '281', '96', 'thumbnails', '92', '168', '231', '4', '192', '99', '260', '120', '181', '19', '39', '222', '98', '13', 'dense_cloud', '268', '22', '159', '116', '50', '232', '230', '213', '223'}\n"
     ]
    }
   ],
   "source": [
    "for root, dirs, files in os.walk(path, topdown=True):\n",
    "    for file in files:\n",
    "        if file.endswith(ext):\n",
    "            folder = os.path.split(root)[-1]\n",
    "            folders.add(folder)\n",
    "            #print(folder)\n",
    "    dirs[:] = [d for d in dirs if d not in exclude]\n",
    "    for d in dirs:\n",
    "        all_dirs.add(d)\n",
    "        \n",
    "print(all_dirs - folders)"
   ]
  },
  {
   "cell_type": "code",
   "execution_count": 42,
   "metadata": {},
   "outputs": [
    {
     "name": "stdout",
     "output_type": "stream",
     "text": [
      "0\n",
      "1\n",
      "2\n",
      "3\n",
      "4\n",
      "5\n",
      "6\n",
      "7\n",
      "8\n",
      "9\n",
      "10\n",
      "11\n",
      "12\n",
      "13\n",
      "14\n",
      "15\n",
      "16\n",
      "17\n",
      "18\n",
      "19\n",
      "20\n"
     ]
    }
   ],
   "source": [
    "for i in range(300):\n",
    "    print(i)\n",
    "    \n",
    "    if i == 20:\n",
    "        break"
   ]
  },
  {
   "cell_type": "code",
   "execution_count": 43,
   "metadata": {},
   "outputs": [
    {
     "data": {
      "text/plain": [
       "True"
      ]
     },
     "execution_count": 43,
     "metadata": {},
     "output_type": "execute_result"
    }
   ],
   "source": [
    "\"asldfhasdf.pdf\".endswith(\".pdf\")"
   ]
  }
 ],
 "metadata": {
  "kernelspec": {
   "display_name": "Python 3",
   "language": "python",
   "name": "python3"
  },
  "language_info": {
   "codemirror_mode": {
    "name": "ipython",
    "version": 3
   },
   "file_extension": ".py",
   "mimetype": "text/x-python",
   "name": "python",
   "nbconvert_exporter": "python",
   "pygments_lexer": "ipython3",
   "version": "3.6.5"
  }
 },
 "nbformat": 4,
 "nbformat_minor": 2
}
