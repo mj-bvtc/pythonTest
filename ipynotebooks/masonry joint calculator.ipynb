{
 "cells": [
  {
   "cell_type": "code",
   "execution_count": 28,
   "metadata": {},
   "outputs": [
    {
     "name": "stdout",
     "output_type": "stream",
     "text": [
      "Area 278\n",
      "Joints will be 1/4\", which is -1/8\" off of standard 3/8\" joint\n",
      "\n"
     ]
    }
   ],
   "source": [
    "import fractions \n",
    "\n",
    "def my_round(x, base=1/16):\n",
    "    \"\"\"Takes some floating point number\n",
    "        and rounds to closest base\"\"\"\n",
    "    return base * round(x / base)\n",
    "\n",
    "def joints(mo, lengths, num_joints):\n",
    "    tight = sum(lengths)\n",
    "    delta = mo - tight\n",
    "    joint_decimal = my_round(delta/num_joints)\n",
    "    joint = fractions.Fraction(my_round(delta/num_joints))\n",
    "    numerator = joint.numerator\n",
    "    denominator = joint.denominator\n",
    "    delta_standard = fractions.Fraction(joint_decimal - .375)\n",
    "    delta_num = delta_standard.numerator\n",
    "    delta_den = delta_standard.denominator\n",
    "    delta_fraction = f\"{delta_num}/{delta_den}\"\n",
    "    return f\"Joints will be {numerator}/{denominator}\\\", which is {delta_fraction}\\\" off of standard 3/8\\\" joint\"\n",
    "\n",
    "\n",
    "# area 278\n",
    "print(\"Area 278\")\n",
    "print(joints(42, [20.875,20.875], 1))  \n",
    "print()\n",
    "    \n",
    "    "
   ]
  },
  {
   "cell_type": "code",
   "execution_count": 29,
   "metadata": {},
   "outputs": [
    {
     "name": "stdout",
     "output_type": "stream",
     "text": [
      "Joints will be 1/4\", which is -1/8\" off of standard 3/8\" joint\n"
     ]
    }
   ],
   "source": [
    "# Joints at Cobra course\n",
    "print(joints(54.375, [6,11,19.5,11,6], 4))  \n"
   ]
  },
  {
   "cell_type": "code",
   "execution_count": 30,
   "metadata": {},
   "outputs": [
    {
     "name": "stdout",
     "output_type": "stream",
     "text": [
      "Joints will be 1/4\", which is -1/8\" off of standard 3/8\" joint\n"
     ]
    }
   ],
   "source": [
    "# Joints at ashlar course\n",
    "print(joints(54.5, [6,20.875,20.875,6], 3))  \n"
   ]
  },
  {
   "cell_type": "code",
   "execution_count": 31,
   "metadata": {},
   "outputs": [
    {
     "name": "stdout",
     "output_type": "stream",
     "text": [
      "Joints will be 5/16\", which is -1/16\" off of standard 3/8\" joint\n"
     ]
    }
   ],
   "source": [
    "# Joints at MO height\n",
    "print(joints(25, [12, 12.125], 3))  \n"
   ]
  },
  {
   "cell_type": "code",
   "execution_count": 32,
   "metadata": {},
   "outputs": [
    {
     "data": {
      "text/plain": [
       "Fraction(13, 16)"
      ]
     },
     "execution_count": 32,
     "metadata": {},
     "output_type": "execute_result"
    }
   ],
   "source": [
    "fractions.Fraction(.8125)"
   ]
  },
  {
   "cell_type": "code",
   "execution_count": null,
   "metadata": {},
   "outputs": [],
   "source": []
  }
 ],
 "metadata": {
  "kernelspec": {
   "display_name": "Python 3",
   "language": "python",
   "name": "python3"
  },
  "language_info": {
   "codemirror_mode": {
    "name": "ipython",
    "version": 3
   },
   "file_extension": ".py",
   "mimetype": "text/x-python",
   "name": "python",
   "nbconvert_exporter": "python",
   "pygments_lexer": "ipython3",
   "version": "3.6.8"
  }
 },
 "nbformat": 4,
 "nbformat_minor": 2
}
