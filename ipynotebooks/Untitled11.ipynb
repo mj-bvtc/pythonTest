{
 "cells": [
  {
   "cell_type": "code",
   "execution_count": 7,
   "metadata": {},
   "outputs": [
    {
     "name": "stdout",
     "output_type": "stream",
     "text": [
      "24.0 12.0 4.0\n"
     ]
    },
    {
     "data": {
      "text/html": [
       "<div>\n",
       "<style scoped>\n",
       "    .dataframe tbody tr th:only-of-type {\n",
       "        vertical-align: middle;\n",
       "    }\n",
       "\n",
       "    .dataframe tbody tr th {\n",
       "        vertical-align: top;\n",
       "    }\n",
       "\n",
       "    .dataframe thead th {\n",
       "        text-align: right;\n",
       "    }\n",
       "</style>\n",
       "<table border=\"1\" class=\"dataframe\">\n",
       "  <thead>\n",
       "    <tr style=\"text-align: right;\">\n",
       "      <th></th>\n",
       "      <th>description</th>\n",
       "      <th>name</th>\n",
       "      <th>length</th>\n",
       "      <th>height</th>\n",
       "      <th>depth</th>\n",
       "    </tr>\n",
       "  </thead>\n",
       "  <tbody>\n",
       "    <tr>\n",
       "      <th>132</th>\n",
       "      <td>Ashlar</td>\n",
       "      <td>An</td>\n",
       "      <td>24.0</td>\n",
       "      <td>12.0</td>\n",
       "      <td>4.0</td>\n",
       "    </tr>\n",
       "    <tr>\n",
       "      <th>133</th>\n",
       "      <td>Ashlar</td>\n",
       "      <td>AnA</td>\n",
       "      <td>24.0</td>\n",
       "      <td>12.0</td>\n",
       "      <td>4.0</td>\n",
       "    </tr>\n",
       "  </tbody>\n",
       "</table>\n",
       "</div>"
      ],
      "text/plain": [
       "    description name  length  height  depth\n",
       "132      Ashlar   An    24.0    12.0    4.0\n",
       "133      Ashlar  AnA    24.0    12.0    4.0"
      ]
     },
     "execution_count": 7,
     "metadata": {},
     "output_type": "execute_result"
    }
   ],
   "source": [
    "import pandas as pd\n",
    "\n",
    "\n",
    "\n",
    "\n",
    "def find_all(style, rnd):\n",
    "\n",
    "    file = r\"V:\\Projects\\35 East Wacker\\Field Work\\BVTC Survey #2\\35 Wacker -- Measurement DB.xlsx\"\n",
    "\n",
    "    df = pd.read_excel(file, sheet_name= \"Main\")\n",
    "\n",
    "    cols = [\"description\", \"name\", \"length\", \"height\", \"depth\"]\n",
    "\n",
    "    \n",
    "    def my_round(x, rnd=rnd):\n",
    "        \"\"\"Takes some floating point number\n",
    "            and rounds to closest base\"\"\"\n",
    "        return rnd * round(x / rnd)\n",
    "\n",
    "    m = df.loc[df.description == style, cols]\n",
    "\n",
    "    m.length = m.length.apply(my_round)\n",
    "    m.height = m.height.apply(my_round)\n",
    "    m.depth = m.depth.apply(my_round)\n",
    "    \n",
    "    m = m.sort_values([\"length\", \"height\", \"depth\"])\n",
    "    \n",
    "    return m\n",
    "\n",
    "\n",
    "#find_all(\"Ashlar\", 1/8)\n",
    "    \n",
    "\n",
    "def find_match(style, rnd, L, H, D):\n",
    "    def my_round(x, rnd=rnd):\n",
    "        \"\"\"Takes some floating point number\n",
    "            and rounds to closest base\"\"\"\n",
    "        return rnd * round(x / rnd)\n",
    "    \n",
    "    L = my_round(L, rnd)\n",
    "    H = my_round(H, rnd)\n",
    "    D = my_round(D, rnd)\n",
    "    \n",
    "    print(L,H,D)\n",
    "    \n",
    "    \n",
    "    df = find_all(style, rnd)\n",
    "    df = df.loc[df.length == L, :]\n",
    "    df = df.loc[df.height == H, :]\n",
    "    df = df.loc[df.depth == D, :]\n",
    "    return df\n",
    "\n",
    "find_match(style = \"Ashlar\", \n",
    "           rnd = .25, \n",
    "           L = 24, \n",
    "           H = 12, \n",
    "           D = 4)"
   ]
  },
  {
   "cell_type": "code",
   "execution_count": null,
   "metadata": {},
   "outputs": [],
   "source": []
  }
 ],
 "metadata": {
  "kernelspec": {
   "display_name": "Python 3",
   "language": "python",
   "name": "python3"
  },
  "language_info": {
   "codemirror_mode": {
    "name": "ipython",
    "version": 3
   },
   "file_extension": ".py",
   "mimetype": "text/x-python",
   "name": "python",
   "nbconvert_exporter": "python",
   "pygments_lexer": "ipython3",
   "version": "3.6.8"
  }
 },
 "nbformat": 4,
 "nbformat_minor": 2
}
