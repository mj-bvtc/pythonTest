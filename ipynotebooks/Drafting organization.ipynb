{
 "cells": [
  {
   "cell_type": "code",
   "execution_count": 28,
   "metadata": {},
   "outputs": [
    {
     "name": "stdout",
     "output_type": "stream",
     "text": [
      "1012\n",
      "126.5\n",
      "25.3\n",
      "6.325\n"
     ]
    }
   ],
   "source": [
    "import pandas as pd \n",
    "import numpy as np\n",
    "import matplotlib.pyplot as plt\n",
    "import re\n",
    "\n",
    "file = r\"C:\\Users\\mkreidler\\Desktop\\wolford archive\\Drafting (1).xlsx\"\n",
    "df = pd.read_excel(file)\n",
    "\n",
    "#df[\"Activation Date\"].dropna()[0]\n",
    "\n",
    "\n",
    "job = \"Shell\"\n",
    "dwgs = 200\n",
    "setting = 4\n",
    "drafters = 1\n",
    "\n",
    "\n",
    "class Project():\n",
    "    def __init__(self, name=\"Insert Project Name\", dwgs=0, settings=0, resources=1):\n",
    "        self.name = name\n",
    "        self.dwgs = dwgs\n",
    "        self.settings = settings\n",
    "        self.resources = resources\n",
    "        self.workday = 8\n",
    "        self.dwg_difficulty = 1\n",
    "        \n",
    "        \n",
    "    def calc_hours(self):\n",
    "        hours = self.dwgs * 4 * self.dwg_difficulty + self.settings * 8\n",
    "        return hours\n",
    "    \n",
    "    def calc_workdays (self):\n",
    "        return self.calc_hours()/self.workday\n",
    "    \n",
    "    def calc_weeks(self):\n",
    "        return self.calc_workdays()/5\n",
    "    \n",
    "    def calc_months(self):\n",
    "        return self.calc_workdays()/20\n",
    "    \n",
    "\n",
    "    \n",
    "    def duration(self):\n",
    "        return self.calc_hours()\n",
    "    \n",
    "    \n",
    "p = Project(\"Shell\", 253, 0, 1)\n",
    "\n",
    "print(p.calc_hours())\n",
    "print(p.calc_workdays())\n",
    "\n",
    "print(p.calc_weeks())\n",
    "\n",
    "print(p.calc_months())"
   ]
  },
  {
   "cell_type": "code",
   "execution_count": null,
   "metadata": {},
   "outputs": [],
   "source": [
    "class Drafter():\n",
    "    def __init__(self):\n",
    "        self.name = \"name\"\n",
    "        self.rate = 2\n",
    "        self.hours = 8\n",
    "        "
   ]
  },
  {
   "cell_type": "code",
   "execution_count": null,
   "metadata": {},
   "outputs": [],
   "source": [
    "class Assignment():\n",
    "    def __init__(self, task, resource):\n",
    "        self.task = None\n",
    "        self.resources = resources\n",
    "        self.mode = None\n",
    "        self.modes = [\"Simple 1 to 1\",\n",
    "                     \"Handoff\",\n",
    "                     \"Parallel\", \n",
    "                      \"Percentage\"]\n",
    "        \n",
    "        \n",
    "    def select_mode(self):\n",
    "        pass\n",
    "    \n",
    "\n",
    "        \n",
    "        \n",
    "        \n",
    "    "
   ]
  },
  {
   "cell_type": "code",
   "execution_count": 31,
   "metadata": {},
   "outputs": [
    {
     "data": {
      "text/plain": [
       "750"
      ]
     },
     "execution_count": 31,
     "metadata": {},
     "output_type": "execute_result"
    }
   ],
   "source": [
    "task = 1000\n",
    "mk = 40\n",
    "\n",
    "def to_completion(task, person):\n",
    "    return task/person\n",
    "\n",
    "def handoff(task, person, amount):\n",
    "    return task - amount\n",
    "    \n",
    "    \n",
    "handoff(task, mk, 250)"
   ]
  },
  {
   "cell_type": "code",
   "execution_count": null,
   "metadata": {},
   "outputs": [],
   "source": []
  }
 ],
 "metadata": {
  "kernelspec": {
   "display_name": "Python 3",
   "language": "python",
   "name": "python3"
  },
  "language_info": {
   "codemirror_mode": {
    "name": "ipython",
    "version": 3
   },
   "file_extension": ".py",
   "mimetype": "text/x-python",
   "name": "python",
   "nbconvert_exporter": "python",
   "pygments_lexer": "ipython3",
   "version": "3.6.5"
  }
 },
 "nbformat": 4,
 "nbformat_minor": 2
}
