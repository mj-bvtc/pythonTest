{
 "cells": [
  {
   "cell_type": "code",
   "execution_count": 78,
   "metadata": {},
   "outputs": [
    {
     "data": {
      "text/html": [
       "<div>\n",
       "<style>\n",
       "    .dataframe thead tr:only-child th {\n",
       "        text-align: right;\n",
       "    }\n",
       "\n",
       "    .dataframe thead th {\n",
       "        text-align: left;\n",
       "    }\n",
       "\n",
       "    .dataframe tbody tr th {\n",
       "        vertical-align: top;\n",
       "    }\n",
       "</style>\n",
       "<table border=\"1\" class=\"dataframe\">\n",
       "  <thead>\n",
       "    <tr style=\"text-align: right;\">\n",
       "      <th></th>\n",
       "      <th>est_style</th>\n",
       "      <th>desc</th>\n",
       "      <th>qty</th>\n",
       "      <th>ctrac_style</th>\n",
       "    </tr>\n",
       "  </thead>\n",
       "  <tbody>\n",
       "    <tr>\n",
       "      <th>0</th>\n",
       "      <td>CT</td>\n",
       "      <td>Cornice Top</td>\n",
       "      <td>58</td>\n",
       "      <td>WT2</td>\n",
       "    </tr>\n",
       "    <tr>\n",
       "      <th>1</th>\n",
       "      <td>CB</td>\n",
       "      <td>Cornice Bottom</td>\n",
       "      <td>2</td>\n",
       "      <td>WT3</td>\n",
       "    </tr>\n",
       "    <tr>\n",
       "      <th>2</th>\n",
       "      <td>CT-C</td>\n",
       "      <td>Cornice Top Corner</td>\n",
       "      <td>4</td>\n",
       "      <td>WT4</td>\n",
       "    </tr>\n",
       "  </tbody>\n",
       "</table>\n",
       "</div>"
      ],
      "text/plain": [
       "  est_style                desc  qty ctrac_style\n",
       "0        CT         Cornice Top   58         WT2\n",
       "1        CB      Cornice Bottom    2         WT3\n",
       "2      CT-C  Cornice Top Corner    4         WT4"
      ]
     },
     "execution_count": 78,
     "metadata": {},
     "output_type": "execute_result"
    }
   ],
   "source": [
    "import uuid\n",
    "import datetime\n",
    "import os\n",
    "import platform\n",
    "import datetime\n",
    "import time\n",
    "import pandas as pd\n",
    "\n",
    "def get_data(excel):\n",
    "    df = pd.DataFrame.from_csv(excel)\n",
    "    return df\n",
    "\n",
    "def get_user():\n",
    "    return os.getenv('username')\n",
    "\n",
    "\n",
    "def get_machine():\n",
    "    return platform.node()\n",
    "\n",
    "\n",
    "class Common:\n",
    "    def __init__(self):\n",
    "        self.id = str(uuid.uuid4())\n",
    "        self.created = datetime.datetime.now()\n",
    "        self.user = get_user()\n",
    "        self.machine = get_machine()\n",
    "        \n",
    "\n",
    "class Block(Common):\n",
    "    def __init__(self,\n",
    "                 ctrac_style=None, \n",
    "                 est_style=None, \n",
    "                 description=None, \n",
    "                 quantity=None, \n",
    "                 instance=None):\n",
    "        super().__init__()\n",
    "        self.ctrac_style = ctrac_style\n",
    "        self.est_style = est_style\n",
    "        self.description = description\n",
    "        self.quantity = quantity\n",
    "        self.instance = instance\n",
    "        \n",
    "    def declare_instance(self):\n",
    "        print(f\"Instance {self.instance} of {self.quantity}\")\n",
    "        \n",
    "        \n",
    "    \n",
    "    \n",
    "def main():    \n",
    "    t = Block()\n",
    "\n",
    "    t.__dict__\n",
    "    \n",
    "    data = r\"C:\\Users\\mkreidler\\Desktop\\Moynihan PHII 3-6-17 Cornice ALT.csv\"\n",
    "    df = get_data(data)\n",
    "    \n",
    "    \n",
    "    \n",
    "if __name__ == \"__main__\":\n",
    "    # main()\n",
    "    pass\n",
    "    \n",
    "\n",
    "#compile and \n",
    "data = r\"C:\\Users\\mkreidler\\Desktop\\Moynihan PHII 3-6-17 Cornice ALT.csv\"\n",
    "df = get_data(data)\n",
    "#df[[\"Style\", \"Description\", \"Qty of Units\"]].reset_index()\n",
    "df.reset_index(inplace=True)\n",
    "df = df[[\"Style\", \"Description\", \"Qty of Units\"]]\n",
    "df.rename(index=str, \n",
    "          columns={\"Style\":\"est_style\", \n",
    "                   \"Description\":\"desc\", \n",
    "                   \"Qty of Units\":\"qty\"}, inplace=True)\n",
    "\n",
    "\n",
    "df[\"ctrac_style\"] = [\"WT2\", \"WT3\",\"WT4\"]\n",
    "\n",
    "df\n",
    "\n"
   ]
  },
  {
   "cell_type": "code",
   "execution_count": 79,
   "metadata": {},
   "outputs": [
    {
     "data": {
      "text/html": [
       "<div>\n",
       "<style>\n",
       "    .dataframe thead tr:only-child th {\n",
       "        text-align: right;\n",
       "    }\n",
       "\n",
       "    .dataframe thead th {\n",
       "        text-align: left;\n",
       "    }\n",
       "\n",
       "    .dataframe tbody tr th {\n",
       "        vertical-align: top;\n",
       "    }\n",
       "</style>\n",
       "<table border=\"1\" class=\"dataframe\">\n",
       "  <thead>\n",
       "    <tr style=\"text-align: right;\">\n",
       "      <th></th>\n",
       "      <th>est_style</th>\n",
       "      <th>desc</th>\n",
       "      <th>qty</th>\n",
       "      <th>ctrac_style</th>\n",
       "    </tr>\n",
       "  </thead>\n",
       "  <tbody>\n",
       "    <tr>\n",
       "      <th>1</th>\n",
       "      <td>CB</td>\n",
       "      <td>Cornice Bottom</td>\n",
       "      <td>2</td>\n",
       "      <td>WT3</td>\n",
       "    </tr>\n",
       "  </tbody>\n",
       "</table>\n",
       "</div>"
      ],
      "text/plain": [
       "  est_style            desc  qty ctrac_style\n",
       "1        CB  Cornice Bottom    2         WT3"
      ]
     },
     "execution_count": 79,
     "metadata": {},
     "output_type": "execute_result"
    }
   ],
   "source": [
    "#select a row\n",
    "df.iloc[[1]]"
   ]
  },
  {
   "cell_type": "code",
   "execution_count": 80,
   "metadata": {},
   "outputs": [
    {
     "data": {
      "text/html": [
       "<div>\n",
       "<style>\n",
       "    .dataframe thead tr:only-child th {\n",
       "        text-align: right;\n",
       "    }\n",
       "\n",
       "    .dataframe thead th {\n",
       "        text-align: left;\n",
       "    }\n",
       "\n",
       "    .dataframe tbody tr th {\n",
       "        vertical-align: top;\n",
       "    }\n",
       "</style>\n",
       "<table border=\"1\" class=\"dataframe\">\n",
       "  <thead>\n",
       "    <tr style=\"text-align: right;\">\n",
       "      <th></th>\n",
       "      <th>est_style</th>\n",
       "      <th>desc</th>\n",
       "      <th>qty</th>\n",
       "      <th>ctrac_style</th>\n",
       "    </tr>\n",
       "  </thead>\n",
       "  <tbody>\n",
       "  </tbody>\n",
       "</table>\n",
       "</div>"
      ],
      "text/plain": [
       "Empty DataFrame\n",
       "Columns: [est_style, desc, qty, ctrac_style]\n",
       "Index: []"
      ]
     },
     "execution_count": 80,
     "metadata": {},
     "output_type": "execute_result"
    }
   ],
   "source": [
    "#select like 'where' in SQL\n",
    "#show me the dataframe where CN1 is in the ctrac_style column\n",
    "df[df[\"ctrac_style\"]==\"CN1\"]"
   ]
  },
  {
   "cell_type": "code",
   "execution_count": 81,
   "metadata": {},
   "outputs": [
    {
     "data": {
      "text/plain": [
       "64"
      ]
     },
     "execution_count": 81,
     "metadata": {},
     "output_type": "execute_result"
    }
   ],
   "source": [
    "#get the sum of a column\n",
    "df[\"qty\"].sum()"
   ]
  },
  {
   "cell_type": "code",
   "execution_count": 82,
   "metadata": {},
   "outputs": [
    {
     "data": {
      "text/plain": [
       "0      CT\n",
       "1      CB\n",
       "2    CT-C\n",
       "Name: est_style, dtype: object"
      ]
     },
     "execution_count": 82,
     "metadata": {},
     "output_type": "execute_result"
    }
   ],
   "source": [
    "df[\"est_style\"]"
   ]
  },
  {
   "cell_type": "code",
   "execution_count": 83,
   "metadata": {},
   "outputs": [
    {
     "data": {
      "text/plain": [
       "1    CB\n",
       "Name: est_style, dtype: object"
      ]
     },
     "execution_count": 83,
     "metadata": {},
     "output_type": "execute_result"
    }
   ],
   "source": [
    "df.iloc[[1]][\"est_style\"]"
   ]
  },
  {
   "cell_type": "code",
   "execution_count": 84,
   "metadata": {},
   "outputs": [
    {
     "data": {
      "text/plain": [
       "[58, 2, 4]"
      ]
     },
     "execution_count": 84,
     "metadata": {},
     "output_type": "execute_result"
    }
   ],
   "source": [
    "df[\"qty\"].values.tolist()"
   ]
  },
  {
   "cell_type": "code",
   "execution_count": 85,
   "metadata": {},
   "outputs": [
    {
     "data": {
      "text/html": [
       "<div>\n",
       "<style>\n",
       "    .dataframe thead tr:only-child th {\n",
       "        text-align: right;\n",
       "    }\n",
       "\n",
       "    .dataframe thead th {\n",
       "        text-align: left;\n",
       "    }\n",
       "\n",
       "    .dataframe tbody tr th {\n",
       "        vertical-align: top;\n",
       "    }\n",
       "</style>\n",
       "<table border=\"1\" class=\"dataframe\">\n",
       "  <thead>\n",
       "    <tr style=\"text-align: right;\">\n",
       "      <th></th>\n",
       "      <th>est_style</th>\n",
       "      <th>desc</th>\n",
       "      <th>qty</th>\n",
       "      <th>ctrac_style</th>\n",
       "    </tr>\n",
       "  </thead>\n",
       "  <tbody>\n",
       "    <tr>\n",
       "      <th>0</th>\n",
       "      <td>CT</td>\n",
       "      <td>Cornice Top</td>\n",
       "      <td>58</td>\n",
       "      <td>WT2</td>\n",
       "    </tr>\n",
       "    <tr>\n",
       "      <th>1</th>\n",
       "      <td>CB</td>\n",
       "      <td>Cornice Bottom</td>\n",
       "      <td>2</td>\n",
       "      <td>WT3</td>\n",
       "    </tr>\n",
       "    <tr>\n",
       "      <th>2</th>\n",
       "      <td>CT-C</td>\n",
       "      <td>Cornice Top Corner</td>\n",
       "      <td>4</td>\n",
       "      <td>WT4</td>\n",
       "    </tr>\n",
       "  </tbody>\n",
       "</table>\n",
       "</div>"
      ],
      "text/plain": [
       "  est_style                desc  qty ctrac_style\n",
       "0        CT         Cornice Top   58         WT2\n",
       "1        CB      Cornice Bottom    2         WT3\n",
       "2      CT-C  Cornice Top Corner    4         WT4"
      ]
     },
     "execution_count": 85,
     "metadata": {},
     "output_type": "execute_result"
    }
   ],
   "source": [
    "df"
   ]
  },
  {
   "cell_type": "code",
   "execution_count": 86,
   "metadata": {},
   "outputs": [
    {
     "data": {
      "text/html": [
       "<div>\n",
       "<style>\n",
       "    .dataframe thead tr:only-child th {\n",
       "        text-align: right;\n",
       "    }\n",
       "\n",
       "    .dataframe thead th {\n",
       "        text-align: left;\n",
       "    }\n",
       "\n",
       "    .dataframe tbody tr th {\n",
       "        vertical-align: top;\n",
       "    }\n",
       "</style>\n",
       "<table border=\"1\" class=\"dataframe\">\n",
       "  <thead>\n",
       "    <tr style=\"text-align: right;\">\n",
       "      <th></th>\n",
       "      <th>created</th>\n",
       "      <th>ctrac_style</th>\n",
       "      <th>description</th>\n",
       "      <th>est_style</th>\n",
       "      <th>id</th>\n",
       "      <th>instance</th>\n",
       "      <th>machine</th>\n",
       "      <th>quantity</th>\n",
       "      <th>user</th>\n",
       "    </tr>\n",
       "  </thead>\n",
       "  <tbody>\n",
       "    <tr>\n",
       "      <th>0</th>\n",
       "      <td>2018-04-30 07:50:12.074064</td>\n",
       "      <td>WT2</td>\n",
       "      <td>Cornice Top</td>\n",
       "      <td>CT</td>\n",
       "      <td>1e926836-2858-4b33-bfed-6f90a6eb3acc</td>\n",
       "      <td>1</td>\n",
       "      <td>BVTC-Render08</td>\n",
       "      <td>58</td>\n",
       "      <td>mkreidler</td>\n",
       "    </tr>\n",
       "    <tr>\n",
       "      <th>1</th>\n",
       "      <td>2018-04-30 07:50:12.078064</td>\n",
       "      <td>WT2</td>\n",
       "      <td>Cornice Top</td>\n",
       "      <td>CT</td>\n",
       "      <td>849551d1-ef2b-41c0-b2b3-44fafc4773ca</td>\n",
       "      <td>2</td>\n",
       "      <td>BVTC-Render08</td>\n",
       "      <td>58</td>\n",
       "      <td>mkreidler</td>\n",
       "    </tr>\n",
       "    <tr>\n",
       "      <th>2</th>\n",
       "      <td>2018-04-30 07:50:12.081064</td>\n",
       "      <td>WT2</td>\n",
       "      <td>Cornice Top</td>\n",
       "      <td>CT</td>\n",
       "      <td>f1812904-48be-4d70-9cb2-4e082f87972c</td>\n",
       "      <td>3</td>\n",
       "      <td>BVTC-Render08</td>\n",
       "      <td>58</td>\n",
       "      <td>mkreidler</td>\n",
       "    </tr>\n",
       "    <tr>\n",
       "      <th>3</th>\n",
       "      <td>2018-04-30 07:50:12.083064</td>\n",
       "      <td>WT2</td>\n",
       "      <td>Cornice Top</td>\n",
       "      <td>CT</td>\n",
       "      <td>dc75951d-eaf4-4d62-99ae-5aec8f8f29d8</td>\n",
       "      <td>4</td>\n",
       "      <td>BVTC-Render08</td>\n",
       "      <td>58</td>\n",
       "      <td>mkreidler</td>\n",
       "    </tr>\n",
       "    <tr>\n",
       "      <th>4</th>\n",
       "      <td>2018-04-30 07:50:12.086064</td>\n",
       "      <td>WT2</td>\n",
       "      <td>Cornice Top</td>\n",
       "      <td>CT</td>\n",
       "      <td>f3d8b865-1417-4373-b4a8-ea0a8d68837a</td>\n",
       "      <td>5</td>\n",
       "      <td>BVTC-Render08</td>\n",
       "      <td>58</td>\n",
       "      <td>mkreidler</td>\n",
       "    </tr>\n",
       "  </tbody>\n",
       "</table>\n",
       "</div>"
      ],
      "text/plain": [
       "                     created ctrac_style  description est_style  \\\n",
       "0 2018-04-30 07:50:12.074064         WT2  Cornice Top        CT   \n",
       "1 2018-04-30 07:50:12.078064         WT2  Cornice Top        CT   \n",
       "2 2018-04-30 07:50:12.081064         WT2  Cornice Top        CT   \n",
       "3 2018-04-30 07:50:12.083064         WT2  Cornice Top        CT   \n",
       "4 2018-04-30 07:50:12.086064         WT2  Cornice Top        CT   \n",
       "\n",
       "                                     id  instance        machine  quantity  \\\n",
       "0  1e926836-2858-4b33-bfed-6f90a6eb3acc         1  BVTC-Render08        58   \n",
       "1  849551d1-ef2b-41c0-b2b3-44fafc4773ca         2  BVTC-Render08        58   \n",
       "2  f1812904-48be-4d70-9cb2-4e082f87972c         3  BVTC-Render08        58   \n",
       "3  dc75951d-eaf4-4d62-99ae-5aec8f8f29d8         4  BVTC-Render08        58   \n",
       "4  f3d8b865-1417-4373-b4a8-ea0a8d68837a         5  BVTC-Render08        58   \n",
       "\n",
       "        user  \n",
       "0  mkreidler  \n",
       "1  mkreidler  \n",
       "2  mkreidler  \n",
       "3  mkreidler  \n",
       "4  mkreidler  "
      ]
     },
     "execution_count": 86,
     "metadata": {},
     "output_type": "execute_result"
    }
   ],
   "source": [
    "blocks = []\n",
    "\n",
    "for line in range(len(df)):\n",
    "    #print(line)\n",
    "    \n",
    "    qty = int(df.iloc[[line]][\"qty\"].to_string(index=False))\n",
    "    \n",
    "    if qty > 0:\n",
    "        \n",
    "        #print(\"Quantity greater than zero\")\n",
    "        \n",
    "        for i in range(qty):\n",
    "            ctrac = df.iloc[[line]][\"ctrac_style\"].to_string(index=False)\n",
    "            est = df.iloc[[line]][\"est_style\"].to_string(index=False)\n",
    "            desc = df.iloc[[line]][\"desc\"].to_string(index=False)\n",
    "            \n",
    "    \n",
    "            b = Block(ctrac_style = ctrac, \n",
    "                      est_style = est, \n",
    "                      description = desc, \n",
    "                      quantity = qty, \n",
    "                      instance=i+1)\n",
    "            blocks.append(b)\n",
    "        \n",
    "            #print(b.__dict__)\n",
    "        \n",
    "#for b in blocks:\n",
    "#    print(b.ctrac_style)\n",
    "#    print(b.id)\n",
    "#    b.declare_instance()\n",
    "#    print()\n",
    "           \n",
    "    \n",
    "dd = pd.DataFrame([vars(x) for x in blocks])\n",
    "dd.head()\n"
   ]
  },
  {
   "cell_type": "code",
   "execution_count": 87,
   "metadata": {},
   "outputs": [
    {
     "data": {
      "text/html": [
       "<div>\n",
       "<style>\n",
       "    .dataframe thead tr:only-child th {\n",
       "        text-align: right;\n",
       "    }\n",
       "\n",
       "    .dataframe thead th {\n",
       "        text-align: left;\n",
       "    }\n",
       "\n",
       "    .dataframe tbody tr th {\n",
       "        vertical-align: top;\n",
       "    }\n",
       "</style>\n",
       "<table border=\"1\" class=\"dataframe\">\n",
       "  <thead>\n",
       "    <tr style=\"text-align: right;\">\n",
       "      <th></th>\n",
       "      <th>instance</th>\n",
       "      <th>quantity</th>\n",
       "    </tr>\n",
       "  </thead>\n",
       "  <tbody>\n",
       "    <tr>\n",
       "      <th>count</th>\n",
       "      <td>64.000000</td>\n",
       "      <td>64.000000</td>\n",
       "    </tr>\n",
       "    <tr>\n",
       "      <th>mean</th>\n",
       "      <td>26.937500</td>\n",
       "      <td>52.875000</td>\n",
       "    </tr>\n",
       "    <tr>\n",
       "      <th>std</th>\n",
       "      <td>17.961047</td>\n",
       "      <td>16.062873</td>\n",
       "    </tr>\n",
       "    <tr>\n",
       "      <th>min</th>\n",
       "      <td>1.000000</td>\n",
       "      <td>2.000000</td>\n",
       "    </tr>\n",
       "    <tr>\n",
       "      <th>25%</th>\n",
       "      <td>10.750000</td>\n",
       "      <td>58.000000</td>\n",
       "    </tr>\n",
       "    <tr>\n",
       "      <th>50%</th>\n",
       "      <td>26.500000</td>\n",
       "      <td>58.000000</td>\n",
       "    </tr>\n",
       "    <tr>\n",
       "      <th>75%</th>\n",
       "      <td>42.250000</td>\n",
       "      <td>58.000000</td>\n",
       "    </tr>\n",
       "    <tr>\n",
       "      <th>max</th>\n",
       "      <td>58.000000</td>\n",
       "      <td>58.000000</td>\n",
       "    </tr>\n",
       "  </tbody>\n",
       "</table>\n",
       "</div>"
      ],
      "text/plain": [
       "        instance   quantity\n",
       "count  64.000000  64.000000\n",
       "mean   26.937500  52.875000\n",
       "std    17.961047  16.062873\n",
       "min     1.000000   2.000000\n",
       "25%    10.750000  58.000000\n",
       "50%    26.500000  58.000000\n",
       "75%    42.250000  58.000000\n",
       "max    58.000000  58.000000"
      ]
     },
     "execution_count": 87,
     "metadata": {},
     "output_type": "execute_result"
    }
   ],
   "source": [
    "dd.describe()"
   ]
  },
  {
   "cell_type": "code",
   "execution_count": 88,
   "metadata": {},
   "outputs": [],
   "source": [
    "out = r\"C:\\Users\\mkreidler\\Desktop\\MoynihanPhII_Survey2018-05-02.xlsx\"\n",
    "\n",
    "\n",
    "writer = pd.ExcelWriter(out)\n",
    "dd.to_excel(writer,'Sheet1')\n",
    "writer.save()"
   ]
  }
 ],
 "metadata": {
  "kernelspec": {
   "display_name": "Python 3",
   "language": "python",
   "name": "python3"
  },
  "language_info": {
   "codemirror_mode": {
    "name": "ipython",
    "version": 3
   },
   "file_extension": ".py",
   "mimetype": "text/x-python",
   "name": "python",
   "nbconvert_exporter": "python",
   "pygments_lexer": "ipython3",
   "version": "3.6.1"
  }
 },
 "nbformat": 4,
 "nbformat_minor": 2
}
