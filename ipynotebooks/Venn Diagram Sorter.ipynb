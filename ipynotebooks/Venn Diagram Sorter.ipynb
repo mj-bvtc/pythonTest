{
 "cells": [
  {
   "cell_type": "code",
   "execution_count": 20,
   "metadata": {},
   "outputs": [
    {
     "name": "stdout",
     "output_type": "stream",
     "text": [
      "'1' found in list ['a']\n",
      "'2' found in list ['a', 'b', 'c']\n",
      "'3' found in list ['a', 'b']\n",
      "'4' found in list ['b']\n",
      "'8' found in list ['c']\n",
      "'9' found in list ['c']\n"
     ]
    }
   ],
   "source": [
    "###making venn diagram sorter\n",
    "\n",
    "#start with three lists\n",
    "list_a = [1,2,3]\n",
    "list_b = [2,3,4]\n",
    "list_c = [2,8,9]\n",
    "\n",
    "\n",
    "class Venn:\n",
    "    \"\"\"sorts each bubble in the venn diagram\"\"\"\n",
    "    def __init__(self, name, items):\n",
    "        self.name = name\n",
    "        self.items = items\n",
    "\n",
    "a = Venn('a', list_a)\n",
    "b = Venn('b', list_b)\n",
    "c = Venn('c', list_c)\n",
    "\n",
    "\n",
    "def flat_set(*lists):\n",
    "    \"\"\"take any number of lists\n",
    "    and sort it into a set of unique elements\"\"\"\n",
    "    combined = []\n",
    "    for l in lists:\n",
    "        combined.extend(l)\n",
    "    combined = set(combined)\n",
    "    return combined\n",
    "\n",
    "elements = flat_set(list_a,list_b,list_c)\n",
    "venns = [a, b, c]\n",
    "\n",
    "class VennDiagram:\n",
    "    \"\"\"Sorts items into a venn diagram\"\"\"\n",
    "    def __init__(self, elements, venns):\n",
    "        self.elements = elements\n",
    "        self.venns = venns\n",
    "        \n",
    "    def sort(self):\n",
    "        for e in elements:\n",
    "            container = []\n",
    "            for venn in venns:\n",
    "                \n",
    "                if e in venn.items:\n",
    "                    container.append(venn.name)\n",
    "            print(f\"'{e}' found in list {container}\")    \n",
    "                \n",
    "vd = VennDiagram(elements, venns)\n",
    "vd.sort()"
   ]
  },
  {
   "cell_type": "code",
   "execution_count": null,
   "metadata": {
    "collapsed": true
   },
   "outputs": [],
   "source": []
  },
  {
   "cell_type": "code",
   "execution_count": 21,
   "metadata": {},
   "outputs": [
    {
     "ename": "AttributeError",
     "evalue": "module 'pandas' has no attribute 'd'",
     "output_type": "error",
     "traceback": [
      "\u001b[0;31m---------------------------------------------------------------------------\u001b[0m",
      "\u001b[0;31mAttributeError\u001b[0m                            Traceback (most recent call last)",
      "\u001b[0;32m<ipython-input-21-a7223b8e5528>\u001b[0m in \u001b[0;36m<module>\u001b[0;34m()\u001b[0m\n\u001b[1;32m      6\u001b[0m \u001b[0mlist_c\u001b[0m \u001b[0;34m=\u001b[0m \u001b[0;34m[\u001b[0m\u001b[0;36m2\u001b[0m\u001b[0;34m,\u001b[0m\u001b[0;36m8\u001b[0m\u001b[0;34m,\u001b[0m\u001b[0;36m9\u001b[0m\u001b[0;34m]\u001b[0m\u001b[0;34m\u001b[0m\u001b[0m\n\u001b[1;32m      7\u001b[0m \u001b[0;34m\u001b[0m\u001b[0m\n\u001b[0;32m----> 8\u001b[0;31m \u001b[0mpd\u001b[0m\u001b[0;34m.\u001b[0m\u001b[0md\u001b[0m\u001b[0;34m\u001b[0m\u001b[0m\n\u001b[0m",
      "\u001b[0;31mAttributeError\u001b[0m: module 'pandas' has no attribute 'd'"
     ]
    }
   ],
   "source": [
    "import pandas as pd\n",
    "\n",
    "\n",
    "list_a = [1,2,3]\n",
    "list_b = [2,3,4]\n",
    "list_c = [2,8,9]\n",
    "\n",
    "pd.DataFrame"
   ]
  },
  {
   "cell_type": "code",
   "execution_count": null,
   "metadata": {
    "collapsed": true
   },
   "outputs": [],
   "source": []
  },
  {
   "cell_type": "code",
   "execution_count": null,
   "metadata": {
    "collapsed": true
   },
   "outputs": [],
   "source": []
  }
 ],
 "metadata": {
  "kernelspec": {
   "display_name": "Python 3",
   "language": "python",
   "name": "python3"
  },
  "language_info": {
   "codemirror_mode": {
    "name": "ipython",
    "version": 3
   },
   "file_extension": ".py",
   "mimetype": "text/x-python",
   "name": "python",
   "nbconvert_exporter": "python",
   "pygments_lexer": "ipython3",
   "version": "3.6.1"
  }
 },
 "nbformat": 4,
 "nbformat_minor": 2
}
