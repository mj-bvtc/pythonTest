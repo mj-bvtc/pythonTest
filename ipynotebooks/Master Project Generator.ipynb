{
 "cells": [
  {
   "cell_type": "code",
   "execution_count": 4,
   "metadata": {},
   "outputs": [
    {
     "name": "stdout",
     "output_type": "stream",
     "text": [
      "3\n"
     ]
    }
   ],
   "source": [
    "# resources https://www.taskcoach.org/features.html\n",
    "# PyPi workdays module extension for datetime\n",
    "\n",
    "import datetime\n",
    "import pandas as pd\n",
    "import workdays\n",
    "\n",
    "holidays = [datetime.date(2019,1,3), \n",
    "           datetime.date(2019, 1, 4)]\n",
    "#rng = pd.bdate_range('2019-01-01', '2019-01-07')\n",
    "\n",
    "r2 = workdays.networkdays(datetime.date(2019,1,1), datetime.date(2019,1,7),holidays)\n",
    "workdays\n",
    "#print(len(rng))\n",
    "print(r2)\n",
    "\n",
    "\n",
    "\n",
    "\n",
    "\n",
    "\n"
   ]
  },
  {
   "cell_type": "code",
   "execution_count": null,
   "metadata": {},
   "outputs": [],
   "source": []
  }
 ],
 "metadata": {
  "kernelspec": {
   "display_name": "Python 3",
   "language": "python",
   "name": "python3"
  },
  "language_info": {
   "codemirror_mode": {
    "name": "ipython",
    "version": 3
   },
   "file_extension": ".py",
   "mimetype": "text/x-python",
   "name": "python",
   "nbconvert_exporter": "python",
   "pygments_lexer": "ipython3",
   "version": "3.6.8"
  }
 },
 "nbformat": 4,
 "nbformat_minor": 2
}
