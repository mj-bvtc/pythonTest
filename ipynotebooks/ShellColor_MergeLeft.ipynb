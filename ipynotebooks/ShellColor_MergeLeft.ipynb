{
 "cells": [
  {
   "cell_type": "code",
   "execution_count": 12,
   "metadata": {},
   "outputs": [
    {
     "data": {
      "text/html": [
       "<div>\n",
       "<style scoped>\n",
       "    .dataframe tbody tr th:only-of-type {\n",
       "        vertical-align: middle;\n",
       "    }\n",
       "\n",
       "    .dataframe tbody tr th {\n",
       "        vertical-align: top;\n",
       "    }\n",
       "\n",
       "    .dataframe thead th {\n",
       "        text-align: right;\n",
       "    }\n",
       "</style>\n",
       "<table border=\"1\" class=\"dataframe\">\n",
       "  <thead>\n",
       "    <tr style=\"text-align: right;\">\n",
       "      <th></th>\n",
       "      <th>Unnamed: 0</th>\n",
       "      <th>name</th>\n",
       "      <th>guid</th>\n",
       "      <th>color</th>\n",
       "    </tr>\n",
       "  </thead>\n",
       "  <tbody>\n",
       "    <tr>\n",
       "      <th>0</th>\n",
       "      <td>0</td>\n",
       "      <td>E-ED01</td>\n",
       "      <td>c21d0a78-6bf6-4eba-8401-24b87987e9a0</td>\n",
       "      <td>A</td>\n",
       "    </tr>\n",
       "    <tr>\n",
       "      <th>1</th>\n",
       "      <td>1</td>\n",
       "      <td>E-ED01</td>\n",
       "      <td>0a693730-5fd4-4f6e-ad03-e1cbffb1733e</td>\n",
       "      <td>A</td>\n",
       "    </tr>\n",
       "    <tr>\n",
       "      <th>2</th>\n",
       "      <td>2</td>\n",
       "      <td>E-EB02</td>\n",
       "      <td>600d4a0e-bc53-4039-9676-a61aa0759794</td>\n",
       "      <td>B</td>\n",
       "    </tr>\n",
       "    <tr>\n",
       "      <th>3</th>\n",
       "      <td>3</td>\n",
       "      <td>E-EB02</td>\n",
       "      <td>814fee7c-fabb-4de4-ba49-afdb426c87ee</td>\n",
       "      <td>B</td>\n",
       "    </tr>\n",
       "    <tr>\n",
       "      <th>4</th>\n",
       "      <td>4</td>\n",
       "      <td>E-DX22</td>\n",
       "      <td>4b2948ec-0320-429e-b230-6a7cc3a45677</td>\n",
       "      <td>C</td>\n",
       "    </tr>\n",
       "  </tbody>\n",
       "</table>\n",
       "</div>"
      ],
      "text/plain": [
       "   Unnamed: 0    name                                  guid color\n",
       "0           0  E-ED01  c21d0a78-6bf6-4eba-8401-24b87987e9a0     A\n",
       "1           1  E-ED01  0a693730-5fd4-4f6e-ad03-e1cbffb1733e     A\n",
       "2           2  E-EB02  600d4a0e-bc53-4039-9676-a61aa0759794     B\n",
       "3           3  E-EB02  814fee7c-fabb-4de4-ba49-afdb426c87ee     B\n",
       "4           4  E-DX22  4b2948ec-0320-429e-b230-6a7cc3a45677     C"
      ]
     },
     "execution_count": 12,
     "metadata": {},
     "output_type": "execute_result"
    }
   ],
   "source": [
    "import pandas as pd\n",
    "\n",
    "\n",
    "#rhino = r\"V:\\Projects\\Shell House Building\\TerraCotta\\_Preliminary_Models\\Color Assignment\\rhino guid and name.csv\"\n",
    "#colors = r\"V:\\Projects\\Shell House Building\\TerraCotta\\_Preliminary_Models\\Color Assignment\\Glaze Code Spreadsheet - deleted strikethrough.xlsx\"\n",
    "\n",
    "bv_names_file = r\"C:\\Users\\mkreidler\\Desktop\\test.csv\"\n",
    "guids_file = r\"V:\\Projects\\Shell House Building\\TerraCotta\\_Preliminary_Models\\Color Assignment\\ShellMergedColors_updated.csv\"\n",
    "\n",
    "\n",
    "\"\"\"\n",
    "rh = pd.read_csv(rhino, header = None)\n",
    "rh.rename(columns = {0:\"name\", 1:\"guid\"}, inplace=True)\n",
    "col = pd.read_excel(colors, header=None)\n",
    "col.rename(columns = {0:\"ac\", 1:\"elev\", 2:\"name\", 3:\"color\"}, inplace=True)\n",
    "col.drop([\"ac\", \"elev\"], 1, inplace=True)\n",
    "col.drop(col.index[:2], inplace=True)\n",
    "\n",
    "col.head()\n",
    "\n",
    "\"\"\"\n",
    "\n",
    "bv = pd.read_csv(bv_names_file, header = None)\n",
    "bv.rename(columns = {0:\"guid\", 1:\"bv\"}, inplace=True)\n",
    "guids = pd.read_csv(guids_file)\n",
    "\n",
    "\n",
    "#guids.head()\n",
    "\n",
    "result = pd.merge(bv, guids, on=\"guid\")\n",
    "result.to_csv(r\"C:\\Users\\mkreidler\\Desktop\\result.csv\")\n",
    "\n"
   ]
  },
  {
   "cell_type": "code",
   "execution_count": null,
   "metadata": {},
   "outputs": [],
   "source": []
  },
  {
   "cell_type": "code",
   "execution_count": 13,
   "metadata": {},
   "outputs": [],
   "source": []
  },
  {
   "cell_type": "code",
   "execution_count": null,
   "metadata": {},
   "outputs": [],
   "source": [
    "\n"
   ]
  },
  {
   "cell_type": "code",
   "execution_count": null,
   "metadata": {},
   "outputs": [],
   "source": []
  }
 ],
 "metadata": {
  "kernelspec": {
   "display_name": "Python 3",
   "language": "python",
   "name": "python3"
  },
  "language_info": {
   "codemirror_mode": {
    "name": "ipython",
    "version": 3
   },
   "file_extension": ".py",
   "mimetype": "text/x-python",
   "name": "python",
   "nbconvert_exporter": "python",
   "pygments_lexer": "ipython3",
   "version": "3.6.5"
  }
 },
 "nbformat": 4,
 "nbformat_minor": 2
}
