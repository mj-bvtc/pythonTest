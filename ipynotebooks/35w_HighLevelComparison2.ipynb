{
 "cells": [
  {
   "cell_type": "code",
   "execution_count": 50,
   "metadata": {},
   "outputs": [],
   "source": [
    "import pandas as pd\n",
    "\n",
    "\n",
    "rh = r\"C:\\Users\\mkreidler\\Desktop\\35w_HighLevel\\changing names\\rhino.xlsx\"\n",
    "ct = r\"C:\\Users\\mkreidler\\Desktop\\35w_HighLevel\\changing names\\ctrac.xlsx\"\n",
    "\n",
    "\n",
    "rh = pd.read_excel(rh)\n",
    "\n",
    "ct = pd.read_excel(ct)\n",
    "\n",
    "rh = rh.groupby(\"name\").count().reset_index()\n",
    "\n",
    "rh = rh[[\"name\", \"guid\"]]\n",
    "\n"
   ]
  },
  {
   "cell_type": "code",
   "execution_count": 51,
   "metadata": {},
   "outputs": [],
   "source": [
    "ct = ct.groupby(\"Block ID\").count().reset_index()\n",
    "ct = ct[[\"Block ID\", \"UnitQuantity\"]]\n",
    "\n"
   ]
  },
  {
   "cell_type": "code",
   "execution_count": 58,
   "metadata": {},
   "outputs": [
    {
     "data": {
      "text/html": [
       "<div>\n",
       "<style scoped>\n",
       "    .dataframe tbody tr th:only-of-type {\n",
       "        vertical-align: middle;\n",
       "    }\n",
       "\n",
       "    .dataframe tbody tr th {\n",
       "        vertical-align: top;\n",
       "    }\n",
       "\n",
       "    .dataframe thead th {\n",
       "        text-align: right;\n",
       "    }\n",
       "</style>\n",
       "<table border=\"1\" class=\"dataframe\">\n",
       "  <thead>\n",
       "    <tr style=\"text-align: right;\">\n",
       "      <th></th>\n",
       "      <th>name</th>\n",
       "      <th>rhino_qty</th>\n",
       "      <th>ctrac_qty</th>\n",
       "      <th>delta</th>\n",
       "    </tr>\n",
       "  </thead>\n",
       "  <tbody>\n",
       "    <tr>\n",
       "      <th>22</th>\n",
       "      <td>3B9</td>\n",
       "      <td>1.0</td>\n",
       "      <td>0.0</td>\n",
       "      <td>1.0</td>\n",
       "    </tr>\n",
       "    <tr>\n",
       "      <th>25</th>\n",
       "      <td>3C10A</td>\n",
       "      <td>2.0</td>\n",
       "      <td>1.0</td>\n",
       "      <td>1.0</td>\n",
       "    </tr>\n",
       "    <tr>\n",
       "      <th>251</th>\n",
       "      <td>B35</td>\n",
       "      <td>4.0</td>\n",
       "      <td>3.0</td>\n",
       "      <td>1.0</td>\n",
       "    </tr>\n",
       "    <tr>\n",
       "      <th>285</th>\n",
       "      <td>S3-</td>\n",
       "      <td>1.0</td>\n",
       "      <td>0.0</td>\n",
       "      <td>1.0</td>\n",
       "    </tr>\n",
       "  </tbody>\n",
       "</table>\n",
       "</div>"
      ],
      "text/plain": [
       "      name  rhino_qty  ctrac_qty  delta\n",
       "22     3B9        1.0        0.0    1.0\n",
       "25   3C10A        2.0        1.0    1.0\n",
       "251    B35        4.0        3.0    1.0\n",
       "285    S3-        1.0        0.0    1.0"
      ]
     },
     "execution_count": 58,
     "metadata": {},
     "output_type": "execute_result"
    }
   ],
   "source": [
    "merge = rh.merge(ct, left_on=\"name\", right_on=\"Block ID\", how=\"outer\")\n",
    "merge.fillna(0)\n",
    "\n",
    "\n",
    "merge = merge.fillna(0)\n",
    "\n",
    "def ternary(a, b):\n",
    "    if a != 0:\n",
    "        return a\n",
    "    else:\n",
    "        return b\n",
    "\n",
    "merge[\"id\"] = merge.apply(lambda x: ternary(x[\"name\"], x[\"Block ID\"]), axis=1 )\n",
    "\n",
    "merge = merge[[\"id\", \"guid\", \"UnitQuantity\"]]\n",
    "\n",
    "merge =merge.rename(columns={\"id\":\"name\", \"guid\":\"rhino_qty\", \"UnitQuantity\":\"ctrac_qty\"})\n",
    "\n",
    "merge[\"delta\"] = merge.rhino_qty - merge.ctrac_qty\n",
    "\n",
    "\n",
    "merge.to_excel(r\"C:\\Users\\mkreidler\\Desktop\\35w_HighLevel\\changing names\\merge2.xlsx\")\n",
    "\n",
    "merge[merge.delta>0]"
   ]
  },
  {
   "cell_type": "code",
   "execution_count": null,
   "metadata": {},
   "outputs": [],
   "source": []
  },
  {
   "cell_type": "code",
   "execution_count": null,
   "metadata": {},
   "outputs": [],
   "source": []
  }
 ],
 "metadata": {
  "kernelspec": {
   "display_name": "Python 3",
   "language": "python",
   "name": "python3"
  },
  "language_info": {
   "codemirror_mode": {
    "name": "ipython",
    "version": 3
   },
   "file_extension": ".py",
   "mimetype": "text/x-python",
   "name": "python",
   "nbconvert_exporter": "python",
   "pygments_lexer": "ipython3",
   "version": "3.6.5"
  }
 },
 "nbformat": 4,
 "nbformat_minor": 2
}
