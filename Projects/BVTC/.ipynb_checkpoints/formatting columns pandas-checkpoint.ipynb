{
 "cells": [
  {
   "cell_type": "code",
   "execution_count": 84,
   "metadata": {},
   "outputs": [
    {
     "data": {
      "text/plain": [
       "1000"
      ]
     },
     "execution_count": 84,
     "metadata": {},
     "output_type": "execute_result"
    }
   ],
   "source": [
    "import pandas as pd\n",
    "\n",
    "file = r\"C:\\Users\\mkreidler\\Desktop\\test.csv\"\n",
    "df = pd.DataFrame.from_csv(file)\n",
    "\n",
    "df.reset_index(inplace=True)\n",
    "\n",
    "\n",
    "def format_col(col):\n",
    "    \"\"\"\n",
    "    Formats a pandas series into numbers\n",
    "    Removes dollars signs\n",
    "    Removes commas\n",
    "    Converts string to int\n",
    "    \"\"\"\n",
    "    col = col.str.replace(\"$\",\"\")\n",
    "    col = col.str.replace(\",\", \"\")\n",
    "    col = pd.to_numeric(col)\n",
    "    return col\n",
    "\n",
    "def format_cols(cols, df):\n",
    "    data = df\n",
    "    for col in cols:\n",
    "        data[col] = format_col(df[col])\n",
    "    return data\n",
    "\n",
    "def main():\n",
    "    test = [\"dollar\", \"comma\"]\n",
    "\n",
    "    data = format_cols(test, df)\n",
    "    data[\"dollar\"].sum()\n",
    "    return data\n",
    "\n",
    "d = main()\n",
    "\n",
    "\n"
   ]
  },
  {
   "cell_type": "code",
   "execution_count": 206,
   "metadata": {},
   "outputs": [
    {
     "data": {
      "text/plain": [
       "a     True\n",
       "b     True\n",
       "c    False\n",
       "d    False\n",
       "e    False\n",
       "dtype: bool"
      ]
     },
     "execution_count": 206,
     "metadata": {},
     "output_type": "execute_result"
    }
   ],
   "source": [
    "import numpy as np\n",
    "s = pd.Series([\"egg\", \"dogg\", 3,4,5], index=['a', 'b', 'c', 'd', 'e'])\n",
    "\n",
    "(s == \"egg\") | (s == \"dogg\") "
   ]
  },
  {
   "cell_type": "code",
   "execution_count": 198,
   "metadata": {},
   "outputs": [
    {
     "data": {
      "text/plain": [
       "True"
      ]
     },
     "execution_count": 198,
     "metadata": {},
     "output_type": "execute_result"
    }
   ],
   "source": [
    "True | False"
   ]
  },
  {
   "cell_type": "code",
   "execution_count": 201,
   "metadata": {},
   "outputs": [
    {
     "data": {
      "text/plain": [
       "comma     1000\n",
       "dollar    1000\n",
       "number    1000\n",
       "Name: 0, dtype: int64"
      ]
     },
     "execution_count": 201,
     "metadata": {},
     "output_type": "execute_result"
    }
   ],
   "source": [
    "#select a row --panda series\n",
    "d.iloc[0,:]\n",
    "\n"
   ]
  },
  {
   "cell_type": "code",
   "execution_count": 202,
   "metadata": {},
   "outputs": [
    {
     "data": {
      "text/plain": [
       "0    1000\n",
       "1    2000\n",
       "Name: comma, dtype: int64"
      ]
     },
     "execution_count": 202,
     "metadata": {},
     "output_type": "execute_result"
    }
   ],
   "source": [
    "#select a column --panda series\n",
    "d[\"comma\"]"
   ]
  },
  {
   "cell_type": "code",
   "execution_count": null,
   "metadata": {},
   "outputs": [],
   "source": [
    "\n",
    "\n"
   ]
  }
 ],
 "metadata": {
  "kernelspec": {
   "display_name": "Python 3",
   "language": "python",
   "name": "python3"
  },
  "language_info": {
   "codemirror_mode": {
    "name": "ipython",
    "version": 3
   },
   "file_extension": ".py",
   "mimetype": "text/x-python",
   "name": "python",
   "nbconvert_exporter": "python",
   "pygments_lexer": "ipython3",
   "version": "3.6.1"
  }
 },
 "nbformat": 4,
 "nbformat_minor": 2
}
