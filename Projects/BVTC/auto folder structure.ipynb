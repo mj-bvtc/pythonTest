{
 "cells": [
  {
   "cell_type": "code",
   "execution_count": 5,
   "metadata": {},
   "outputs": [
    {
     "data": {
      "text/plain": [
       "'C:\\\\Users\\\\mkreidler\\\\Desktop\\\\Test Environment\\\\test.csv'"
      ]
     },
     "execution_count": 5,
     "metadata": {},
     "output_type": "execute_result"
    }
   ],
   "source": [
    "from shutil import copyfile\n",
    "\n",
    "src = r\"C:\\Users\\mkreidler\\Desktop\\test.csv\"\n",
    "dst = r\"C:\\Users\\mkreidler\\Desktop\\Test Environment\\test.csv\"\n",
    "copyfile(src, dst)"
   ]
  },
  {
   "cell_type": "code",
   "execution_count": 7,
   "metadata": {},
   "outputs": [
    {
     "data": {
      "text/plain": [
       "'P12-3456_123 Main Street'"
      ]
     },
     "execution_count": 7,
     "metadata": {},
     "output_type": "execute_result"
    }
   ],
   "source": [
    "pnum = \"P12-3456\"\n",
    "pname = \"123 Main Street\"\n",
    "\n",
    "file = \"_\".join([pnum, pname])\n",
    "\n",
    "file\n"
   ]
  },
  {
   "cell_type": "code",
   "execution_count": 13,
   "metadata": {},
   "outputs": [],
   "source": [
    "\n",
    "\n",
    "\n",
    "src  = r\"C:\\Users\\mkreidler\\Desktop\\_Field Work Folder Template (Do Not Delete)\"\n",
    "dst = r\"C:\\Users\\mkreidler\\Desktop\\new\"\n",
    "\n",
    "import os, shutil\n",
    "\n",
    "root_src_dir = r\"C:\\Users\\mkreidler\\Desktop\\Template\"    #Path/Location of the source directory\n",
    "root_dst_dir = r\"C:\\Users\\mkreidler\\Desktop\\new\"  #Path to the destination folder\n",
    "\n",
    "for src_dir, dirs, files in os.walk(root_src_dir):\n",
    "    dst_dir = src_dir.replace(root_src_dir, root_dst_dir, 1)\n",
    "    if not os.path.exists(dst_dir):\n",
    "        os.makedirs(dst_dir)\n",
    "    for file_ in files:\n",
    "        src_file = os.path.join(src_dir, file_)\n",
    "        dst_file = os.path.join(dst_dir, file_)\n",
    "        if os.path.exists(dst_file):\n",
    "            os.remove(dst_file)\n",
    "        shutil.copy(src_file, dst_dir)\n",
    "        \n"
   ]
  },
  {
   "cell_type": "code",
   "execution_count": null,
   "metadata": {
    "collapsed": true
   },
   "outputs": [],
   "source": []
  }
 ],
 "metadata": {
  "kernelspec": {
   "display_name": "Python 3",
   "language": "python",
   "name": "python3"
  },
  "language_info": {
   "codemirror_mode": {
    "name": "ipython",
    "version": 3
   },
   "file_extension": ".py",
   "mimetype": "text/x-python",
   "name": "python",
   "nbconvert_exporter": "python",
   "pygments_lexer": "ipython3",
   "version": "3.6.1"
  }
 },
 "nbformat": 4,
 "nbformat_minor": 2
}
