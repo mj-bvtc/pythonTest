{
 "cells": [
  {
   "cell_type": "code",
   "execution_count": 39,
   "metadata": {},
   "outputs": [
    {
     "name": "stdout",
     "output_type": "stream",
     "text": [
      "Creamy Spinach Walnut Pesto Sauce\n",
      "Slow Cooker Cheesy Broccoli Chicken Rice\n",
      "Sausages Peppers Onions Curry Spiced Quinoa\n",
      "Southwestern Corn Sweet Potato Bowls\n",
      "Pasta With Creamy Sun Dried Tomato And Mushroom Sauce\n",
      "Cheesy Quinoa Stuffed Rainbow Peppers\n",
      "\n",
      "\n"
     ]
    }
   ],
   "source": [
    "import random\n",
    "import pint\n",
    "import webbrowser\n",
    "\n",
    "\n",
    "\n",
    "\n",
    "u = pint.UnitRegistry()\n",
    "\n",
    "class Meal:\n",
    "    meals = []\n",
    "    \n",
    "    def __init__(self, name=None, url = None):\n",
    "        self.name = name\n",
    "        self.ingredients = {}\n",
    "        self.meals.append(self)\n",
    "        self.cost = None\n",
    "        self.url = url\n",
    "\n",
    "\n",
    "    def pick_random(self):\n",
    "        return random.choice(self.meals)\n",
    "    \n",
    "    def open_url(self):\n",
    "        webbrowser.open(self.url)\n",
    "    \n",
    "    \n",
    "class GroceryList:\n",
    "    pass\n",
    "\n",
    "\n",
    "\n",
    "\n",
    "cil_rice = Meal(url=r\"https://theprettybee.com/2014/01/creamy-spinach-walnut-pesto-sauce.html\"\n",
    "                )\n",
    "#spaghetti.open_url()\n",
    "#cil_rice.open_url()\n",
    "\n",
    "a = r\"https://theprettybee.com/2014/01/creamy-spinach-walnut-pesto-sauce.html\"\n",
    "b = r\"https://theprettybee.com/2014/02/slow-cooker-cheesy-broccoli-chicken-rice.html\"\n",
    "c = r\"https://theprettybee.com/2014/04/sausages-peppers-onions-curry-spiced-quinoa.html\"\n",
    "d = r\"https://theprettybee.com/2014/08/southwestern-corn-sweet-potato-bowls.html\"\n",
    "e = r\"https://theprettybee.com/2014/09/pasta-with-creamy-sun-dried-tomato-and-mushroom-sauce.html\"\n",
    "f = r\"https://theprettybee.com/2014/11/cheesy-quinoa-stuffed-rainbow-peppers.html\"\n",
    "g = r\"https://theprettybee.com/gluten-free-garlic-spaghetti-spaghetti-aglio-e-olio/\"\n",
    "h = r\"https://theprettybee.com/slow-cooker-pork-salsa-verde-cilantro-rice/\"\n",
    "\n",
    "urls = [a,b,c,d,e,f,g,h]\n",
    "\n",
    "my_meals = []\n",
    "\n",
    "for item in urls:\n",
    "    m = Meal(url=item)\n",
    "    title = item.rsplit('/',1)[1]\n",
    "    m.name = title.replace(\".html\", \"\")\n",
    "    m.name = m.name.replace(\"-\", \" \").title()\n",
    "    print(m.name)\n",
    "    my_meals.append(m)\n",
    "\n",
    "    \n",
    "msg = f\"This week we will be eating: {cil_rice.pick_random().name}\"\n",
    "\n",
    "msg\n",
    "\n",
    "cil_rice.open_url()\n",
    "\n",
    "    \n"
   ]
  },
  {
   "cell_type": "code",
   "execution_count": null,
   "metadata": {
    "collapsed": true
   },
   "outputs": [],
   "source": []
  },
  {
   "cell_type": "code",
   "execution_count": null,
   "metadata": {
    "collapsed": true
   },
   "outputs": [],
   "source": []
  },
  {
   "cell_type": "code",
   "execution_count": null,
   "metadata": {
    "collapsed": true
   },
   "outputs": [],
   "source": []
  }
 ],
 "metadata": {
  "kernelspec": {
   "display_name": "Python 3",
   "language": "python",
   "name": "python3"
  },
  "language_info": {
   "codemirror_mode": {
    "name": "ipython",
    "version": 3
   },
   "file_extension": ".py",
   "mimetype": "text/x-python",
   "name": "python",
   "nbconvert_exporter": "python",
   "pygments_lexer": "ipython3",
   "version": "3.6.1"
  }
 },
 "nbformat": 4,
 "nbformat_minor": 2
}
