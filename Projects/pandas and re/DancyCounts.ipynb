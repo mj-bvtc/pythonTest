{
 "cells": [
  {
   "cell_type": "code",
   "execution_count": 52,
   "metadata": {
    "collapsed": false,
    "scrolled": true
   },
   "outputs": [],
   "source": [
    "import pandas as pd\n",
    "import numpy as np\n",
    "import re\n",
    "\n",
    "file = r\"C:\\Users\\mkreidler\\Desktop\\Dancy Building CCCH_revised_ungrouped.csv\"\n",
    "output = r\"C:\\Users\\mkreidler\\Desktop\\DancyCounts.csv\"\n",
    "\n",
    "df = pd.DataFrame.from_csv(file)\n",
    "\n",
    "df.reset_index(inplace=True, drop=False)\n",
    "\n",
    "data = df[[\"Page Label\", \"Comments\", \"# Units\", \"Space\"]].groupby(\"Comments\").sum().reset_index()\n",
    "#style = re.findall(pattern, string)\n",
    "\n",
    "#data[\"Style\"] = data[\"Comments\"]\n",
    "\n",
    "def add_o(base):\n",
    "    return base + \"oooo\"\n",
    "\n",
    "def get_style(base):\n",
    "    pat = r\"[a-zA-Z]+\"\n",
    "    result = re.findall(pat, base)\n",
    "    return result[0]\n",
    "\n",
    "def get_style_num(base):\n",
    "    pat = r\"[\\d]+\"\n",
    "    return int(re.findall(pat, base)[0])\n",
    "\n",
    "#data[\"sqrt\"] = data[\"# Units\"].apply(np.sqrt)\n",
    "data[\"style\"] = data[\"Comments\"].map(get_style)\n",
    "data[\"style num\"] = data[\"Comments\"].map(get_style_num)\n",
    "\n",
    "data.sort_values([\"style\", \"style num\"], inplace=True)\n",
    "data.reset_index(inplace=True, drop=True)\n",
    "#data.at()\n",
    "data.to_csv(output)\n",
    "\n"
   ]
  },
  {
   "cell_type": "code",
   "execution_count": null,
   "metadata": {
    "collapsed": true
   },
   "outputs": [],
   "source": []
  }
 ],
 "metadata": {
  "kernelspec": {
   "display_name": "Python 3",
   "language": "python",
   "name": "python3"
  },
  "language_info": {
   "codemirror_mode": {
    "name": "ipython",
    "version": 3
   },
   "file_extension": ".py",
   "mimetype": "text/x-python",
   "name": "python",
   "nbconvert_exporter": "python",
   "pygments_lexer": "ipython3",
   "version": "3.6.0"
  }
 },
 "nbformat": 4,
 "nbformat_minor": 2
}
