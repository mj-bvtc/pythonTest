{
 "cells": [
  {
   "cell_type": "code",
   "execution_count": 1,
   "metadata": {
    "collapsed": false
   },
   "outputs": [
    {
     "name": "stdout",
     "output_type": "stream",
     "text": [
      "yes\n",
      "yes\n",
      "[[ 1  2  3  4  5  6  7  8  9]\n",
      " [10 11 12 13 14 15 16 17 18]\n",
      " [19 20 21 22 23 24 25 26 27]\n",
      " [28 29 30 31 32 33 34 35 36]\n",
      " [37 38 39 40 41 42 43 44 45]\n",
      " [46 47 48 49 50 51 52 53 54]\n",
      " [55 56 57 58 59 60 61 62 63]\n",
      " [64 65 66 67 68 69 70 71 72]\n",
      " [73 74 75 76 77 78 79 80 81]]\n",
      "\n",
      "[[ 1 10 19 28 37 46 55 64 73]\n",
      " [ 2 11 20 29 38 47 56 65 74]\n",
      " [ 3 12 21 30 39 48 57 66 75]\n",
      " [ 4 13 22 31 40 49 58 67 76]\n",
      " [ 5 14 23 32 41 50 59 68 77]\n",
      " [ 6 15 24 33 42 51 60 69 78]\n",
      " [ 7 16 25 34 43 52 61 70 79]\n",
      " [ 8 17 26 35 44 53 62 71 80]\n",
      " [ 9 18 27 36 45 54 63 72 81]]\n"
     ]
    }
   ],
   "source": [
    "import pandas as pd\n",
    "import numpy as np\n",
    "b = np.zeros([9,9])\n",
    "a = np.arange(1,82,1)\n",
    "a = a.reshape(9,9)\n",
    "\n",
    "\n",
    "row_1 = [1,2,3]\n",
    "row_2 = [3,2,3]\n",
    "if 1 in row_1:\n",
    "    print(\"yes\")\n",
    "if 3 in row_2:\n",
    "    print(\"yes\")\n",
    "print(a)\n",
    "print()\n",
    "print(a.transpose())\n"
   ]
  },
  {
   "cell_type": "code",
   "execution_count": 2,
   "metadata": {
    "collapsed": false
   },
   "outputs": [],
   "source": [
    "for num in a:\n",
    "    #print(num)\n",
    "    pass"
   ]
  },
  {
   "cell_type": "code",
   "execution_count": 6,
   "metadata": {
    "collapsed": false
   },
   "outputs": [
    {
     "name": "stdout",
     "output_type": "stream",
     "text": [
      "0 a\n",
      "1 b\n",
      "2 c\n"
     ]
    }
   ],
   "source": [
    "class Cell:\n",
    "    def __init__(self, row, col, block_group=None):\n",
    "        self.row = row\n",
    "        self.col = col\n",
    "        self.val = None\n",
    "        self.block_group = block_group\n",
    "\n",
    "class Block:\n",
    "    def __init__(self, row_group, col_group):\n",
    "        #self.center_row = center_row\n",
    "        #self.center_col = center_col\n",
    "        #self.row_range = (center_row - 1, center_row + 1)\n",
    "        #self.col_range = (center_col - 1, center_col + 1)\n",
    "        self.row_group = row_group\n",
    "        self.col_group = col_group\n",
    "        \n",
    "class Grid:\n",
    "    def __init__(self, grid_len=None):\n",
    "        self.grid_len = grid_len\n",
    "        self.cells = set()\n",
    "        self.blocks = set()\n",
    "        self.make_cells()\n",
    "    \n",
    "    def make_cells(self):\n",
    "        for row in range(self.grid_len):\n",
    "            for col in range(self.grid_len):\n",
    "                b = self.block(row, col)\n",
    "                c = Cell(row, col, b)\n",
    "                #print(c.row, c.col)\n",
    "                self.cells.add(c)\n",
    "                      \n",
    "    def block(self, row, col):\n",
    "        r = row//3\n",
    "        c = col//3\n",
    "        #b = Block(r, c)\n",
    "        b = (r, c)\n",
    "        self.blocks.add(b)\n",
    "        return b\n",
    "        \n",
    "    def id_block(self, num):\n",
    "        return num//3              \n",
    "             \n",
    "g = Grid(9)\n",
    "\n",
    "def get_row(obj):\n",
    "    return obj.row\n",
    "\n",
    "s = pd.DataFrame({\"cell_obj\":g.cells})\n",
    "\n",
    "#s[\"row\"] = s[\"cell_obj\"].apply(get_row)\n",
    "#d = {\"cell\": x for x in g.cells.items()}\n",
    "#for item in g.cells:\n",
    "#    print(item)\n",
    "        \n",
    "l = ['a', 'b', 'c']\n",
    "\n",
    "for k, v in enumerate(l):\n",
    "    print(k, v)\n",
    "\n",
    "        "
   ]
  },
  {
   "cell_type": "code",
   "execution_count": null,
   "metadata": {
    "collapsed": true
   },
   "outputs": [],
   "source": []
  }
 ],
 "metadata": {
  "kernelspec": {
   "display_name": "Python 3",
   "language": "python",
   "name": "python3"
  },
  "language_info": {
   "codemirror_mode": {
    "name": "ipython",
    "version": 3
   },
   "file_extension": ".py",
   "mimetype": "text/x-python",
   "name": "python",
   "nbconvert_exporter": "python",
   "pygments_lexer": "ipython3",
   "version": "3.6.0"
  }
 },
 "nbformat": 4,
 "nbformat_minor": 2
}
