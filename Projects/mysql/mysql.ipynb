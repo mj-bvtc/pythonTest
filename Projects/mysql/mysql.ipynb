{
 "cells": [
  {
   "cell_type": "code",
   "execution_count": 67,
   "metadata": {},
   "outputs": [
    {
     "name": "stdout",
     "output_type": "stream",
     "text": [
      "Matt 26\n",
      "Cole 26\n"
     ]
    }
   ],
   "source": [
    "#!/usr/bin/python\n",
    "\n",
    "hostname = 'localhost'\n",
    "username = 'root'\n",
    "password = 'violin7'\n",
    "database = 'sys'\n",
    "\n",
    "# Simple routine to run a query on a database and print the results:\n",
    "def doQuery( conn ) :\n",
    "    cur = conn.cursor()\n",
    "\n",
    "    cur.execute( \"SELECT name, age FROM sys.people\" )\n",
    "\n",
    "    for name, age in cur.fetchall() :\n",
    "        print (name, age)\n",
    "\n",
    "import pymysql\n",
    "myConnection = pymysql.connect( host=hostname, user=username, passwd=password, db=database )\n",
    "doQuery( myConnection )\n",
    "myConnection.close()"
   ]
  },
  {
   "cell_type": "code",
   "execution_count": 78,
   "metadata": {},
   "outputs": [
    {
     "name": "stdout",
     "output_type": "stream",
     "text": [
      "(('Matt',), ('Cole',))\n"
     ]
    }
   ],
   "source": [
    "class database:\n",
    "    def __init__(self, host, user, password, database):\n",
    "        self.connection = pymysql.connect(host, user, password, database)\n",
    "        self.cur = self.connection.cursor()\n",
    "        \n",
    "    def sql(self, cmd):\n",
    "        self.cur.execute(cmd)\n",
    "        return self.cur.fetchall()\n",
    "    \n",
    "    def __enter__(self):\n",
    "        return self\n",
    "\n",
    "    def __exit__(self, exc_type, exc_val, exc_tb):\n",
    "        if self.connection:\n",
    "            self.connection.close()\n",
    "\n",
    "with database(\"localhost\", \"root\",\"violin7\",\"sys\") as db:\n",
    "    result = db.sql(\"SELECT name FROM sys.people\")\n",
    "    print(result)\n"
   ]
  },
  {
   "cell_type": "code",
   "execution_count": null,
   "metadata": {},
   "outputs": [],
   "source": []
  },
  {
   "cell_type": "code",
   "execution_count": null,
   "metadata": {
    "collapsed": true
   },
   "outputs": [],
   "source": []
  }
 ],
 "metadata": {
  "kernelspec": {
   "display_name": "Python 3",
   "language": "python",
   "name": "python3"
  },
  "language_info": {
   "codemirror_mode": {
    "name": "ipython",
    "version": 3
   },
   "file_extension": ".py",
   "mimetype": "text/x-python",
   "name": "python",
   "nbconvert_exporter": "python",
   "pygments_lexer": "ipython3",
   "version": "3.6.1"
  }
 },
 "nbformat": 4,
 "nbformat_minor": 2
}
