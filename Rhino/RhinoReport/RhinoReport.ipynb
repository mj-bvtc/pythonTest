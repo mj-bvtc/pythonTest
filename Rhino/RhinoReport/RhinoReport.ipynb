{
 "cells": [
  {
   "cell_type": "code",
   "execution_count": null,
   "metadata": {},
   "outputs": [],
   "source": [
    "import os\n",
    "import collections\n",
    "import HiddenFiles\n",
    "import datetime\n",
    "import tkinter as tk\n",
    "from tkinter.filedialog import askdirectory\n",
    "\n",
    "\n",
    "def rhino_report(target):\n",
    "    \"\"\"\n",
    "    Walks through provided target path and reports\n",
    "    on the quantities of different file types\n",
    "\n",
    "    parameter: target\n",
    "\n",
    "    returns: None\n",
    "    \"\"\"\n",
    "\n",
    "    timestamp = datetime.datetime.now().strftime(\"%Y%m%d%H%M%S\")\n",
    "    report_name = \"RhinoReport_\" + timestamp + \".txt\"\n",
    "    report_path = os.path.join(target, report_name)\n",
    "    report = open(report_path, \"w\")\n",
    "    report.write(datetime.datetime.now().strftime(\"%Y-%m-%d %H:%M:%S\") + \"\\n\\n\")\n",
    "    dir_count = 0\n",
    "    found_rhino = 0\n",
    "    found_obj = 0\n",
    "    count_global = collections.Counter()  # built-in counting object, used globally\n",
    "    print(f\"Report for path: {target}\\n\", file=report)\n",
    "\n",
    "    # walk the tree of the specified target path\n",
    "    for root, dirs, files in os.walk(target):\n",
    "\n",
    "        # remove hidden files, .psx extensions, and directories that end in .files\n",
    "        files[:] = [f for f in files if not (HiddenFiles.is_hidden(os.path.join(root, f)))]\n",
    "        files[:] = [f for f in files if not (f.endswith(\".psx\") or\n",
    "                    f.endswith(\".3dmbak\") or f.endswith(\".txt\"))]\n",
    "        dirs[:] = [d for d in dirs if not d.endswith(\".files\")]\n",
    "\n",
    "        # only concerned with areas that contain files\n",
    "\n",
    "        if files:\n",
    "            dir_count += 1\n",
    "            count = collections.Counter()   # instantiate local counter\n",
    "            new_root = root.replace(target+\"\\\\\", \"\")\n",
    "            print(f\"{new_root} contains: \", file=report)\n",
    "\n",
    "            # search and count file extensions\n",
    "            for file in files:\n",
    "                name, ext = os.path.splitext(file)\n",
    "                if ext.upper() == \".3DM\":\n",
    "                    found_rhino += 1\n",
    "                if ext.upper() == \".OBJ\":\n",
    "                    found_obj += 1\n",
    "                count[ext] += 1         # increment local count\n",
    "                count_global[ext] += 1  # increment global count\n",
    "                # print(file)            # if interested, uncomment this to see files\n",
    "            print(count, file=report)\n",
    "\n",
    "        print(\"\\n\", file=report)                     # create a visual space between directories\n",
    "\n",
    "    # print summary to report, .txt\n",
    "    print(\"\\n***\\n\", file=report)\n",
    "    print(\"Global counts: \", file=report)\n",
    "    print(count_global, file=report)\n",
    "    missing_rhino = dir_count - found_rhino\n",
    "    missing_obj = dir_count - found_obj\n",
    "    print(f\"\\n\\nSummary:\\nNumber of Directories: {dir_count}\\n\"\n",
    "          f\"Number of missing Rhino files: {missing_rhino}\"\n",
    "          f\"\\nNumber of missing OBJ files: {missing_obj}\", file=report)\n",
    "\n",
    "    # print the following to console\n",
    "    print(f\"Searching this directory {target}\")\n",
    "    print(f\"\\n\\nSummary:\\nNumber of Directories: {dir_count}\\n\"\n",
    "          f\"Number of missing Rhino files: {missing_rhino}\"\n",
    "          f\"\\nNumber of missing OBJ files: {missing_obj}\")\n",
    "    report.close()\n",
    "\n",
    "\n",
    "def main():\n",
    "    dial = tk.Tk()\n",
    "    dial.withdraw()\n",
    "    target = askdirectory()\n",
    "    rhino_report(target)\n",
    "\n",
    "if __name__ == \"__main__\":\n",
    "    main()"
   ]
  },
  {
   "cell_type": "code",
   "execution_count": null,
   "metadata": {
    "collapsed": true
   },
   "outputs": [],
   "source": []
  },
  {
   "cell_type": "code",
   "execution_count": null,
   "metadata": {
    "collapsed": true
   },
   "outputs": [],
   "source": []
  },
  {
   "cell_type": "code",
   "execution_count": null,
   "metadata": {
    "collapsed": true
   },
   "outputs": [],
   "source": []
  },
  {
   "cell_type": "code",
   "execution_count": null,
   "metadata": {
    "collapsed": true
   },
   "outputs": [],
   "source": []
  },
  {
   "cell_type": "code",
   "execution_count": null,
   "metadata": {
    "collapsed": true
   },
   "outputs": [],
   "source": []
  },
  {
   "cell_type": "code",
   "execution_count": null,
   "metadata": {
    "collapsed": true
   },
   "outputs": [],
   "source": []
  }
 ],
 "metadata": {
  "kernelspec": {
   "display_name": "Python 3",
   "language": "python",
   "name": "python3"
  },
  "language_info": {
   "codemirror_mode": {
    "name": "ipython",
    "version": 3
   },
   "file_extension": ".py",
   "mimetype": "text/x-python",
   "name": "python",
   "nbconvert_exporter": "python",
   "pygments_lexer": "ipython3",
   "version": "3.6.1"
  }
 },
 "nbformat": 4,
 "nbformat_minor": 2
}
